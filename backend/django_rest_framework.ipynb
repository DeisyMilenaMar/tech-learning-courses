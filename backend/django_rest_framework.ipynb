{
 "cells": [
  {
   "cell_type": "markdown",
   "id": "6398f17a-3072-447a-9bcb-4f01fb0433de",
   "metadata": {},
   "source": [
    "### HTTP y HTTPS\n",
    "\n",
    "| Concepto | Descripción |\n",
    "|----------|------------|\n",
    "| **HTTP (Hypertext Transfer Protocol)** | Protocolo de comunicación para transferir datos en la web. <br> Se usa para cargar páginas web, imágenes y enviar formularios. |\n",
    "| **HTTPS (Hypertext Transfer Protocol Secure)** | Versión segura de HTTP que cifra los datos antes de transmitirlos, evitando que sean robados o interceptados. |\n",
    "| **Componentes clave** | - **Cliente**: envía la solicitud (ej. navegador). <br> - **Servidor**: recibe la solicitud y responde con el contenido. |\n",
    "| **Proceso de comunicación** | 1️⃣ El cliente envía una solicitud al servidor. <br> 2️⃣ El servidor procesa la solicitud y envía una respuesta. |\n",
    "| **Diferencias entre HTTP y HTTPS** | 🔸 **HTTP**: sin cifrado, datos vulnerables a ataques, datos enviados en texto plano <br> 🔹 **HTTPS**: usa cifrado para proteger datos sensibles como tarjetas de crédito y contraseñas. |\n",
    "\n",
    "---"
   ]
  },
  {
   "cell_type": "markdown",
   "id": "b2080fb9-d2ec-42d3-9fcd-7cc6cb1836fc",
   "metadata": {},
   "source": [
    "#### HTTP Requests (Solicitudes HTTP)"
   ]
  },
  {
   "cell_type": "code",
   "execution_count": null,
   "id": "1fd67968-e632-433f-b582-1ec8952560b0",
   "metadata": {},
   "outputs": [],
   "source": [
    "<METHOD> <URL> HTTP/1.1\n",
    "Host: <server>\n",
    "Headers: <opcional>\n",
    "Body: <opcional>"
   ]
  },
  {
   "cell_type": "markdown",
   "id": "763c3be3-d0c3-41be-b80e-6ba6c021ad7c",
   "metadata": {},
   "source": [
    "| Elemento | Descripción |\n",
    "|----------|------------|\n",
    "| **HTTP version** | Versión del protocolo HTTP (ej. 1.1 o 2.0). |\n",
    "| **URL o Path** | Dirección del recurso solicitado. |\n",
    "| **Método HTTP** | Indica la acción a realizar (GET, POST, etc.). |\n",
    "| **Headers (Encabezados HTTP)** | Información adicional que guía al servidor. Ejemplos: <br> 🔹 `User-Agent`: identifica el navegador del cliente. <br> 🔹 `Cookie`: almacena información de sesión. <br> 🔹 `Referrer`: indica la página de origen. |\n",
    "| **Body (Cuerpo de la solicitud)** | Contiene datos enviados al servidor. Se usa en métodos como POST y PUT. Puede estar en formato JSON o `form-urlencoded`. |\n",
    "\n",
    "---"
   ]
  },
  {
   "cell_type": "markdown",
   "id": "1410d0c2-00b6-49a3-ba5d-effeeeabeea9",
   "metadata": {},
   "source": [
    "#### HTTP Responses (Respuestas HTTP)\n",
    "\n",
    "| Elemento | Descripción |\n",
    "|----------|------------|\n",
    "| **Status Code (Código de estado HTTP)** | Código numérico que indica el resultado de la solicitud. |\n",
    "| **Response Headers (Encabezados de respuesta)** | Información sobre la respuesta. Ejemplos: <br> 🔹 `Content-Type`: tipo de contenido devuelto (HTML, JSON, etc.). <br> 🔹 `Set-Cookie`: establece cookies para futuras solicitudes. |\n",
    "| **Response Body (Cuerpo de la respuesta)** | Contiene el contenido solicitado (página web, JSON, etc.). |\n",
    "\n",
    "---"
   ]
  },
  {
   "cell_type": "markdown",
   "id": "2dfa0616-6218-4ae0-b53c-98be581bb926",
   "metadata": {},
   "source": [
    "## REST API"
   ]
  },
  {
   "cell_type": "markdown",
   "id": "00ef5337-f3ab-4eda-96b5-cf5775b1f187",
   "metadata": {},
   "source": [
    "| Concepto        | Explicación |\n",
    "|----------------|------------|\n",
    "| **API (Application Programming Interface)**| Interfaz que permite acceder y modificar datos en un servidor. |\n",
    "| **REST (Representational State Transfer)** | Estilo arquitectónico para diseñar APIs de forma sencilla y eficiente. |\n",
    "| Beneficio     | Desarrollo rápido y fácil de mantener. |\n",
    "| **Recursos en REST APIs**   | Son objetos o datos accesibles a través de la API. <br> Cada recurso tiene un identificador único en la URL. |"
   ]
  },
  {
   "cell_type": "markdown",
   "id": "e3d916c9-9e5e-4bd3-a023-969def56535f",
   "metadata": {},
   "source": [
    "###  Características de una REST API (Restricciones)\n",
    "| Restricción            | Explicación |\n",
    "|------------------------|------------|\n",
    "| **Cliente-Servidor**  | Separación entre cliente (quien consume los datos) y servidor (quien los proporciona). |\n",
    "| **Stateless (Sin estado)**         | Cada solicitud es independiente, el servidor no guarda información previa. |\n",
    "| **Cacheable (Almacenable en caché)**         | Permite almacenar respuestas para reducir carga en el servidor. |\n",
    "| **Layered System (Sistema en capas)**    | Arquitectura dividida en capas (Firewall, balanceador de carga, servidor web y una base de datos). |\n",
    "| **Uniform Interface** | Uso de URLs únicas y formatos estándar como JSON o XML. |\n",
    "| **Code on Demand**    | (Opcional) El servidor puede enviar código ejecutable al cliente. |\n",
    "\n",
    "---"
   ]
  },
  {
   "cell_type": "markdown",
   "id": "7c9bfde4-b04e-4d04-9dab-fef93e363c0b",
   "metadata": {},
   "source": [
    "## Convención y nomenclatura URI, EndPoint o URL path\n",
    "* URI : identificador único de recursos"
   ]
  },
  {
   "cell_type": "markdown",
   "id": "4cd2a690-c13d-4d0d-b78f-e09701efd78f",
   "metadata": {},
   "source": [
    "| **Regla**                                | **Concepto**              | **Sintaxis**               |\n",
    "|------------------------------------------|----------------------------------|--------------------------------------|\n",
    "| *Formato  en minúsculas*           | <br> -Las URIs deben escribirse completamente en minúsculas. <br> - Se deben separar con guiones (-)  <br> -  No se deben usar guiones bajos (_), camelCase o PascalCase.    | <br> `/recurso-principal`  <br> `/recurso-secundario` <br>`/recurso-principal/recurso-secundario` |\n",
    "| *Identificadores*       | <br> - Cuando un endpoint requiere un identificador, se debe envolver entre llaves (`{}`).  <br> -  Los identificadores deben estar en camelCase.     | `/recurso/{recursoId}` <br>  `/recurso/{recursoId}/subrecurso` <br> Ej. `/orders/{orderId}`|\n",
    "| *Jerarquía con `/`*                    | <br> - Si un recurso está relacionado con otro, se debe representar la relación mediante barras inclinadas (`/`) | `/recurso-principal/recurso-secundario`  <br> `/recurso/{recursoId}/subrecurso` |\n",
    "| *Uso de sustantivos, no verbos*        | <br>  Los nombres de los endpoints deben ser sustantivos y nunca verbos. <br>  No se debe usar verbos como get, update, delete dentro de la URL  <br>   Los métodos HTTP (GET, POST, PUT, DELETE) ya indican la acción.          | `/recurso/{recursoId}/atributo`   <br> Ej. Información de un usuario: `/users/{userId} `   <br> Ej. Eliminar un usuario:`DELETE /users/{userId} `  <br> Ej. Actualizar una orden: `PUT /orders/{orderId}`        |\n",
    "| *Evitar extensiones de archivos*       |<br> No se deben usar extensiones como .json o .xml en los endpoints <br> En su lugar, se debe especificar el formato con query parameters.   | `/recurso/{recursoId}?format=json`  <br> `/recurso/{recursoId}?format=xml`  <br> Ej. `/orders/{orderId}?format=json`   |\n",
    "| *Filtrado con query parameters*        | <br>   Para realizar filtros o búsquedas, se deben usar query parameters (?).  <br> Los parámetros de consulta (?param=value) se usan para filtrar o buscar datos en una colección.       | `/recurso?parametro=valor`  <br> `/recurso?filtro1=valor1&filtro2=valor2`    <br>   Ej. Filtrar elementos del menú por categoría: <br>  `/menu-items?category=appetizer `       |\n",
    "| *No usar barra inclinada al final*     | No es recomendable terminar los endpoints con `/`.                        | Correcto:`/recurso` <br> Incorrecto: `/recurso/` <br> Ej. `/sports/basketball/teams/`|\n",
    "| *Paginación y ordenación* | <br> - Usar query parameters para definir número de resultados y orden. | <br> `/articles?page=2&per-page=10` <br> `/products?sort=price&order=asc` |\n",
    "| *Evitar caracteres especiales*       | <br> - No usar  `^`, `&`, etc. en las URLs. <br> - Para listas de IDs, usar comas. | `/users/12,23,34/address` |\n",
    "| *Usar nombres descriptivos y no abreviados* | <br> - Evitar abreviaciones sin sentido en las URIs. | Correcto: `/customers/phone-number` <br> Incorrecto: `/customers/tel-no` |\n",
    "\n",
    "---\n"
   ]
  },
  {
   "cell_type": "code",
   "execution_count": null,
   "id": "0e4f7c41-b596-4a57-a5a4-77c67e4ff2df",
   "metadata": {},
   "outputs": [],
   "source": []
  }
 ],
 "metadata": {
  "kernelspec": {
   "display_name": "Python 3 (ipykernel)",
   "language": "python",
   "name": "python3"
  },
  "language_info": {
   "codemirror_mode": {
    "name": "ipython",
    "version": 3
   },
   "file_extension": ".py",
   "mimetype": "text/x-python",
   "name": "python",
   "nbconvert_exporter": "python",
   "pygments_lexer": "ipython3",
   "version": "3.12.3"
  }
 },
 "nbformat": 4,
 "nbformat_minor": 5
}
