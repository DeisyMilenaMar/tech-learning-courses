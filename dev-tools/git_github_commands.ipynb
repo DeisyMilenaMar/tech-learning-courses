{
 "cells": [
  {
   "cell_type": "markdown",
   "id": "366a0db0-fb9b-4f81-b827-ff9477948030",
   "metadata": {},
   "source": [
    "## Comandos en Linux/Unix"
   ]
  },
  {
   "cell_type": "markdown",
   "id": "98e1439e-da82-426a-94b0-da9e7f30e16a",
   "metadata": {},
   "source": [
    "*Diferencias entre Unix y Linux*:\n",
    "\n",
    "* **Unix**: Creado en 1969 por Ken Thompson y Dennis Ritchie.\n",
    "* **Linux**: Creado en 1991 por Linus Torvalds como un sistema basado en Unix.\n",
    "* Importancia: El 90% de los servidores en la nube usan Linux.\n"
   ]
  },
  {
   "cell_type": "markdown",
   "id": "13fcf403-da46-40ea-b0c0-7f2b33760331",
   "metadata": {},
   "source": [
    "### 1. Comandos Básicos de la Línea de Comandos\n",
    "| **Comando** | **Función** | **Ejemplo** |\n",
    "|------------|------------|-------------|\n",
    "| `pwd` | Muestra la ruta del directorio actual | `pwd` |\n",
    "| `ls` | Lista archivos y carpetas en el directorio actual | `ls` |\n",
    "| `cd` | Cambia de directorio | `cd Desktop/` |\n",
    "| `mkdir` | Crea una nueva carpeta | `mkdir myFolder` |\n",
    "| `touch` | Crea un nuevo archivo vacío | `touch example.txt` |\n",
    "| `cp` | Copia archivos o carpetas | `cp file.txt backup.txt` |\n",
    "| `mv` | Mueve o renombra archivos o carpetas | `mv file.txt newname.txt` |\n",
    "| `rm` | Elimina archivos | `rm file.txt` |\n",
    "| `rmdir` | Elimina carpetas vacías | `rmdir myFolder` |\n",
    "| `history` | Muestra los comandos recientes ejecutados | `history` |\n",
    "| `mkdir -p dir2/dir3` | Crear una estructura de carpetas | `mkdir -p carpeta1/carpeta2/carpeta3` |\n",
    "\n",
    "### 2. Comandos Unix Útiles\n",
    "| **Comando** | **Función** | **Ejemplo** |\n",
    "|------------|------------|-------------|\n",
    "| `ls -l` | Lista archivos en formato de lista con detalles | `ls -l` |\n",
    "| `ls -a` | Lista todos los archivos, incluyendo ocultos | `ls -a` |\n",
    "| `man` | Muestra el manual de un comando | `man ls` |\n",
    "\n",
    "\n",
    "### 3. Navegación y Exploración en la Línea de Comandos\n",
    "| **Comando** | **Función** | **Ejemplo** |\n",
    "|------------|------------|-------------|\n",
    "| `pwd` | Muestra el directorio actual | `pwd` |\n",
    "| `cd` | Cambia de directorio | `cd /etc` |\n",
    "| `cd ..` | Subir un nivel en la estructura de carpetas | `cd ..` |\n",
    "| `ls` | Lista archivos del directorio actual | `ls` |\n",
    "\n",
    "\n",
    "### 4. Indicadores en los Comandos\n",
    "Los **indicadores** (flags) modifican el comportamiento de un comando.\n",
    "\n",
    "| **Comando** | **Indicador** | **Descripción** | **Ejemplo** |\n",
    "|------------|--------------|----------------|-------------|\n",
    "| `ls` | `-l` | Lista archivos con detalles | `ls -l` |\n",
    "| `ls` | `-a` | Muestra archivos ocultos | `ls -a` |\n",
    "| `ls` | `-la` | Lista archivos con detalles e incluye ocultos | `ls -la` |\n",
    "\n",
    "### 5. Cómo Identificar Archivos y Directorios\n",
    "Al listar archivos con `ls -l`, se puede identificar su tipo:\n",
    "\n",
    "| **Símbolo** | **Tipo** |\n",
    "|------------|---------|\n",
    "| `-` | Archivo normal |\n",
    "| `d` | Directorio |\n",
    "| `l` | Enlace simbólico |\n",
    "\n",
    "\n",
    "### 6. Visualización del Contenido de Archivos\n",
    "\n",
    "| **Comando** | **Función** | **Sintaxis** | **Ejemplo** |\n",
    "|------------|------------|-------------|-------------|\n",
    "| `cat` | Muestra el contenido de un archivo | `cat nombre_del_archivo` | `cat file1.txt` → Muestra el texto dentro de `file1.txt` |\n",
    "| `less` | Muestra el contenido de un archivo página por página | `less nombre_del_archivo` | `less file1.txt` (permite desplazarse con las flechas) |\n",
    "| `head` | Muestra las primeras líneas de un archivo | `head -n N nombre_del_archivo` | `head -n 5 file1.txt` (muestra las primeras 5 líneas) |\n",
    "| `tail` | Muestra las últimas líneas de un archivo | `tail -n N nombre_del_archivo` | `tail -n 5 file1.txt` (muestra las últimas 5 líneas) |\n",
    "\n",
    "---\n",
    "\n",
    "### 7. Contar Palabras, Líneas y Caracteres en un Archivo\n",
    "\n",
    "| **Comando** | **Función** | **Sintaxis** | **Ejemplo** |\n",
    "|------------|------------|-------------|-------------|\n",
    "| `wc -w` | Cuenta el número de palabras en un archivo | `wc -w nombre_del_archivo` | `wc -w file1.txt` → `181 file1.txt` (181 palabras) |\n",
    "| `wc -l` | Cuenta el número de líneas en un archivo | `wc -l nombre_del_archivo` | `wc -l file1.txt` → `20 file1.txt` (20 líneas) |\n",
    "| `wc -c` | Cuenta el número de caracteres en un archivo | `wc -c nombre_del_archivo` | `wc -c file1.txt` → `1024 file1.txt` (1024 caracteres) |\n"
   ]
  },
  {
   "cell_type": "markdown",
   "id": "4df13632-1644-4196-bac9-1bb58deb47fd",
   "metadata": {},
   "source": [
    "### Redireccionamiento en Linux"
   ]
  },
  {
   "cell_type": "markdown",
   "id": "e1ba26db-7780-43ff-ba39-ec3b08b43d9a",
   "metadata": {},
   "source": [
    "**Tipos de redireccionamiento en Linux**\n",
    "\n",
    "| **Tipo**                | **Número Asociado** | **Descripción**                                    | **Símbolo** |\n",
    "|-------------------------|--------------------|----------------------------------------------------|-------------|\n",
    "| **Entrada estándar (stdin)**  | `0`                | Proviene del teclado u otro origen de entrada.     | `<`         |\n",
    "| **Salida estándar (stdout)**  | `1`                | Muestra el resultado del comando en la pantalla.  | `>`         |\n",
    "| **Error estándar (stderr)**   | `2`                | Muestra mensajes de error en la pantalla.         | `2>`        |\n",
    "\n",
    "\n",
    "**Diferencia clave entre `>` y `>>`:**\n",
    "\n",
    "| **Símbolo** | **Descripción**                                                                 | **Efecto**                                                             | **Ejemplo**                    |\n",
    "|-------------|---------------------------------------------------------------------------------|------------------------------------------------------------------------|--------------------------------|\n",
    "| `>`         | Redirige la salida estándar a un archivo y **sobrescribe** su contenido si ya existe. | Borra el contenido anterior del archivo y lo reemplaza con la salida del comando. | `ls > listado.txt`            |\n",
    "| `>>`        | Redirige la salida estándar a un archivo y **añade** al final del archivo sin borrar su contenido anterior. | Agrega la salida del comando al final del archivo. Si el archivo no existe, lo crea. | `echo \"Nuevo texto\" >> archivo.txt` |\n",
    "\n",
    " **Resumen:**\n",
    "- **`>`** se usa para **sobrescribir** el archivo con la salida del comando.\n",
    "- **`>>`** se usa para **añadir** la salida al final del archivo sin borrar el contenido existente.\n"
   ]
  },
  {
   "cell_type": "markdown",
   "id": "45bf0554-0cd8-4763-9792-cd26a1ef185c",
   "metadata": {},
   "source": [
    "### Grep : buscar y filtrar patrones dentro de archivos y carpetas"
   ]
  },
  {
   "cell_type": "markdown",
   "id": "a118b0e1-03c7-406b-b451-49a5b0d88935",
   "metadata": {},
   "source": [
    "**Uso** : se utiliza para buscar cadenas de texto dentro de archivos de texto."
   ]
  },
  {
   "cell_type": "markdown",
   "id": "c2da4dc1-09fe-44b8-8b97-4f9543c60e95",
   "metadata": {},
   "source": [
    "**Sintaxi básica**: Ejecutar en la terminal de comandos. "
   ]
  },
  {
   "cell_type": "code",
   "execution_count": null,
   "id": "71ad5230-e8c3-4319-90ec-b58f491f8791",
   "metadata": {},
   "outputs": [],
   "source": [
    "grep [opciones] patrón archivo\n",
    "\n",
    "# patrón: La cadena de texto o expresión regular que quieres buscar\n",
    "#archivo: El archivo o archivos donde deseas buscar el patrón."
   ]
  },
  {
   "cell_type": "markdown",
   "id": "ca5c0e18-cdbc-4c63-9675-fc5a6a6066f6",
   "metadata": {},
   "source": [
    "| **Comando** | **Descripción** | **Ejemplo** |\n",
    "|-------------|-----------------|-------------|\n",
    "| `grep patrón archivo` | Búsqueda básica de un patrón dentro de un archivo | `grep Sam names.txt` |\n",
    "| `grep -i patrón archivo` | Ignora la distinción entre mayúsculas y minúsculas | `grep -i Sam names.txt` |\n",
    "| `grep -w patrón archivo` | Busca coincidencia exacta (palabra completa) Ej. Sam | `grep -w Sam names.txt` |\n",
    "\n",
    "*Opciones*:\n",
    "- **`-i`**: Ignorar mayúsculas y minúsculas.\n",
    "- **`-w`**: Coincidir solo con palabras completas.\n",
    "- **`|`**: Canalizar la salida de un comando hacia otro."
   ]
  },
  {
   "cell_type": "markdown",
   "id": "0dff2e9b-f006-41ae-b6fe-a1e8edcaa114",
   "metadata": {},
   "source": [
    "**Ejemplo**:"
   ]
  },
  {
   "cell_type": "code",
   "execution_count": null,
   "id": "a0b4fe0f-7c8e-4f77-841d-277c888cfb4b",
   "metadata": {},
   "outputs": [],
   "source": [
    "grep Sam names.txt\n",
    "\n",
    "#buscaría todos los casos en los que \"Sam\" aparece dentro del archivo names.txt."
   ]
  },
  {
   "cell_type": "markdown",
   "id": "3a893a6c-a36d-45e1-ac6f-7fa503fc945e",
   "metadata": {},
   "source": [
    "## Sistemas de control de versiones "
   ]
  },
  {
   "cell_type": "markdown",
   "id": "ad9308fe-b489-41cf-9ae4-83359ec76cff",
   "metadata": {},
   "source": [
    "#### Configuración  \n",
    "| Comando | Función | Sintaxis | Ejemplo |  \n",
    "|---------|---------|---------|---------|  \n",
    "| `git config --global user.name` | Configura el nombre de usuario globalmente | `git config --global user.name \"<nombre>\"` | `git config --global user.name \"Juan Pérez\"` |  \n",
    "| `git config --global user.email` | Configura el correo electrónico globalmente | `git config --global user.email \"<email>\"` | `git config --global user.email \"user@example.com\"` |  \n",
    "| `git version` | Muestra la versión instalada de Git | `git version` | `git version` |  "
   ]
  },
  {
   "cell_type": "markdown",
   "id": "8436d252-3977-441c-9493-237f58443044",
   "metadata": {},
   "source": [
    "#### Gestión de Repositorios\n",
    "| Comando | Función | Sintaxis | Ejemplo |  \n",
    "|---------|---------|---------|---------|  \n",
    "| `git init` | Crea un nuevo repositorio Git vacío en la carpeta actual o en la ruta indicada. | `git init <directorio>` | `git init my-project` |  \n",
    "| `git clone` | Descarga una copia exacta de un repositorio remoto y la guarda en una carpeta local. | `git clone <URL>` | `git clone https://github.com/user/repo.git` |  \n",
    "| `git remote add` |  Agrega un repositorio remoto llamado “origin” con la URL especificada. | `git remote add <nombre> <URL>` | `git remote add origin https://github.com/user/repo.git` |  \n",
    "| `git remote -v` | Lista los repositorios remotos asociados y sus URL para ver con cuáles está vinculado el repositorio local. | `git remote -v` | `git remote -v` |  \n",
    "| `git remote rename` | Cambia el nombre de un repositorio remoto ya vinculado. | `git remote rename <nombre_actual> <nuevo_nombre>` | `git remote rename origin upstream` |  \n",
    "| `git remote rm` | Elimina un repositorio remoto con el nombre especificado. | `git remote rm <nombre>` | `git remote rm origin` |  \n",
    "| `git remote show` | Muestra información detallada del repositorio remoto, incluyendo las ramas disponibles. | `git remote show <nombre>` | `git remote show origin` |  \n"
   ]
  },
  {
   "cell_type": "markdown",
   "id": "365511e3-dd21-44e4-83a6-681de21a9d4b",
   "metadata": {},
   "source": [
    "#### Ramas y Fusión\n",
    "| Comando | Función | Sintaxis | Ejemplo |\n",
    "|---------|---------|---------|--------|\n",
    "| `git branch` |  Muestra todas las ramas disponibles en el repositorio. La rama actual con *.| `git branch` | `git branch feature-x` |\n",
    "| `git checkout` | Cambia entre ramas existentes | `git checkout <nombre_rama>` | `git checkout main` |\n",
    "| `git checkout -b` | Crea una nueva rama y cambia a ella | `git checkout -b <nombre_rama>` | `git checkout -b nueva-rama` |\n",
    "| `git switch` | Cambia entre ramas (alternativa moderna a `checkout`) | `git switch <nombre_rama>` | `git switch develop` |\n",
    "| `git switch -c` | Crea una nueva rama y cambia a ella | `git switch -c <nombre_rama>` | `git switch -c feature-x` |\n",
    "| `git merge` | Fusiona cambios de una rama en otra | `git merge <nombre_rama>` | `git merge feature-x` |\n"
   ]
  },
  {
   "cell_type": "markdown",
   "id": "1a25e6fb-03f7-4fc4-ba90-8d821e7b61b0",
   "metadata": {},
   "source": [
    "#### Trabajando con Repositorios Remotos\n",
    "| Comando | Función | Sintaxis | Ejemplo |\n",
    "|---------|---------|---------|--------|\n",
    "| `git fetch` | Obtiene cambios sin fusionarlos | `git fetch <remoto>` | `git fetch origin` |\n",
    "| `git pull` | Obtiene y fusiona cambios del repositorio remoto | `git pull origin <nombre_rama>` | `git pull origin main` |\n",
    "| `git push` | Sube cambios al repositorio remoto | `git push origin <nombre_rama>` | `git push origin feature-x` |"
   ]
  },
  {
   "cell_type": "markdown",
   "id": "a43f506b-2fd3-4fdb-b959-2d8f812119b9",
   "metadata": {},
   "source": [
    "#### Historial y Revisiones\n",
    "| Comando | Función | Sintaxis | Ejemplo |\n",
    "|---------|---------|---------|--------|\n",
    "| `git log` | Muestra el historial de commits | `git log`, `git log -p <archivo>` | `git log -p README.md` |\n",
    "| `git revert` | Revierte un commit creando un nuevo commit contrario | `git revert <commit>` | `git revert HEAD` |\n",
    "| `git revert` |Este comando revierte el último commit sin abrir un editor de texto.  Esto crea un nuevo commit que revierte los cambios del último commit, sin modificar el historial de commits (a diferencia de git reset). | `git revert HEAD --no-edit` | `git revert HEAD --no-edit` |\n",
    "| `git commit --amend` | Modifica el último commit realizado | `git commit --amend` | Si olvidaste un archivo en el último commit, agrégalo con `git add` y usa `git commit --amend` |\n",
    "| `git reset` | Restablece los cambios en el directorio de trabajoon –hard HEAD, este comando descarta todos los cambios realizados en el directorio de trabajo y el área de preparación y restablece el repositorio al último commit (HEAD). | `git reset –hard HEAD` |"
   ]
  },
  {
   "cell_type": "markdown",
   "id": "aafb870d-bf1c-4158-9940-fddc72eed81a",
   "metadata": {},
   "source": [
    "#### Preparación de Archivos y Confirmación de Cambios\n",
    "| Comando | Función | Sintaxis | Ejemplo |\n",
    "|---------|---------|---------|--------|\n",
    "| `git add` | Añade archivos a la zona de preparación (staging) | `git add <archivo>` | `git add test.txt` |\n",
    "| `git add -A` | Añade todos los cambios (modificados, eliminados, nuevos archivos) | `git add -A` | `git add -A` |\n",
    "| `git restore --staged` | Elimina/revierte un archivo de la zona de preparación (staging) sin perder cambios | `git restore --staged <archivo>` | `git restore --staged test.txt` |\n",
    "| `git commit` | Guarda los cambios en un commit | `git commit -m \"<mensaje>\"` | `git commit -m \"Corrección de errores\"` |\n",
    "| `git tag` | Crea una etiqueta en un commit específico | `git tag <nombre>` | `git tag v1.0` |"
   ]
  },
  {
   "cell_type": "markdown",
   "id": "17f75444-a892-409d-aecd-0558c058ede0",
   "metadata": {},
   "source": [
    "#### Enviar y Obtener Cambios desde el Repositorio Remoto\n",
    "| Comando | Función | Sintaxis | Ejemplo |\n",
    "|---------|---------|---------|--------|\n",
    "| `git push` | Envía commits locales al repositorio remoto | `git push origin <rama>` | `git push origin main` |\n",
    "| `git push -u` | Envía commits y establece la rama remota de seguimiento | `git push -u origin <rama>` | `git push -u origin feature/nueva-funcionalidad` |\n",
    "| `git pull` | Descarga cambios del repositorio remoto y los fusiona | `git pull origin <rama>` | `git pull origin main` |\n",
    "| `git fetch` | Descarga cambios del repositorio remoto sin fusionarlos | `git fetch <rama>` | `git fetch origin` |\n"
   ]
  },
  {
   "cell_type": "markdown",
   "id": "24a8b6f1-dc62-4eba-9384-fb5767648dd5",
   "metadata": {},
   "source": [
    "#### Gestión de Ramas y Fusiones\n",
    "| Comando | Función | Sintaxis | Ejemplo |\n",
    "|---------|---------|---------|--------|\n",
    "| `git merge` | Fusiona una rama en la rama actual | `git merge <rama>` | `git merge feature/nueva-funcionalidad` |\n",
    "| `git rebase` | Aplica los commits de una rama sobre otra para mantener un historial limpio | `git rebase <rama>` | `git rebase main` |\n",
    "| `git remote show origin` | Muestra detalles del repositorio remoto | `git remote show origin` | `git remote show origin` |\n"
   ]
  },
  {
   "cell_type": "markdown",
   "id": "8948d4ff-5ea9-4e5f-b464-fd7546456a12",
   "metadata": {},
   "source": [
    "#### Deshacer Cambios y Restaurar Estado\n",
    "| Comando | Función | Sintaxis | Ejemplo |\n",
    "|---------|---------|---------|--------|\n",
    "| `git reset` | Deshace un `git add` de un archivo o restaura un commit anterior | `git reset <archivo>` | `git reset test.txt` |\n",
    "| `git reset --hard` | Restaura el repositorio a un commit anterior, perdiendo cambios no confirmados | `git reset --hard <commit>` | `git reset --hard HEAD~1` |\n",
    "| `git stash` | Guarda temporalmente cambios no confirmados temporalmente, permite cambiar de rama sin perder cambios.| `git stash` | `git stash` |\n",
    "| `git stash pop` | Restaura los cambios guardados con `git stash` | `git stash pop` | `git stash pop` |\n"
   ]
  },
  {
   "cell_type": "markdown",
   "id": "4b43f1a3-d7c0-458b-9bf5-0ded22e186f6",
   "metadata": {},
   "source": [
    "####  Comparar cambios en archivos, commits y ramas antes de confirmarlos\n",
    "| Comando | Función | Sintaxis | Ejemplo |\n",
    "|---------|---------|----------|---------|\n",
    "| `git diff` | Muestra diferencias entre el directorio de trabajo y el último commit | `git diff` | `git diff` |\n",
    "| `git diff <archivo>` | Muestra cambios en un archivo específico antes del commit | `git diff <archivo>` | `git diff CITIES.txt` |\n",
    "| `git diff HEAD` | Compara archivos con el último commit | `git diff HEAD` | `git diff HEAD` |\n",
    "| `git diff HEAD <archivo>` | Compara un archivo específico con la última versión confirmada | `git diff HEAD <archivo>` | `git diff HEAD README.md` |\n",
    "| `git diff <commit1> <commit2>` | Compara dos commits diferentes | `git diff <commit1> <commit2>` | `git diff abc123 def456` |\n",
    "| `git diff <rama1> <rama2>` | Compara cambios entre dos ramas | `git diff <rama1> <rama2>` | `git diff main feature/nueva-funcionalidad` |\n",
    "| `git diff --staged` | Compara archivos en el área de preparación (`staging area`) con el último commit | `git diff --staged` | `git diff --staged` |\n",
    "| `git diff <commit1> <commit2> -- <archivo>` | Compara versiones específicas de un archivo entre dos commits | `git diff <commit1> <commit2> -- <archivo>` | `git diff abc123 def456 -- README.md` |"
   ]
  },
  {
   "cell_type": "markdown",
   "id": "5e185608-6a84-4981-9a8a-d96c03cf9c4d",
   "metadata": {},
   "source": [
    "####  Rastrear quién realizó cambios en un archivo, cuándo se hicieron y qué líneas fueron \n",
    "| Comando | Función | Sintaxis | Ejemplo |\n",
    "|---------|---------|----------|---------|\n",
    "| `git blame <archivo>` | Muestra los cambios línea por línea con el autor y fecha | `git blame <archivo>` | `git blame feature.js` |\n",
    "| `git blame -L <inicio>,<fin> <archivo>` | Muestra el historial de cambios en un rango de líneas específicas | `git blame -L <inicio>,<fin> <archivo>` | `git blame -L 5,15 setup.py` |\n",
    "| `git blame -e <archivo>` | Muestra los correos electrónicos de los autores en lugar de solo el nombre | `git blame -e <archivo>` | `git blame -e setup.py` |\n",
    "| `git blame -l <archivo>` | Muestra el ID del commit en su formato completo | `git blame -l <archivo>` | `git blame -l setup.py` |\n",
    "| `git log -p <commit>` | Muestra los cambios detallados de un commit específico obtenido de `git blame` | `git log -p <commit>` | `git log -p abc123` |"
   ]
  },
  {
   "cell_type": "markdown",
   "id": "929ea036-665f-4db6-83f2-adf54be48e66",
   "metadata": {},
   "source": [
    "### Tipos de sistemas de control de versiones (VCS)"
   ]
  },
  {
   "cell_type": "markdown",
   "id": "1f1d80b2-7518-4452-9ddd-26b03d6116d2",
   "metadata": {},
   "source": [
    "#### 1) Sistema de control de versiones centralizados (CVCS)"
   ]
  },
  {
   "cell_type": "markdown",
   "id": "d493166a-7723-4458-ad08-15f90cc175cd",
   "metadata": {},
   "source": [
    "+ Hay un solo servidor que almacena el historial completo del código.\n",
    "+ Los desarrolladores deben conectarse a este servidor para obtener el código más reciente.\n",
    "+ Cuando un desarrollador hace cambios, debe enviarlos al servidor para que los demás puedan verlos."
   ]
  },
  {
   "cell_type": "markdown",
   "id": "4386f2b3-637f-493b-9778-a0bad6966a28",
   "metadata": {},
   "source": [
    "**Ejemplo de herramientas CVCS**"
   ]
  },
  {
   "cell_type": "markdown",
   "id": "c5179cad-a49d-4a1c-a986-a13007849dbf",
   "metadata": {},
   "source": [
    "* Subversion (SVN)\n",
    "* Perforce\n",
    "* AWS Code Commit"
   ]
  },
  {
   "cell_type": "markdown",
   "id": "62cc8b93-5244-4139-b33f-8836bf6dc1a0",
   "metadata": {},
   "source": [
    "**Desventajas de CVCS**:\n",
    "\n",
    "* ❌ Necesita conexión al servidor para cualquier operación.\n",
    "* ❌ Si el servidor falla, se pierde el acceso a todo el historial del proyecto."
   ]
  },
  {
   "attachments": {
    "5e0a4cda-f378-44d7-84d7-a7a1ea6a5405.png": {
     "image/png": "[encoded data removed]"
    }
   },
   "cell_type": "markdown",
   "id": "f5e969fc-8998-44ee-80ed-7ced6cde8e99",
   "metadata": {},
   "source": [
    "![Captura desde 2025-02-03 14-41-25.png](attachment:5e0a4cda-f378-44d7-84d7-a7a1ea6a5405.png)"
   ]
  },
  {
   "cell_type": "markdown",
   "id": "ea486852-2fce-41e5-a219-8035c67ef460",
   "metadata": {},
   "source": [
    "#### 2) Sistema de control de versiones distribuidos (DVSC)"
   ]
  },
  {
   "attachments": {
    "484b1b83-6d15-4663-a847-13ac1aa6fb47.png": {
     "image/png": "[encoded data removed]"
    }
   },
   "cell_type": "markdown",
   "id": "727ad6ac-a3ab-4098-9900-ff4f675ce8e1",
   "metadata": {},
   "source": [
    "![Captura desde 2025-02-03 14-41-50.png](attachment:484b1b83-6d15-4663-a847-13ac1aa6fb47.png)"
   ]
  },
  {
   "cell_type": "markdown",
   "id": "6ef4cf75-f826-4ba4-985a-5dba1c4511d0",
   "metadata": {},
   "source": [
    "+ No hay un solo servidor central.\n",
    "+ Cada desarrollador tiene una copia completa del historial del proyecto en su equipo.\n",
    "+ Los cambios se pueden hacer sin conexión y luego sincronizarse con los demás.\n",
    "+ Más rápido y eficiente en comparación con CVCS\n",
    "+ Si el servidor falla, cada usuario tiene una copia completa del código."
   ]
  },
  {
   "cell_type": "markdown",
   "id": "6c802d1f-3788-450a-9913-aeef116083d0",
   "metadata": {},
   "source": [
    "**Ejemplo de herramientas DVCS**:\n",
    "+ Git (el más popular y ampliamente usado).\n",
    "+ Mercurial"
   ]
  }
 ],
 "metadata": {
  "kernelspec": {
   "display_name": "Python 3 (ipykernel)",
   "language": "python",
   "name": "python3"
  },
  "language_info": {
   "codemirror_mode": {
    "name": "ipython",
    "version": 3
   },
   "file_extension": ".py",
   "mimetype": "text/x-python",
   "name": "python",
   "nbconvert_exporter": "python",
   "pygments_lexer": "ipython3",
   "version": "3.12.3"
  }
 },
 "nbformat": 4,
 "nbformat_minor": 5
}
