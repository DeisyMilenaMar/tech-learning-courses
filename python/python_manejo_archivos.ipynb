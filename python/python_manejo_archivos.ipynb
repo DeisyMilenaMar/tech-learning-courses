{
 "cells": [
  {
   "cell_type": "markdown",
   "id": "98bc91ea-5bb5-485e-9260-aaa3653d649b",
   "metadata": {},
   "source": [
    "# Manejo de archivos"
   ]
  },
  {
   "cell_type": "markdown",
   "id": "816c85d9-f819-4d76-a3dd-0a9fbd05f105",
   "metadata": {},
   "source": [
    "## Manejo de archivos en Python"
   ]
  },
  {
   "cell_type": "markdown",
   "id": "4a13caa9-f1ad-432a-8ec7-f4deb2389051",
   "metadata": {},
   "source": [
    "*  Permite leer, escribir y modificar archivos de texto o binarios, lo cual es útil para almacenar y procesar datos de manera persistente."
   ]
  },
  {
   "cell_type": "markdown",
   "id": "fe65f473-7f62-4b8c-804e-8160888afccd",
   "metadata": {},
   "source": [
    "---\n",
    "### Modo de apertura"
   ]
  },
  {
   "cell_type": "markdown",
   "id": "ad94628f-67d4-47e9-8eee-b067d7ba435c",
   "metadata": {},
   "source": [
    "| Modo  | Acción                                                                                 |\n",
    "|-------|---------------------------------------------------------------------------------------|\n",
    "| `\"r\"` | Modo de **lectura** (por defecto). Si el archivo no existe, lanza un error.          |\n",
    "| `\"w\"` | Modo de **escritura**. Si el archivo existe, lo sobrescribe. Si no, lo crea.         |\n",
    "| `\"a\"` | Modo de **agregar**. Si el archivo existe, añade contenido al final. Si no, lo crea. |\n",
    "| `\"r+\"`| Modo de **lectura y escritura** sin sobrescribir.                                     |\n",
    "| `\"w+\"`| Modo de **lectura y escritura**, pero sobrescribe el archivo si existe.              |\n",
    "| `\"a+\"`| Modo de **lectura y agregar**. No sobrescribe el archivo.                            |\n",
    "| `\"rb\"`| Modo de **lectura binaria**.                                                         |\n",
    "| `\"wb\"`| Modo de **escritura binaria**.                                                       |\n",
    "| `\"ab\"`| Modo de **agregar en binario**.                                                      |"
   ]
  },
  {
   "cell_type": "markdown",
   "id": "8352c996-9d2b-4d0d-bcbb-d769a553a9b5",
   "metadata": {},
   "source": [
    "#### Sintaxis 1 : apertura de archivos\n",
    "*  Python proporciona la función integrada `open()` para trabajar con archivos"
   ]
  },
  {
   "cell_type": "code",
   "execution_count": null,
   "id": "d3de53b6-0a2c-4160-9d59-7f3a835a8448",
   "metadata": {},
   "outputs": [],
   "source": [
    "archivo = open(\"nombre_del_archivo\", \"modo\")\n",
    "\n",
    "# Nombre del archivo: Puede ser una ruta absoluta o relativa.\n",
    "️# Modo de apertura: Determina si se quiere leer, escribir o modificar el archivo."
   ]
  },
  {
   "cell_type": "markdown",
   "id": "ceeaeeb4-4352-4761-abd0-c619499f504c",
   "metadata": {},
   "source": [
    "#### Sintaxis 2 : apertura de archivos\n",
    "*  El uso de `with open` es más seguro porque cierra automáticamente el archivo después de su uso, evitando errores de acceso.  No es necesario llamar a `close()`."
   ]
  },
  {
   "cell_type": "code",
   "execution_count": null,
   "id": "e92eb9c8-d32f-4245-8e0c-41c324d86cfc",
   "metadata": {},
   "outputs": [],
   "source": [
    "with open('filename', 'mode') as file:\n",
    "    # Operaciones con el archivo\n",
    "\n",
    "#filename: Nombre o ruta del archivo.\n",
    "#mode: El modo en que abrirás el archivo (r para lectura, w para escritura, etc.)."
   ]
  },
  {
   "cell_type": "markdown",
   "id": "3d9a983b-dc95-45e6-abdc-e79393d30ed1",
   "metadata": {},
   "source": [
    "| Tipo                 | Función | Descripción | Sintaxis |\n",
    "|----------------------|---------|-------------|----------|\n",
    "| **Lectura de Archivos** | `read()` | Lee el contenido completo de un archivo. | ```with open(\"test.txt\", \"r\") as archivo: contenido = archivo.read() print(contenido)``` |\n",
    "| **Agregar contenido sin sobrescribir** | `write()` | Escribe en un archivo sin eliminar el contenido previo. | ```archivo = open(\"test.txt\", \"a\") archivo.write(\"\\nNueva línea agregada\") archivo.close()``` |\n",
    "| **Lectura binaria** | `read()` | Lee un archivo en formato binario. | ```with open(\"imagen.jpg\", \"rb\") as archivo: contenido = archivo.read()``` |\n",
    "| **Escritura binaria** | `write()` | Escribe datos en un archivo binario. | ```with open(\"audio.mp3\", \"wb\") as archivo: archivo.write(datos_binarios)``` |"
   ]
  },
  {
   "cell_type": "markdown",
   "id": "d05a5cda-a0f4-4929-9e68-3f94473fc532",
   "metadata": {},
   "source": [
    "### Lectura de archivos"
   ]
  },
  {
   "cell_type": "markdown",
   "id": "a09ea8e6-1fda-4d05-9d15-1fd4c7b1c5d8",
   "metadata": {},
   "source": [
    "---\n",
    "| Tipo                 | Función         | Descripción | Sintaxis |\n",
    "|----------------------|----------------|-------------|----------|\n",
    "| **Lectura de Archivos** | `read()`       | Lee todo el contenido del archivo como una cadena de texto. | ```file.read(size)``` |\n",
    "|                      | `readline()`    | Lee una línea del archivo a la vez. | ```file.readline(size)``` |\n",
    "|                      | `readlines()`   | Lee todo el archivo y devuelve una lista donde cada elemento es una línea del archivo. | ```file.readlines(hint=10)``` |\n",
    "\n"
   ]
  },
  {
   "cell_type": "markdown",
   "id": "1f101022-2e13-4ebd-8b47-150e7d70a322",
   "metadata": {},
   "source": [
    "### Escritura de Archivos"
   ]
  },
  {
   "cell_type": "markdown",
   "id": "822fd914-91d3-4fc8-8b88-63df1a1c8f6a",
   "metadata": {},
   "source": [
    "---\n",
    "| Tipo                  | Función       | Descripción                                  | Sintaxis |\n",
    "|-----------------------|--------------|----------------------------------------------|----------|\n",
    "| **Escritura de Archivos**| `write()`     | Escribe una cadena en el archivo.           | `archivo.write(\"Texto\")` |\n",
    "|                       | `writelines()` | Escribe varias líneas desde una lista.      | `archivo.writelines([\"Línea 1\\n\", \"Línea 2\\n\"])` |\n"
   ]
  },
  {
   "cell_type": "markdown",
   "id": "4d2a815d-efa9-4d5d-a484-597f4d2ff012",
   "metadata": {},
   "source": [
    "### Ejemplo(s)"
   ]
  },
  {
   "cell_type": "markdown",
   "id": "b89d6ea7-3efe-4d38-bb30-1194cd530d6c",
   "metadata": {},
   "source": [
    "#### a) Lee todas las líneas y las devuelve en una lista"
   ]
  },
  {
   "cell_type": "code",
   "execution_count": null,
   "id": "f89adb3a-0119-428b-bff8-9cfe8ef01549",
   "metadata": {},
   "outputs": [],
   "source": [
    "archivo = open(\"test.txt\", \"r\")\n",
    "lineas = archivo.readlines()\n",
    "print(lineas)  # Lista con todas las líneas del archivo\n",
    "archivo.close()"
   ]
  },
  {
   "cell_type": "code",
   "execution_count": null,
   "id": "03967ada-c9e5-4e46-8c14-ae8145496a6a",
   "metadata": {},
   "outputs": [],
   "source": [
    "with open(\"test.txt\", \"r\") as archivo:\n",
    "    contenido = archivo.read()\n",
    "    print(contenido)  # El archivo se cierra automáticamente al salir del bloque"
   ]
  },
  {
   "cell_type": "markdown",
   "id": "968eee03-592e-41ba-9e5f-fda5906a8247",
   "metadata": {},
   "source": [
    "## Manipulación de Archivos CSV en Python con Pandas\n",
    "\n",
    "* Un archivo CSV (Comma-Separated Values) almacena datos en texto plano, con valores separados por comas o tabulaciones."
   ]
  },
  {
   "cell_type": "markdown",
   "id": "89f51ecf-4fbe-4916-bb5f-de2cb74d4f4f",
   "metadata": {},
   "source": [
    "### Leer un archivo CSV"
   ]
  },
  {
   "cell_type": "markdown",
   "id": "adcfaa4c-ee71-4593-8e8c-3ad8dcf52ca5",
   "metadata": {},
   "source": [
    "##### Sintaxis : leer un archivo CSV"
   ]
  },
  {
   "cell_type": "code",
   "execution_count": null,
   "id": "3a8e609b-e1b2-4ffe-a667-7e350e38a7f4",
   "metadata": {},
   "outputs": [],
   "source": [
    "import pandas as pd  \n",
    "\n",
    "# Cargar archivo CSV en una variable\n",
    "df = pd.read_csv(\"FileExample.csv\")  \n",
    "\n",
    "# Imprimir los datos\n",
    "print(df)  "
   ]
  },
  {
   "cell_type": "markdown",
   "id": "523ebff1-869c-41ee-b1b9-34037c6253f8",
   "metadata": {},
   "source": [
    "---\n",
    "### Si el archivo no tiene encabezados\n",
    "*  `Pandas` usa la primera línea de datos como encabezado automáticamente. Para corregir esto, podemos definir manualmente los nombres de las columnas."
   ]
  },
  {
   "cell_type": "markdown",
   "id": "124e63ea-75a3-4525-bd0c-5f567f390465",
   "metadata": {},
   "source": [
    "##### Sintaxis : Si el archivo no tiene encabezados"
   ]
  },
  {
   "cell_type": "code",
   "execution_count": null,
   "id": "e71afc73-2002-4093-b061-48636c6cbe7c",
   "metadata": {},
   "outputs": [],
   "source": [
    "df = pd.read_csv(\"FileExample.csv\", header=None)  \n",
    "df.columns = [\"Columna1\", \"Columna2\", \"Columna3\"]  \n",
    "print(df)  "
   ]
  },
  {
   "cell_type": "markdown",
   "id": "72c7f52f-414e-4685-ae6d-9514cefb9cac",
   "metadata": {},
   "source": [
    "---\n",
    "## Manipulación de Archivos JSON en Python\n",
    "* `JSON` (`JavaScript Object Notation`) es un formato de intercambio de datos basado en texto que se parece a un diccionario en Python."
   ]
  },
  {
   "cell_type": "markdown",
   "id": "4f7bf1eb-0990-42b6-b0df-a69f939793d0",
   "metadata": {},
   "source": [
    "##### Sintaxis : Manipulación de Archivos JSON en Python"
   ]
  },
  {
   "cell_type": "code",
   "execution_count": null,
   "id": "1bc7ba17-ba38-4286-9365-bd6e89ac1f61",
   "metadata": {},
   "outputs": [],
   "source": [
    "import json  \n",
    "\n",
    "# Abrir y leer el archivo JSON\n",
    "with open(\"FileExample.json\") as file:  \n",
    "    data = json.load(file)  \n",
    "\n",
    "# Imprimir los datos\n",
    "print(data)  \n"
   ]
  },
  {
   "cell_type": "markdown",
   "id": "82f4c23a-36b7-42a7-8731-fe49170351d9",
   "metadata": {},
   "source": [
    "## Manipulación de Archivos XML en Python\n",
    "*  `XML ` (Extensible Markup Language) es un lenguaje de marcado estructurado similar a HTML, usado para almacenar datos en una jerarquía de nodos."
   ]
  },
  {
   "cell_type": "markdown",
   "id": "1128a224-4c8e-4650-938d-ca1ee4ed1431",
   "metadata": {},
   "source": [
    "### Pasos para leer un archivo XML\n",
    "\n",
    "1) Importar `xml.etree.ElementTree`\n",
    "2) Parsear el archivo `XML` con `ET.parse()`\n",
    "3) Recorrer los nodos con un bucle\n",
    "4) Almacenar los datos en un DataFrame"
   ]
  },
  {
   "cell_type": "markdown",
   "id": "ceccc3a1-8d78-4054-864a-a3a2a30f2cde",
   "metadata": {},
   "source": [
    "##### Sintaxis : leer un archivo XML"
   ]
  },
  {
   "cell_type": "code",
   "execution_count": null,
   "id": "1d2d8a27-e7da-44a5-b6d8-d41d31dd2847",
   "metadata": {},
   "outputs": [],
   "source": [
    "import xml.etree.ElementTree as ET  \n",
    "import pandas as pd  \n",
    "\n",
    "# Parsear el archivo XML\n",
    "tree = ET.parse(\"FileExample.xml\")  \n",
    "root = tree.getroot()  \n",
    "\n",
    "# Extraer datos\n",
    "data = []  \n",
    "for element in root.findall(\"Registro\"):  \n",
    "    dato = {  \n",
    "        \"Columna1\": element.find(\"Columna1\").text,  \n",
    "        \"Columna2\": element.find(\"Columna2\").text,  \n",
    "    }  \n",
    "    data.append(dato)  \n",
    "\n",
    "# Crear un DataFrame con los datos extraídos\n",
    "df = pd.DataFrame(data)  \n",
    "print(df)  "
   ]
  }
 ],
 "metadata": {
  "kernelspec": {
   "display_name": "Python 3 (ipykernel)",
   "language": "python",
   "name": "python3"
  },
  "language_info": {
   "codemirror_mode": {
    "name": "ipython",
    "version": 3
   },
   "file_extension": ".py",
   "mimetype": "text/x-python",
   "name": "python",
   "nbconvert_exporter": "python",
   "pygments_lexer": "ipython3",
   "version": "3.12.3"
  }
 },
 "nbformat": 4,
 "nbformat_minor": 5
}
