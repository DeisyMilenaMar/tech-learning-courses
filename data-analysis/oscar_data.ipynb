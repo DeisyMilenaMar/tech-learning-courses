{
 "cells": [
  {
   "cell_type": "code",
   "execution_count": 1,
   "id": "58b24a79-1720-43a9-a16c-de47360cd3b9",
   "metadata": {},
   "outputs": [],
   "source": [
    "# importar pandas \n",
    "import pandas as pd \n",
    "\n",
    "# definir la ruta del archivo \n",
    "inicio_sesion_1 = 'datos_de_inicio_de_sesion_part1.csv'\n",
    "inicio_sesion_2 = 'datos_de_inicio_de_sesion_part2.csv'\n",
    "\n",
    "#Leer el archivo en un DataFrame\n",
    "df1=pd.read_csv(inicio_sesion_1)\n",
    "df2=pd.read_csv(inicio_sesion_2)"
   ]
  },
  {
   "cell_type": "code",
   "execution_count": 5,
   "id": "e4764e5c-2f82-4453-8a32-077a1af3d260",
   "metadata": {},
   "outputs": [
    {
     "data": {
      "text/html": [
       "<div>\n",
       "<style scoped>\n",
       "    .dataframe tbody tr th:only-of-type {\n",
       "        vertical-align: middle;\n",
       "    }\n",
       "\n",
       "    .dataframe tbody tr th {\n",
       "        vertical-align: top;\n",
       "    }\n",
       "\n",
       "    .dataframe thead th {\n",
       "        text-align: right;\n",
       "    }\n",
       "</style>\n",
       "<table border=\"1\" class=\"dataframe\">\n",
       "  <thead>\n",
       "    <tr style=\"text-align: right;\">\n",
       "      <th></th>\n",
       "      <th>id</th>\n",
       "      <th>created_at</th>\n",
       "      <th>updated_at</th>\n",
       "      <th>sign_in_count</th>\n",
       "      <th>current_sign_in_at</th>\n",
       "      <th>last_sign_in_at</th>\n",
       "    </tr>\n",
       "  </thead>\n",
       "  <tbody>\n",
       "    <tr>\n",
       "      <th>151679</th>\n",
       "      <td>1472403</td>\n",
       "      <td>2025-02-07T21:46:50.781074</td>\n",
       "      <td>2025-02-07T21:49:03.77932</td>\n",
       "      <td>20</td>\n",
       "      <td>2025-02-07T21:49:03.779092</td>\n",
       "      <td>2025-02-07T21:48:58.574139</td>\n",
       "    </tr>\n",
       "    <tr>\n",
       "      <th>151680</th>\n",
       "      <td>1472404</td>\n",
       "      <td>2025-02-07T21:59:38.31926</td>\n",
       "      <td>2025-02-07T22:29:07.79587</td>\n",
       "      <td>102</td>\n",
       "      <td>2025-02-07T22:29:07.795634</td>\n",
       "      <td>2025-02-07T22:29:01.847401</td>\n",
       "    </tr>\n",
       "    <tr>\n",
       "      <th>151681</th>\n",
       "      <td>1472405</td>\n",
       "      <td>2025-02-07T22:07:18.406263</td>\n",
       "      <td>2025-02-07T22:10:47.018589</td>\n",
       "      <td>15</td>\n",
       "      <td>2025-02-07T22:10:47.018278</td>\n",
       "      <td>2025-02-07T22:10:46.940442</td>\n",
       "    </tr>\n",
       "    <tr>\n",
       "      <th>151682</th>\n",
       "      <td>1472406</td>\n",
       "      <td>2025-02-07T22:17:35.503095</td>\n",
       "      <td>2025-02-07T22:28:59.752803</td>\n",
       "      <td>28</td>\n",
       "      <td>2025-02-07T22:28:59.752519</td>\n",
       "      <td>2025-02-07T22:28:58.020016</td>\n",
       "    </tr>\n",
       "    <tr>\n",
       "      <th>151683</th>\n",
       "      <td>1472407</td>\n",
       "      <td>2025-02-07T22:20:01.828163</td>\n",
       "      <td>2025-02-07T22:28:00.106585</td>\n",
       "      <td>32</td>\n",
       "      <td>2025-02-07T22:28:00.106338</td>\n",
       "      <td>2025-02-07T22:27:54.22567</td>\n",
       "    </tr>\n",
       "  </tbody>\n",
       "</table>\n",
       "</div>"
      ],
      "text/plain": [
       "             id                  created_at                  updated_at  \\\n",
       "151679  1472403  2025-02-07T21:46:50.781074   2025-02-07T21:49:03.77932   \n",
       "151680  1472404   2025-02-07T21:59:38.31926   2025-02-07T22:29:07.79587   \n",
       "151681  1472405  2025-02-07T22:07:18.406263  2025-02-07T22:10:47.018589   \n",
       "151682  1472406  2025-02-07T22:17:35.503095  2025-02-07T22:28:59.752803   \n",
       "151683  1472407  2025-02-07T22:20:01.828163  2025-02-07T22:28:00.106585   \n",
       "\n",
       "        sign_in_count          current_sign_in_at             last_sign_in_at  \n",
       "151679             20  2025-02-07T21:49:03.779092  2025-02-07T21:48:58.574139  \n",
       "151680            102  2025-02-07T22:29:07.795634  2025-02-07T22:29:01.847401  \n",
       "151681             15  2025-02-07T22:10:47.018278  2025-02-07T22:10:46.940442  \n",
       "151682             28  2025-02-07T22:28:59.752519  2025-02-07T22:28:58.020016  \n",
       "151683             32  2025-02-07T22:28:00.106338   2025-02-07T22:27:54.22567  "
      ]
     },
     "execution_count": 5,
     "metadata": {},
     "output_type": "execute_result"
    }
   ],
   "source": [
    "df=pd.concat([df1, df2])\n",
    "df.tail(5)"
   ]
  },
  {
   "cell_type": "code",
   "execution_count": 6,
   "id": "0391ac7a-f6eb-49c1-90a9-41bf20aaedf8",
   "metadata": {},
   "outputs": [
    {
     "data": {
      "text/plain": [
       "dtype('O')"
      ]
     },
     "execution_count": 6,
     "metadata": {},
     "output_type": "execute_result"
    }
   ],
   "source": [
    "df[\"created_at\"].dtypes"
   ]
  },
  {
   "cell_type": "code",
   "execution_count": 12,
   "id": "cee77317-b24f-420b-9491-082953c60afe",
   "metadata": {},
   "outputs": [],
   "source": [
    "df[\"created_at\"] = pd.to_datetime(df[\"created_at\"], format=\"mixed\")\n",
    "df[\"updated_at\"] = pd.to_datetime(df[\"updated_at\"], format=\"mixed\")\n",
    "df[\"current_sign_in_at\"] = pd.to_datetime(df[\"current_sign_in_at\"], format=\"mixed\")\n",
    "df[\"last_sign_in_at\"] = pd.to_datetime(df[\"last_sign_in_at\"], format=\"mixed\")"
   ]
  },
  {
   "cell_type": "code",
   "execution_count": 13,
   "id": "26277536-d251-48ae-9734-6fa62797a26f",
   "metadata": {},
   "outputs": [
    {
     "data": {
      "text/html": [
       "<div>\n",
       "<style scoped>\n",
       "    .dataframe tbody tr th:only-of-type {\n",
       "        vertical-align: middle;\n",
       "    }\n",
       "\n",
       "    .dataframe tbody tr th {\n",
       "        vertical-align: top;\n",
       "    }\n",
       "\n",
       "    .dataframe thead th {\n",
       "        text-align: right;\n",
       "    }\n",
       "</style>\n",
       "<table border=\"1\" class=\"dataframe\">\n",
       "  <thead>\n",
       "    <tr style=\"text-align: right;\">\n",
       "      <th></th>\n",
       "      <th>id</th>\n",
       "      <th>created_at</th>\n",
       "      <th>updated_at</th>\n",
       "      <th>sign_in_count</th>\n",
       "      <th>current_sign_in_at</th>\n",
       "      <th>last_sign_in_at</th>\n",
       "    </tr>\n",
       "  </thead>\n",
       "  <tbody>\n",
       "    <tr>\n",
       "      <th>0</th>\n",
       "      <td>1</td>\n",
       "      <td>2016-10-13 14:45:08.552818</td>\n",
       "      <td>2019-08-05 16:54:45.408171</td>\n",
       "      <td>19</td>\n",
       "      <td>2016-10-13 15:47:47.765918</td>\n",
       "      <td>2016-10-13 15:47:40.631282</td>\n",
       "    </tr>\n",
       "    <tr>\n",
       "      <th>1</th>\n",
       "      <td>3</td>\n",
       "      <td>2016-10-13 15:25:34.023339</td>\n",
       "      <td>2019-08-05 16:56:47.337418</td>\n",
       "      <td>29</td>\n",
       "      <td>2017-03-30 15:45:55.166023</td>\n",
       "      <td>2017-03-23 21:34:26.362003</td>\n",
       "    </tr>\n",
       "    <tr>\n",
       "      <th>2</th>\n",
       "      <td>5</td>\n",
       "      <td>2016-10-13 16:13:29.256261</td>\n",
       "      <td>2019-08-05 16:54:45.385286</td>\n",
       "      <td>45</td>\n",
       "      <td>2017-01-05 18:55:18.333368</td>\n",
       "      <td>2017-01-05 18:54:34.124575</td>\n",
       "    </tr>\n",
       "    <tr>\n",
       "      <th>3</th>\n",
       "      <td>6</td>\n",
       "      <td>2016-10-13 16:40:02.353482</td>\n",
       "      <td>2025-02-06 20:27:40.126457</td>\n",
       "      <td>37111</td>\n",
       "      <td>2025-02-06 20:27:40.126184</td>\n",
       "      <td>2025-02-06 20:26:08.911018</td>\n",
       "    </tr>\n",
       "    <tr>\n",
       "      <th>4</th>\n",
       "      <td>7</td>\n",
       "      <td>2016-10-13 20:17:20.832300</td>\n",
       "      <td>2024-12-16 00:49:03.658712</td>\n",
       "      <td>11714</td>\n",
       "      <td>2024-12-16 00:49:03.657761</td>\n",
       "      <td>2024-12-16 00:49:00.722374</td>\n",
       "    </tr>\n",
       "  </tbody>\n",
       "</table>\n",
       "</div>"
      ],
      "text/plain": [
       "   id                 created_at                 updated_at  sign_in_count  \\\n",
       "0   1 2016-10-13 14:45:08.552818 2019-08-05 16:54:45.408171             19   \n",
       "1   3 2016-10-13 15:25:34.023339 2019-08-05 16:56:47.337418             29   \n",
       "2   5 2016-10-13 16:13:29.256261 2019-08-05 16:54:45.385286             45   \n",
       "3   6 2016-10-13 16:40:02.353482 2025-02-06 20:27:40.126457          37111   \n",
       "4   7 2016-10-13 20:17:20.832300 2024-12-16 00:49:03.658712          11714   \n",
       "\n",
       "          current_sign_in_at            last_sign_in_at  \n",
       "0 2016-10-13 15:47:47.765918 2016-10-13 15:47:40.631282  \n",
       "1 2017-03-30 15:45:55.166023 2017-03-23 21:34:26.362003  \n",
       "2 2017-01-05 18:55:18.333368 2017-01-05 18:54:34.124575  \n",
       "3 2025-02-06 20:27:40.126184 2025-02-06 20:26:08.911018  \n",
       "4 2024-12-16 00:49:03.657761 2024-12-16 00:49:00.722374  "
      ]
     },
     "execution_count": 13,
     "metadata": {},
     "output_type": "execute_result"
    }
   ],
   "source": [
    "df.head()"
   ]
  },
  {
   "cell_type": "code",
   "execution_count": 14,
   "id": "0b450578-dece-4c48-8b4e-319da0d1950a",
   "metadata": {},
   "outputs": [
    {
     "name": "stdout",
     "output_type": "stream",
     "text": [
      "id                             int64\n",
      "created_at            datetime64[ns]\n",
      "updated_at            datetime64[ns]\n",
      "sign_in_count                  int64\n",
      "current_sign_in_at    datetime64[ns]\n",
      "last_sign_in_at       datetime64[ns]\n",
      "dtype: object\n"
     ]
    }
   ],
   "source": [
    "print(df.dtypes)"
   ]
  },
  {
   "cell_type": "code",
   "execution_count": 17,
   "id": "9923b03d-2c84-4245-bba4-882f23f81490",
   "metadata": {},
   "outputs": [],
   "source": [
    "df[\"diff_days\"] = (df[\"last_sign_in_at\"] - df[\"created_at\"]).dt.days"
   ]
  },
  {
   "cell_type": "code",
   "execution_count": 18,
   "id": "7e46de15-74d9-4690-a703-4324d5c0dce6",
   "metadata": {},
   "outputs": [
    {
     "data": {
      "text/html": [
       "<div>\n",
       "<style scoped>\n",
       "    .dataframe tbody tr th:only-of-type {\n",
       "        vertical-align: middle;\n",
       "    }\n",
       "\n",
       "    .dataframe tbody tr th {\n",
       "        vertical-align: top;\n",
       "    }\n",
       "\n",
       "    .dataframe thead th {\n",
       "        text-align: right;\n",
       "    }\n",
       "</style>\n",
       "<table border=\"1\" class=\"dataframe\">\n",
       "  <thead>\n",
       "    <tr style=\"text-align: right;\">\n",
       "      <th></th>\n",
       "      <th>id</th>\n",
       "      <th>created_at</th>\n",
       "      <th>updated_at</th>\n",
       "      <th>sign_in_count</th>\n",
       "      <th>current_sign_in_at</th>\n",
       "      <th>last_sign_in_at</th>\n",
       "      <th>diff_days</th>\n",
       "    </tr>\n",
       "  </thead>\n",
       "  <tbody>\n",
       "    <tr>\n",
       "      <th>0</th>\n",
       "      <td>1</td>\n",
       "      <td>2016-10-13 14:45:08.552818</td>\n",
       "      <td>2019-08-05 16:54:45.408171</td>\n",
       "      <td>19</td>\n",
       "      <td>2016-10-13 15:47:47.765918</td>\n",
       "      <td>2016-10-13 15:47:40.631282</td>\n",
       "      <td>0.0</td>\n",
       "    </tr>\n",
       "    <tr>\n",
       "      <th>1</th>\n",
       "      <td>3</td>\n",
       "      <td>2016-10-13 15:25:34.023339</td>\n",
       "      <td>2019-08-05 16:56:47.337418</td>\n",
       "      <td>29</td>\n",
       "      <td>2017-03-30 15:45:55.166023</td>\n",
       "      <td>2017-03-23 21:34:26.362003</td>\n",
       "      <td>161.0</td>\n",
       "    </tr>\n",
       "    <tr>\n",
       "      <th>2</th>\n",
       "      <td>5</td>\n",
       "      <td>2016-10-13 16:13:29.256261</td>\n",
       "      <td>2019-08-05 16:54:45.385286</td>\n",
       "      <td>45</td>\n",
       "      <td>2017-01-05 18:55:18.333368</td>\n",
       "      <td>2017-01-05 18:54:34.124575</td>\n",
       "      <td>84.0</td>\n",
       "    </tr>\n",
       "    <tr>\n",
       "      <th>3</th>\n",
       "      <td>6</td>\n",
       "      <td>2016-10-13 16:40:02.353482</td>\n",
       "      <td>2025-02-06 20:27:40.126457</td>\n",
       "      <td>37111</td>\n",
       "      <td>2025-02-06 20:27:40.126184</td>\n",
       "      <td>2025-02-06 20:26:08.911018</td>\n",
       "      <td>3038.0</td>\n",
       "    </tr>\n",
       "    <tr>\n",
       "      <th>4</th>\n",
       "      <td>7</td>\n",
       "      <td>2016-10-13 20:17:20.832300</td>\n",
       "      <td>2024-12-16 00:49:03.658712</td>\n",
       "      <td>11714</td>\n",
       "      <td>2024-12-16 00:49:03.657761</td>\n",
       "      <td>2024-12-16 00:49:00.722374</td>\n",
       "      <td>2985.0</td>\n",
       "    </tr>\n",
       "  </tbody>\n",
       "</table>\n",
       "</div>"
      ],
      "text/plain": [
       "   id                 created_at                 updated_at  sign_in_count  \\\n",
       "0   1 2016-10-13 14:45:08.552818 2019-08-05 16:54:45.408171             19   \n",
       "1   3 2016-10-13 15:25:34.023339 2019-08-05 16:56:47.337418             29   \n",
       "2   5 2016-10-13 16:13:29.256261 2019-08-05 16:54:45.385286             45   \n",
       "3   6 2016-10-13 16:40:02.353482 2025-02-06 20:27:40.126457          37111   \n",
       "4   7 2016-10-13 20:17:20.832300 2024-12-16 00:49:03.658712          11714   \n",
       "\n",
       "          current_sign_in_at            last_sign_in_at  diff_days  \n",
       "0 2016-10-13 15:47:47.765918 2016-10-13 15:47:40.631282        0.0  \n",
       "1 2017-03-30 15:45:55.166023 2017-03-23 21:34:26.362003      161.0  \n",
       "2 2017-01-05 18:55:18.333368 2017-01-05 18:54:34.124575       84.0  \n",
       "3 2025-02-06 20:27:40.126184 2025-02-06 20:26:08.911018     3038.0  \n",
       "4 2024-12-16 00:49:03.657761 2024-12-16 00:49:00.722374     2985.0  "
      ]
     },
     "execution_count": 18,
     "metadata": {},
     "output_type": "execute_result"
    }
   ],
   "source": [
    "df.head()"
   ]
  },
  {
   "cell_type": "code",
   "execution_count": 20,
   "id": "baa64780-235d-4995-9729-8f67faca791b",
   "metadata": {},
   "outputs": [],
   "source": [
    "import numpy as np\n",
    "df[\"sign_ins_per_day\"] = df[\"sign_in_count\"] / df[\"diff_days\"].replace(0, np.nan)"
   ]
  },
  {
   "cell_type": "code",
   "execution_count": 21,
   "id": "5da13a0d-3153-4669-a08a-677c16fba031",
   "metadata": {},
   "outputs": [
    {
     "data": {
      "text/html": [
       "<div>\n",
       "<style scoped>\n",
       "    .dataframe tbody tr th:only-of-type {\n",
       "        vertical-align: middle;\n",
       "    }\n",
       "\n",
       "    .dataframe tbody tr th {\n",
       "        vertical-align: top;\n",
       "    }\n",
       "\n",
       "    .dataframe thead th {\n",
       "        text-align: right;\n",
       "    }\n",
       "</style>\n",
       "<table border=\"1\" class=\"dataframe\">\n",
       "  <thead>\n",
       "    <tr style=\"text-align: right;\">\n",
       "      <th></th>\n",
       "      <th>id</th>\n",
       "      <th>created_at</th>\n",
       "      <th>updated_at</th>\n",
       "      <th>sign_in_count</th>\n",
       "      <th>current_sign_in_at</th>\n",
       "      <th>last_sign_in_at</th>\n",
       "      <th>diff_days</th>\n",
       "      <th>sign_ins_per_day</th>\n",
       "    </tr>\n",
       "  </thead>\n",
       "  <tbody>\n",
       "    <tr>\n",
       "      <th>0</th>\n",
       "      <td>1</td>\n",
       "      <td>2016-10-13 14:45:08.552818</td>\n",
       "      <td>2019-08-05 16:54:45.408171</td>\n",
       "      <td>19</td>\n",
       "      <td>2016-10-13 15:47:47.765918</td>\n",
       "      <td>2016-10-13 15:47:40.631282</td>\n",
       "      <td>0.0</td>\n",
       "      <td>NaN</td>\n",
       "    </tr>\n",
       "    <tr>\n",
       "      <th>1</th>\n",
       "      <td>3</td>\n",
       "      <td>2016-10-13 15:25:34.023339</td>\n",
       "      <td>2019-08-05 16:56:47.337418</td>\n",
       "      <td>29</td>\n",
       "      <td>2017-03-30 15:45:55.166023</td>\n",
       "      <td>2017-03-23 21:34:26.362003</td>\n",
       "      <td>161.0</td>\n",
       "      <td>0.180124</td>\n",
       "    </tr>\n",
       "    <tr>\n",
       "      <th>2</th>\n",
       "      <td>5</td>\n",
       "      <td>2016-10-13 16:13:29.256261</td>\n",
       "      <td>2019-08-05 16:54:45.385286</td>\n",
       "      <td>45</td>\n",
       "      <td>2017-01-05 18:55:18.333368</td>\n",
       "      <td>2017-01-05 18:54:34.124575</td>\n",
       "      <td>84.0</td>\n",
       "      <td>0.535714</td>\n",
       "    </tr>\n",
       "    <tr>\n",
       "      <th>3</th>\n",
       "      <td>6</td>\n",
       "      <td>2016-10-13 16:40:02.353482</td>\n",
       "      <td>2025-02-06 20:27:40.126457</td>\n",
       "      <td>37111</td>\n",
       "      <td>2025-02-06 20:27:40.126184</td>\n",
       "      <td>2025-02-06 20:26:08.911018</td>\n",
       "      <td>3038.0</td>\n",
       "      <td>12.215602</td>\n",
       "    </tr>\n",
       "    <tr>\n",
       "      <th>4</th>\n",
       "      <td>7</td>\n",
       "      <td>2016-10-13 20:17:20.832300</td>\n",
       "      <td>2024-12-16 00:49:03.658712</td>\n",
       "      <td>11714</td>\n",
       "      <td>2024-12-16 00:49:03.657761</td>\n",
       "      <td>2024-12-16 00:49:00.722374</td>\n",
       "      <td>2985.0</td>\n",
       "      <td>3.924288</td>\n",
       "    </tr>\n",
       "  </tbody>\n",
       "</table>\n",
       "</div>"
      ],
      "text/plain": [
       "   id                 created_at                 updated_at  sign_in_count  \\\n",
       "0   1 2016-10-13 14:45:08.552818 2019-08-05 16:54:45.408171             19   \n",
       "1   3 2016-10-13 15:25:34.023339 2019-08-05 16:56:47.337418             29   \n",
       "2   5 2016-10-13 16:13:29.256261 2019-08-05 16:54:45.385286             45   \n",
       "3   6 2016-10-13 16:40:02.353482 2025-02-06 20:27:40.126457          37111   \n",
       "4   7 2016-10-13 20:17:20.832300 2024-12-16 00:49:03.658712          11714   \n",
       "\n",
       "          current_sign_in_at            last_sign_in_at  diff_days  \\\n",
       "0 2016-10-13 15:47:47.765918 2016-10-13 15:47:40.631282        0.0   \n",
       "1 2017-03-30 15:45:55.166023 2017-03-23 21:34:26.362003      161.0   \n",
       "2 2017-01-05 18:55:18.333368 2017-01-05 18:54:34.124575       84.0   \n",
       "3 2025-02-06 20:27:40.126184 2025-02-06 20:26:08.911018     3038.0   \n",
       "4 2024-12-16 00:49:03.657761 2024-12-16 00:49:00.722374     2985.0   \n",
       "\n",
       "   sign_ins_per_day  \n",
       "0               NaN  \n",
       "1          0.180124  \n",
       "2          0.535714  \n",
       "3         12.215602  \n",
       "4          3.924288  "
      ]
     },
     "execution_count": 21,
     "metadata": {},
     "output_type": "execute_result"
    }
   ],
   "source": [
    "df.head()"
   ]
  },
  {
   "cell_type": "code",
   "execution_count": 32,
   "id": "7de83434-3b51-4a53-ba23-e5ffd42424ed",
   "metadata": {},
   "outputs": [
    {
     "name": "stdout",
     "output_type": "stream",
     "text": [
      "Cantidad de valores atípicos: 91870\n",
      "Porcentaje de valores atípicos: 7.65%\n"
     ]
    }
   ],
   "source": [
    "Q1 = df[\"sign_ins_per_day\"].quantile(0.25)\n",
    "Q3 = df[\"sign_ins_per_day\"].quantile(0.75)\n",
    "IQR = Q3 - Q1\n",
    "\n",
    "# Límites para valores atípicos\n",
    "lower_bound = Q1 - 1.5 * IQR\n",
    "upper_bound = Q3 + 1.5 * IQR\n",
    "\n",
    "# Filtrar valores atípicos\n",
    "outliers = df[(df[\"sign_ins_per_day\"] < lower_bound) | (df[\"sign_ins_per_day\"] > upper_bound)]\n",
    "\n",
    "num_outliers = outliers.shape[0]\n",
    "print(f\"Cantidad de valores atípicos: {num_outliers}\")\n",
    "\n",
    "porcentaje_outliers = (num_outliers / df.shape[0]) * 100\n",
    "print(f\"Porcentaje de valores atípicos: {porcentaje_outliers:.2f}%\")\n"
   ]
  },
  {
   "cell_type": "code",
   "execution_count": 28,
   "id": "c9c5ab52-3469-4017-b144-957978912962",
   "metadata": {},
   "outputs": [
    {
     "name": "stdout",
     "output_type": "stream",
     "text": [
      "Collecting seaborn\n",
      "  Using cached seaborn-0.13.2-py3-none-any.whl.metadata (5.4 kB)\n",
      "Requirement already satisfied: numpy!=1.24.0,>=1.20 in ./venv/lib/python3.12/site-packages (from seaborn) (2.2.2)\n",
      "Requirement already satisfied: pandas>=1.2 in ./venv/lib/python3.12/site-packages (from seaborn) (2.2.3)\n",
      "Requirement already satisfied: matplotlib!=3.6.1,>=3.4 in ./venv/lib/python3.12/site-packages (from seaborn) (3.10.0)\n",
      "Requirement already satisfied: contourpy>=1.0.1 in ./venv/lib/python3.12/site-packages (from matplotlib!=3.6.1,>=3.4->seaborn) (1.3.1)\n",
      "Requirement already satisfied: cycler>=0.10 in ./venv/lib/python3.12/site-packages (from matplotlib!=3.6.1,>=3.4->seaborn) (0.12.1)\n",
      "Requirement already satisfied: fonttools>=4.22.0 in ./venv/lib/python3.12/site-packages (from matplotlib!=3.6.1,>=3.4->seaborn) (4.55.8)\n",
      "Requirement already satisfied: kiwisolver>=1.3.1 in ./venv/lib/python3.12/site-packages (from matplotlib!=3.6.1,>=3.4->seaborn) (1.4.8)\n",
      "Requirement already satisfied: packaging>=20.0 in ./venv/lib/python3.12/site-packages (from matplotlib!=3.6.1,>=3.4->seaborn) (24.2)\n",
      "Requirement already satisfied: pillow>=8 in ./venv/lib/python3.12/site-packages (from matplotlib!=3.6.1,>=3.4->seaborn) (11.1.0)\n",
      "Requirement already satisfied: pyparsing>=2.3.1 in ./venv/lib/python3.12/site-packages (from matplotlib!=3.6.1,>=3.4->seaborn) (3.2.1)\n",
      "Requirement already satisfied: python-dateutil>=2.7 in ./venv/lib/python3.12/site-packages (from matplotlib!=3.6.1,>=3.4->seaborn) (2.9.0.post0)\n",
      "Requirement already satisfied: pytz>=2020.1 in ./venv/lib/python3.12/site-packages (from pandas>=1.2->seaborn) (2025.1)\n",
      "Requirement already satisfied: tzdata>=2022.7 in ./venv/lib/python3.12/site-packages (from pandas>=1.2->seaborn) (2025.1)\n",
      "Requirement already satisfied: six>=1.5 in ./venv/lib/python3.12/site-packages (from python-dateutil>=2.7->matplotlib!=3.6.1,>=3.4->seaborn) (1.17.0)\n",
      "Using cached seaborn-0.13.2-py3-none-any.whl (294 kB)\n",
      "Installing collected packages: seaborn\n",
      "Successfully installed seaborn-0.13.2\n"
     ]
    }
   ],
   "source": [
    "! pip install seaborn"
   ]
  },
  {
   "cell_type": "code",
   "execution_count": 25,
   "id": "3ff912bc-3c33-470a-aab7-b6f941ea010d",
   "metadata": {},
   "outputs": [
    {
     "name": "stdout",
     "output_type": "stream",
     "text": [
      "Requirement already satisfied: matplotlib in ./venv/lib/python3.12/site-packages (3.10.0)\n",
      "Requirement already satisfied: contourpy>=1.0.1 in ./venv/lib/python3.12/site-packages (from matplotlib) (1.3.1)\n",
      "Requirement already satisfied: cycler>=0.10 in ./venv/lib/python3.12/site-packages (from matplotlib) (0.12.1)\n",
      "Requirement already satisfied: fonttools>=4.22.0 in ./venv/lib/python3.12/site-packages (from matplotlib) (4.55.8)\n",
      "Requirement already satisfied: kiwisolver>=1.3.1 in ./venv/lib/python3.12/site-packages (from matplotlib) (1.4.8)\n",
      "Requirement already satisfied: numpy>=1.23 in ./venv/lib/python3.12/site-packages (from matplotlib) (2.2.2)\n",
      "Requirement already satisfied: packaging>=20.0 in ./venv/lib/python3.12/site-packages (from matplotlib) (24.2)\n",
      "Requirement already satisfied: pillow>=8 in ./venv/lib/python3.12/site-packages (from matplotlib) (11.1.0)\n",
      "Requirement already satisfied: pyparsing>=2.3.1 in ./venv/lib/python3.12/site-packages (from matplotlib) (3.2.1)\n",
      "Requirement already satisfied: python-dateutil>=2.7 in ./venv/lib/python3.12/site-packages (from matplotlib) (2.9.0.post0)\n",
      "Requirement already satisfied: six>=1.5 in ./venv/lib/python3.12/site-packages (from python-dateutil>=2.7->matplotlib) (1.17.0)\n"
     ]
    }
   ],
   "source": [
    "! pip install matplotlib"
   ]
  },
  {
   "cell_type": "code",
   "execution_count": 35,
   "id": "e7eaa247-c8c6-447e-8024-35355f2c6efa",
   "metadata": {},
   "outputs": [
    {
     "data": {
      "image/png": "[encoded data removed]",
      "text/plain": [
       "<Figure size 1000x500 with 1 Axes>"
      ]
     },
     "metadata": {},
     "output_type": "display_data"
    }
   ],
   "source": [
    "df[\"log_sign_ins_per_day\"] = np.log1p(df[\"sign_ins_per_day\"])\n",
    "\n",
    "plt.figure(figsize=(10, 5))\n",
    "sns.histplot(df[\"log_sign_ins_per_day\"], bins=50, kde=True)\n",
    "plt.title(\"Distribución con escala logarítmica\")\n",
    "plt.xlabel(\"Log de inicios de sesión por día\")\n",
    "plt.ylabel(\"Frecuencia\")\n",
    "plt.show()"
   ]
  },
  {
   "cell_type": "code",
   "execution_count": 36,
   "id": "6ea4019a-af95-4c30-ae58-02e1fc64eea9",
   "metadata": {},
   "outputs": [
    {
     "name": "stdout",
     "output_type": "stream",
     "text": [
      "             id  sign_ins_per_day\n",
      "33923     42775       1944.000000\n",
      "109828  1425556       1906.000000\n",
      "113354  1429861       1622.500000\n",
      "112041  1428218       1382.500000\n",
      "112761  1429135       1020.500000\n",
      "...         ...               ...\n",
      "527168   668723         14.055556\n",
      "489437   628518         14.055556\n",
      "645386   795030         14.055556\n",
      "495052   634469         14.055556\n",
      "778537   938295         14.054054\n",
      "\n",
      "[91870 rows x 2 columns]\n"
     ]
    }
   ],
   "source": [
    "# ver qué usuarios tienen actividad inusualmente alta o baja\n",
    "print(outliers[[\"id\", \"sign_ins_per_day\"]].sort_values(by=\"sign_ins_per_day\", ascending=False))"
   ]
  },
  {
   "cell_type": "code",
   "execution_count": 37,
   "id": "eb6f7ef5-9e39-432d-b727-c7b844cbde44",
   "metadata": {},
   "outputs": [
    {
     "name": "stdout",
     "output_type": "stream",
     "text": [
      "             id  sign_ins_per_day\n",
      "33923     42775            1944.0\n",
      "109828  1425556            1906.0\n",
      "113354  1429861            1622.5\n",
      "112041  1428218            1382.5\n",
      "112761  1429135            1020.5\n",
      "113363  1429873            1003.0\n",
      "113722  1430318             953.0\n",
      "107955  1422979             937.0\n",
      "140310  1459822             933.0\n",
      "109510  1425149             915.0\n"
     ]
    }
   ],
   "source": [
    "#ver los 10 usuarios con más inicios de sesión por día:\n",
    "print(df.nlargest(10, \"sign_ins_per_day\")[[\"id\", \"sign_ins_per_day\"]])"
   ]
  },
  {
   "cell_type": "code",
   "execution_count": null,
   "id": "dd04a233-ca53-472e-9f5b-241d71e1631d",
   "metadata": {},
   "outputs": [],
   "source": []
  }
 ],
 "metadata": {
  "kernelspec": {
   "display_name": "Python 3 (ipykernel)",
   "language": "python",
   "name": "python3"
  },
  "language_info": {
   "codemirror_mode": {
    "name": "ipython",
    "version": 3
   },
   "file_extension": ".py",
   "mimetype": "text/x-python",
   "name": "python",
   "nbconvert_exporter": "python",
   "pygments_lexer": "ipython3",
   "version": "3.12.3"
  }
 },
 "nbformat": 4,
 "nbformat_minor": 5
}
