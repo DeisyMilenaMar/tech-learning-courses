{
 "cells": [
  {
   "cell_type": "markdown",
   "id": "2c483e94-dd1c-4442-9c08-2b198de8b8bb",
   "metadata": {},
   "source": [
    "# ¿Qué es un web framework?"
   ]
  },
  {
   "cell_type": "markdown",
   "id": "9dce8811-6bfa-4f41-884a-b81aa2ef687d",
   "metadata": {},
   "source": [
    "| **Concepto** | **Descripción** |\n",
    "|-------------|----------------|\n",
    "| **Web Framework** | Herramienta que facilita el desarrollo de aplicaciones web proporcionando una estructura organizada. |\n",
    "| **Objetivos** | - Hacer el desarrollo más fácil.<br>- Mantener una estructura ordenada.<br>- Reutilizar código existente.<br>- Permitir modificaciones y mantenimiento. |\n",
    "| **Componentes en el Desarrollo Web** | - Si solo se necesita una página estática: **HTML, CSS, JavaScript**.<br>- Si se requiere autenticación, pagos o almacenamiento de datos: **back-end application**. |\n",
    "\n",
    "---"
   ]
  },
  {
   "cell_type": "markdown",
   "id": "4453ab2b-84ba-4b0c-aee0-20ade277f958",
   "metadata": {},
   "source": [
    "## Django: Framework para Desarrollo Web"
   ]
  },
  {
   "cell_type": "markdown",
   "id": "3fa7052f-120a-4a58-83ae-736382f47143",
   "metadata": {},
   "source": [
    "| Característica | Descripción |\n",
    "|--------------|-------------|\n",
    "| **Estructura organizada** | Separa la lógica de la aplicación en módulos. |\n",
    "| **Manejo de estado** | Usa bases de datos para almacenar información de usuarios. |\n",
    "| **ORM (Object-Relational Mapping)** | Facilita la interacción con la base de datos sin escribir SQL manualmente. |\n",
    "| **Contiene servidor de desarrollo integrado escrito en Python** | Permite probar la aplicación sin configurar un servidor externo. |\n",
    "| **Enfoque DRY (Don't Repeat Yourself)** | Reutilización de código para evitar redundancias. |\n",
    "\n",
    "---"
   ]
  },
  {
   "cell_type": "markdown",
   "id": "aaa10a8a-dbd3-4d7b-8e6b-bdb7418dd159",
   "metadata": {},
   "source": [
    "| **Concepto** | **Descripción** |\n",
    "|-------------|----------------|\n",
    "| **Django** | Framework **high-level, free, open-source** en Python para el desarrollo rápido de aplicaciones web. |\n",
    "| **Características** | - Incluye autenticación, administración de contenido, generación de sitemaps y RSS feeds.<br>- Permite un desarrollo estructurado y rápido. |\n",
    "| **Seguridad** | - Protección contra ataques **SQL Injection, XSS y CSRF**.<br>- Incluye middleware de seguridad por defecto. |\n",
    "| **Escalabilidad** | - Puede almacenar datos en múltiples servidores.<br>- Apto para aplicaciones con alto tráfico. |\n",
    "\n",
    "---"
   ]
  },
  {
   "cell_type": "markdown",
   "id": "e14d7027-0e73-412b-8eb9-87382367414b",
   "metadata": {},
   "source": [
    "### Comandos Básicos en Django\n",
    "| Comando | Función |\n",
    "|---------|---------|\n",
    "| `django-admin startproject <nombre>` | Crea un nuevo proyecto Django. |\n",
    "| `python manage.py startapp <nombre>` | Crea una nueva app dentro del proyecto. |\n",
    "| `python manage.py runserver` | Inicia el servidor de desarrollo en `127.0.0.1:8000`. |\n",
    "| `python manage.py makemigrations` | Genera archivos de migración para la base de datos. |\n",
    "| `python manage.py migrate` | Aplica las migraciones en la base de datos. |\n",
    "| `python manage.py shell` | Abre un shell interactivo con el entorno Django. |\n",
    "\n",
    "---"
   ]
  },
  {
   "cell_type": "markdown",
   "id": "91ca794c-9bab-4081-b414-6bbebc7994e4",
   "metadata": {},
   "source": [
    "### Crear primer proyecto en Django\n",
    "\n",
    "* Un proyecto Django es un paquete de Python que contiene todas las configuraciones de la aplicación.\n"
   ]
  },
  {
   "cell_type": "markdown",
   "id": "9674d0f5-b37b-4c12-9e49-0fbe03110466",
   "metadata": {},
   "source": [
    "#### a) Configurar entorno de desarrollo"
   ]
  },
  {
   "cell_type": "markdown",
   "id": "f04d6c37-1b5f-40ca-ae5c-9fbd8e34509d",
   "metadata": {},
   "source": [
    "| **Paso** | **Descripción** | **Comando** | **Notas Importantes** |\n",
    "|----------|---------------|-------------|-----------------------|\n",
    "| **1. Abrir Terminal** | Abre una nueva terminal en VS Code. | — | Ve a *Terminal* > *Nuevo Terminal*. |\n",
    "| **2. Crear Directorio del Proyecto** | Crea una carpeta para el proyecto. | `mkdir build-django` | Reemplaza *build-django* con el nombre deseado. |\n",
    "| **3. Ingresar en el Directorio** | Accede a la carpeta creada. | `cd build-django` | Ahora estarás dentro del directorio del proyecto. |\n",
    "\n",
    "---"
   ]
  },
  {
   "cell_type": "markdown",
   "id": "47723ed7-e24d-4bdb-b97e-06bee0f7c2a5",
   "metadata": {},
   "source": [
    "#### b) Usar entornos virtuales  "
   ]
  },
  {
   "cell_type": "markdown",
   "id": "62653784-b0a7-4fcb-9615-04b25c854ad7",
   "metadata": {},
   "source": [
    "\n",
    "| **Concepto** | **Explicación** |\n",
    "|-------------|---------------|\n",
    "| **¿Por qué usar entornos virtuales?** | Los proyectos Django pueden ser grandes y contener dependencias específicas (versiones) paquetes . Usar un entorno virtual evita conflictos con otros proyectos. |\n",
    "| **¿Qué es un entorno virtual?** | Es un espacio aislado donde puedes gestionar paquetes y dependencias específicas para cada proyecto, incluyendo el intérprete, bibliotecas y scripts. |\n",
    "| **¿Es obligatorio usarlo?** | No, pero es altamente recomendado para mantener cada proyecto independiente y evitar conflictos de versiones. |\n",
    "\n",
    "---\n",
    "| **Paso** | **Descripción** | **Comando** | **Notas Importantes** |\n",
    "|----------|---------------|-------------|-----------------------|\n",
    "| **4. Crear un Entorno Virtual** | Crea un entorno virtual para aislar dependencias. | `python3 -m venv tutorial-env` | Reemplaza *tutorial-env* con el nombre deseado. |\n",
    "| **5. Activar el Entorno Virtual** | Activa el entorno virtual creado. | `source tutorial-env/bin/activate` (Mac/Linux) `tutorial-env\\Scripts\\activate` (Windows) | Se activa cuando aparece `(tutorial-env)` en el terminal. |\n",
    "| **6. Verificar que el Entorno Virtual está Activado** | Confirma que estás en el entorno virtual. | `which python` o `where python` (Windows) | Si devuelve la ruta dentro del entorno virtual, está activo. |\n",
    "\n",
    "---"
   ]
  },
  {
   "cell_type": "markdown",
   "id": "7edf06ed-4a09-4184-8529-99f572b92f45",
   "metadata": {},
   "source": [
    "#### c) Instalar y Verificar Django\n",
    "\n",
    "| **Paso** | **Descripción** | **Comando** | **Notas Importantes** |\n",
    "|----------|---------------|-------------|-----------------------|\n",
    "| **7. Instalar Django** | Instala Django en el entorno virtual. | `pip3 install django` | Usa `pip install django` si `pip3` no está disponible. |\n",
    "| **8. Verificar Instalación** | Confirma que Django está instalado correctamente. | `python3 -m django --version` | Muestra la versión instalada (Ejemplo: *4.1*). |\n",
    "\n",
    "---"
   ]
  },
  {
   "cell_type": "markdown",
   "id": "e7315eb9-8299-49f0-933b-0cc73804c7f4",
   "metadata": {},
   "source": [
    "#### d) Crear proyecto Django\n",
    "\n",
    "| **Paso** | **Descripción** | **Comando** | **Notas Importantes** |\n",
    "|----------|---------------|-------------|-----------------------|\n",
    "| **1. Crear un Proyecto Django (sin punto)** | Genera un directorio con el nombre del proyecto y dentro de él crea los archivos del proyecto. | `django-admin startproject nombre_proyecto` | Crea una carpeta `nombre_proyecto/` que contiene `manage.py` y otra carpeta interna (paquete del proyecto) `nombre_proyecto/` con `settings.py`, `urls.py`, etc. |\n",
    "| **2. Crear un Proyecto Django (con punto)** | Crea los archivos del proyecto en el directorio actual sin generar una carpeta adicional. | `django-admin startproject nombre_proyecto .` | Útil cuando ya tienes un directorio vacío y no quieres una subcarpeta extra con el mismo nombre. |\n",
    "\n",
    "---"
   ]
  },
  {
   "cell_type": "markdown",
   "id": "8cd355f3-e39f-41bd-a1bb-56918782e5bb",
   "metadata": {},
   "source": [
    "##### Elementos: Proyecto Django\n",
    "\n",
    "| Archivo/Carpeta | Función |\n",
    "|---------------|---------|\n",
    "| `manage.py` |  <br>-   Ejecuta comandos administrativos de Django (ejecutar servidor, migraciones, etc.)   <br>-    Herramienta CLI para gestionar el proyecto (migraciones, servidor, etc.).|\n",
    "| `asgi.py` | Punto de entrada para servidores ASGI (asincrónicos). |\n",
    "| `wsgi.py` | Punto de entrada para servidores WSGI (sincrónicos). |\n",
    "| `settings.py` | Configuración global del proyecto (bases de datos, middleware, aplicaciones instaladas). |\n",
    "| `urls.py` | Define las rutas y direcciones URL para la aplicación. |\n",
    "| `__init__.py` | Indica que la carpeta es un paquete Python. |\n",
    "\n",
    "---"
   ]
  },
  {
   "cell_type": "markdown",
   "id": "6900ccf0-115d-44c8-82ac-a5ab0ad372de",
   "metadata": {},
   "source": [
    "##### Estructura de un proyecto\n",
    "\n",
    "* Cuando se ejecuta el comando `django-admin startproject myproject`, se crea la siguiente estructura:\n",
    "\n",
    "```\n",
    "<nombre_proyecto>/\n",
    "│   manage.py   # Comando para administrar el proyecto\n",
    "│\n",
    "└── <nombre_proyecto>/   # Carpeta del proyecto con archivos de configuración\n",
    "    │   __init__.py      # Indica que es un paquete Python\n",
    "    │   settings.py      # Configuración del proyecto\n",
    "    │   urls.py          # Rutas de la aplicación\n",
    "    │   asgi.py          # Configuración para servidores ASGI\n",
    "    │   wsgi.py          # Configuración para servidores WSGI\n",
    "\n",
    "```\n"
   ]
  },
  {
   "cell_type": "markdown",
   "id": "de83db45-04b3-4aad-8f87-4255ebca9da3",
   "metadata": {},
   "source": [
    "### Crear una aplicación (App) en Django\n",
    "\n",
    "* Una app es un módulo dentro del proyecto que maneja una funcionalidad específica.\n",
    "* Dentro del proyecto, se pueden crear varias aplicaciones."
   ]
  },
  {
   "cell_type": "markdown",
   "id": "f5da1346-e141-4f51-9e82-e89a100e84bb",
   "metadata": {},
   "source": [
    "---\n",
    "| Paso | Comando / Acción | Explicación |\n",
    "|------|-----------------|-------------|\n",
    "| 1 | Abrir el proyecto en VS Code | Asegurarse de que el proyecto está configurado correctamente. |\n",
    "| 2 | Crear la aplicación con el comando `startapp` | `python3 manage.py startapp <nombre_app>` | Esto genera la carpeta <nombre_app>/ con la estructura básica dentro del proyecto. |\n",
    "| 3 | Revisar la estructura generada | Se crea una carpeta con archivos importantes como `models.py`, `views.py`, `admin.py`, `tests.py`, etc. |\n",
    "\n",
    "---"
   ]
  },
  {
   "cell_type": "markdown",
   "id": "efab1240-b6c0-4a78-a5a2-608ffdb909b9",
   "metadata": {},
   "source": [
    "##### Elementos: App en Django\n",
    "\n",
    "| Archivo | Función |\n",
    "|---------|---------|\n",
    "| `__init__.py` | Indica que la carpeta es un módulo de Python. |\n",
    "| `admin.py` | Configuración para el panel de administración de Django. |\n",
    "| `models.py` | Define las estructuras de datos o bases de datos y el ORM. |\n",
    "| `tests.py` | Permite escribir pruebas automáticas para la aplicación. |\n",
    "| `views.py` | Contiene las funciones que generan las respuestas para el usuario. |\n",
    "\n",
    "---"
   ]
  },
  {
   "cell_type": "markdown",
   "id": "fce13aeb-cbac-462a-a3d2-17076fde595b",
   "metadata": {},
   "source": [
    "##### Estructura una App en Django\n",
    "\n",
    "* Cuando se ejecuta `python3 manage.py startapp <nombre_app>`, se genera la siguiente estructura\n",
    "\n",
    "```\n",
    "<nombre_app>/  \n",
    "│── migrations/     # Carpeta para gestionar cambios en la base de datos  \n",
    "│── __init__.py     # Indica que es un módulo de Python  \n",
    "│── admin.py        # Configurar modelos en el panel de administración  \n",
    "│── apps.py         # Configuración de la aplicación  \n",
    "│── models.py       # Definir los modelos de base de datos  \n",
    "│── tests.py        # Contener pruebas automatizadas  \n",
    "│── views.py        # Definir funciones o clases para manejar las solicitudes  \n",
    "\n",
    "```"
   ]
  },
  {
   "cell_type": "markdown",
   "id": "a00e52ca-9b59-4c86-ab92-bd03211a0174",
   "metadata": {},
   "source": [
    "### Registrar App en Proyecto\n",
    "* a) Una vez creada la aplicación, debe agregarse a la configuración del proyecto en `settings.py`.\n",
    "* b) Busca la lista `INSTALLED_APPS`.\n",
    "* c) *Agrega el nombre de la aplicación con su configuración*.\n",
    "  - **Forma completa**: `'nombre_de_la_app.apps.NombreDeLaAppConfig'` (recomendado).\n",
    "  - **Forma básica**: `'nombre_de_la_app'`.\n"
   ]
  },
  {
   "cell_type": "code",
   "execution_count": null,
   "id": "f94895ff-65df-401e-81a2-6d5c7b108dfa",
   "metadata": {},
   "outputs": [],
   "source": [
    "INSTALLED_APPS = [\n",
    "    # Aplicaciones de Django\n",
    "    'django.contrib.admin',\n",
    "    'django.contrib.auth',\n",
    "    'django.contrib.contenttypes',\n",
    "    'django.contrib.sessions',\n",
    "    'django.contrib.messages',\n",
    "    'django.contrib.staticfiles',\n",
    "\n",
    "    # Otras aplicaciones creadas\n",
    "    'nombre_de_la_app',  # Agregar la aplicación aquí\n",
    "]"
   ]
  },
  {
   "cell_type": "code",
   "execution_count": null,
   "id": "f0b00fc1-c15f-4e7a-9596-298d04728faa",
   "metadata": {},
   "outputs": [],
   "source": []
  },
  {
   "cell_type": "markdown",
   "id": "f2b37fb3-391d-4f0b-9ec5-881463d3f2ba",
   "metadata": {},
   "source": [
    "### views.py (Definir vistas en Django)\n",
    "* Las vistas manejan la lógica de lo que se mostrará en respuesta a una solicitud."
   ]
  },
  {
   "cell_type": "markdown",
   "id": "e09042dd-7638-4d88-b6e5-48c4c65df049",
   "metadata": {},
   "source": [
    "| Concepto        | Explicación |\n",
    "|---------------|-------------|\n",
    "| **Vista en Django** | <br>-   Función que maneja una solicitud web y devuelve una respuesta. <br>-  Puede devolver una página `HTML`, datos en `JSON`, redirecciones, entre otros.   <br>-   Se definen en el archivo `views.py` de la aplicación. <br>-  Contiene la lógica de negocio. \n",
    "| **Funciones de Vista** |  <br>-    Definidas en `views.py`.  <br>-   Procesan solicitudes HTTP y devuelven respuestas.  <br>-   No es suficiente para que la respuesta a la solicitud funcione.  <br>-   Debe asignarse a una URL para que cuando se realice la solicitud a la URL se llame a la función de vista, este es un proceso de mapeo de una URL a una funciónde vista se conoce como enrutamiento.|\n",
    "| **Ejemplo de Vista** | Se usa para generar HTML, procesar formularios, manejar autenticación, etc. |\n",
    "| **Archivo `views.py`**      | Contiene las funciones que definen las vistas de la aplicación. |\n",
    "| **`HttpResponse`**          | Clase de Django que se usa para devolver contenido HTML o datos. |\n",
    "\n",
    "---\n"
   ]
  },
  {
   "cell_type": "markdown",
   "id": "95982543-1c73-48de-bf95-2f78f1515473",
   "metadata": {},
   "source": [
    "| Operaciones con vistas | Descripción |\n",
    "|-----------|-------------|\n",
    "| **Procesar datos** | Se pueden recibir datos de formularios y procesarlos en la vista. |\n",
    "| **Consultar base de datos** | Una vista puede recuperar información desde la base de datos antes de enviarla al usuario. |\n",
    "| **Enviar correos electrónicos** | Se puede incluir lógica para enviar emails dentro de la vista. |\n",
    "| **Renderizar plantillas** | En lugar de devolver HTML plano, se pueden usar templates. |\n",
    "\n",
    "---"
   ]
  },
  {
   "cell_type": "markdown",
   "id": "ac9196fa-ee0c-4f72-95a9-adf61b6012c0",
   "metadata": {},
   "source": [
    "#### Crear view"
   ]
  },
  {
   "cell_type": "markdown",
   "id": "1e211b59-fa99-466c-873b-7e4b979e9dfa",
   "metadata": {},
   "source": [
    "##### Sintaxis: crear una vista"
   ]
  },
  {
   "cell_type": "code",
   "execution_count": null,
   "id": "e6b32cf2-c842-4e4e-a7b1-2ccc0bcd60bd",
   "metadata": {},
   "outputs": [],
   "source": [
    "from django.shortcuts import render\n",
    "from django.http import HttpResponse\n",
    "\n",
    "def <nombre_vista>(request):   #Devuelve un objeto de respuesta HTTP\n",
    "    return HttpResponse(\"Texto de respuesta\")"
   ]
  },
  {
   "cell_type": "markdown",
   "id": "24da3495-83de-45f0-af24-7a0faf32eb27",
   "metadata": {},
   "source": [
    "##### Ejemplo: crear una vista\n",
    "* Crear una vista básica en `views.py`"
   ]
  },
  {
   "cell_type": "code",
   "execution_count": null,
   "id": "c74c6dd8-5067-44b8-b511-c8a3b2db139f",
   "metadata": {},
   "outputs": [],
   "source": [
    "from django.http import HttpResponse\n",
    "\n",
    "def home(request): \n",
    "    return HttpResponse(\"¡Hola, mundo! Esta es la vista de inicio de MyApp.\")"
   ]
  },
  {
   "cell_type": "markdown",
   "id": "f58360b6-15f6-46d1-a350-c963eda39d58",
   "metadata": {},
   "source": [
    "### Rutas y mapeo de URLs"
   ]
  },
  {
   "cell_type": "markdown",
   "id": "08ba27e8-4831-42f0-af82-2004d433ae87",
   "metadata": {},
   "source": [
    "| Concepto        | Explicación |\n",
    "|---------------|-------------|\n",
    "| **¿Qué es el enrutamiento?** |   <br>- Django utiliza un sistema de enrutamiento para conectar las solicitudes HTTP con las vistas adecuadas.  <br>-    Este proceso se gestiona mediante archivos `urls.py`, donde se define la relación entre las URLs y las vistas del proyecto.   <br>-    El enrutamiento es el proceso de asignar una URL a una vista específica usando `path` en `urls.py`.  <br>-    Mapeo de URLs a funciones de vista para que Django sepa qué vista llamar.   <br>-    Django usa un archivo llamado `urls.py` para definir estas rutas.|\n",
    "| **Archivo de rutas** | Se crea un archivo `urls.py` dentro de cada aplicación para definir las rutas. |\n",
    "| **`urls.py` del proyecto** |  <br>-    define las rutas principales y enlaza a las apps.  <br>      ``` path('app/', include('app.urls')) ``` |\n",
    "| **`urls.py` de la app** | maneja las rutas específicas de esa aplicación.  <br>     ``` path('ruta/', views.vista, name='nombre') ```  |\n",
    "| **`include()`** | <br>-  Permite incluir las URLs de una app en el proyecto.  <br>-    Se usa para redirigir todas las rutas de una aplicación específica a su propio `urls.py`.  <br>      ``` path('app/', include('app.urls')) ```  |\n",
    "| **`path()`** | <br>-  Se usa `path()`  para asignar una URL a una vista. <br>      ``` path('ruta/', views.vista, name='nombre')```  |\n",
    "\n",
    "---\n"
   ]
  },
  {
   "cell_type": "markdown",
   "id": "f7ab3945-af8a-4b10-a924-9d18fb92465f",
   "metadata": {},
   "source": [
    "####  Crear `urls.py` (proyecto)\n",
    "* Django crea por defecto el archivo `urls.py`a nivel del proyecto. \n",
    "* Modifica el archivo `urls.py` del proyecto en `(<nombre_proyecto>/urls.py)` para incluir las rutas de la app"
   ]
  },
  {
   "cell_type": "markdown",
   "id": "894d57f9-66d5-41b7-8914-e1e24300e523",
   "metadata": {},
   "source": [
    "##### Sintaxis: Crear archivo `urls.py` del proyecto"
   ]
  },
  {
   "cell_type": "code",
   "execution_count": null,
   "id": "9bc512b3-fce6-4d35-ab67-09eed658fcb0",
   "metadata": {},
   "outputs": [],
   "source": [
    "from django.contrib import admin\n",
    "from django.urls import include, path\n",
    "\n",
    "urlpatterns = [\n",
    "    path('<ruta>/', include('<nombre_app>.urls'), name='nombre_ruta'),  # Conectar las URLs de la app\n",
    "    path('admin/', admin.site.urls),\n",
    "]"
   ]
  },
  {
   "cell_type": "markdown",
   "id": "0eb43fee-4bee-48be-8304-3b0c5eb95955",
   "metadata": {},
   "source": [
    "##### Ejemplo: Crear archivo `urls.py` del proyecto"
   ]
  },
  {
   "cell_type": "code",
   "execution_count": null,
   "id": "183106c8-4a56-4e96-898c-ec12edf930f5",
   "metadata": {},
   "outputs": [],
   "source": [
    "from django.contrib import admin\n",
    "from django.urls import include, path\n",
    "\n",
    "urlpatterns = [\n",
    "    path('', include('myapp.urls')),  # Conectar las URLs de la app\n",
    "    path('admin/', admin.site.urls),\n",
    "]"
   ]
  },
  {
   "cell_type": "markdown",
   "id": "c51e15de-dbd0-4703-a11b-b701b56b2568",
   "metadata": {},
   "source": [
    "---\n",
    "####  Crear `urls.py` (app)\n",
    "* Definir rutas de la aplicación.\n",
    "* Si no existe, créalo dentro de `(<nombre_app>/urls.py)` y agrega:"
   ]
  },
  {
   "cell_type": "markdown",
   "id": "46ab5a26-aa7c-4871-8523-ccd08eb4be50",
   "metadata": {},
   "source": [
    "##### Sintaxis: Crear archivo `urls.py` de la app "
   ]
  },
  {
   "cell_type": "code",
   "execution_count": null,
   "id": "1ba8bd2c-3f3c-4e6f-bf82-7599da6016a8",
   "metadata": {},
   "outputs": [],
   "source": [
    "from django.urls import path\n",
    "from . import views\n",
    "\n",
    "urlpatterns = [\n",
    "    path('<ruta>/', views.<nombre_vista>, name='<nombre_url>'),\n",
    "]"
   ]
  },
  {
   "cell_type": "markdown",
   "id": "0cc6c907-8c9b-4375-af77-71120bb19112",
   "metadata": {},
   "source": [
    "##### Ejemplo: Crear archivo `urls.py` de la app \n",
    "* `''`: representa la URL base.\n",
    "* `views.home`: indica la vista que se ejecutará al acceder a la URL."
   ]
  },
  {
   "cell_type": "code",
   "execution_count": null,
   "id": "7f030ba8-0316-4246-9003-68d259e1adc7",
   "metadata": {},
   "outputs": [],
   "source": [
    "from django.urls import path\n",
    "from . import views\n",
    "\n",
    "urlpatterns = [\n",
    "    path('', views.home, name='home'), # La URL base llama a la vista 'home'\n",
    "]"
   ]
  },
  {
   "cell_type": "markdown",
   "id": "e1fee301-0e63-42cc-a444-4d71b81cad9b",
   "metadata": {},
   "source": [
    "#### Probar la Configuración de URLs\n",
    "* Para asegurarse de que todo funcione correctamente, se debe iniciar el servidor de desarrollo y acceder a la URL correspondiente."
   ]
  },
  {
   "cell_type": "markdown",
   "id": "6c7d2def-64bf-4306-94f5-56df6c5afca2",
   "metadata": {},
   "source": [
    "___\n",
    "##### Paso 1) Iniciar el servidor de Django:"
   ]
  },
  {
   "cell_type": "code",
   "execution_count": null,
   "id": "e1bbb729-fe4b-4bf8-ae4f-217be70703cb",
   "metadata": {},
   "outputs": [],
   "source": [
    "python3 manage.py runserver"
   ]
  },
  {
   "cell_type": "markdown",
   "id": "b9ee7707-1197-4f97-8ccc-b434816e92bc",
   "metadata": {},
   "source": [
    "---\n",
    "##### Paso 2) Abrir en el navegador:"
   ]
  },
  {
   "cell_type": "markdown",
   "id": "6bdbb9db-1f03-4457-a567-24661986de77",
   "metadata": {},
   "source": [
    "URL: http://127.0.0.1:8000/"
   ]
  },
  {
   "cell_type": "markdown",
   "id": "09caafe0-5781-44bd-a80f-22dfe41e48a0",
   "metadata": {},
   "source": [
    "### Flujo de una Solicitud HTTP en Django"
   ]
  },
  {
   "attachments": {},
   "cell_type": "markdown",
   "id": "36b22683-8319-4e9b-84bd-d041c5db1054",
   "metadata": {
    "jp-MarkdownHeadingCollapsed": true
   },
   "source": [
    "\n",
    "| **Paso** | **Descripción** |\n",
    "|----------|---------------|\n",
    "| **1. Cliente envía una solicitud** | Un navegador o cliente HTTP envía una solicitud a una URL específica (`GET`, `POST`, etc.). |\n",
    "| **2. Django recibe la solicitud** | Django analiza la URL en `urls.py` del proyecto para encontrar una coincidencia en `urlpatterns`. |\n",
    "| **3. Redirección a la configuración de la app** | Si la URL usa `include()`, Django redirige la búsqueda al `urls.py` de la aplicación correspondiente. |\n",
    "| **4. Mapeo de la URL a una vista** | Django encuentra la vista asociada a la URL y la ejecuta. |\n",
    "| **5. Procesamiento de la vista** | La vista procesa la solicitud, interactúa con la base de datos si es necesario y genera una respuesta. |\n",
    "| **6. Respuesta al cliente** | Django devuelve un `HttpResponse`, JSON u otro formato que el cliente puede interpretar y mostrar. |\n"
   ]
  },
  {
   "cell_type": "markdown",
   "id": "f7a12ad1-852e-4ed4-855f-b87e48de52d0",
   "metadata": {},
   "source": [
    "## HTTP y HTTPS "
   ]
  },
  {
   "cell_type": "markdown",
   "id": "61453422-b30f-4e79-abbc-7b2891bda081",
   "metadata": {},
   "source": [
    "| **Concepto**   | **Descripción** |\n",
    "|---------------|----------------|\n",
    "| **HTTP (Hypertext Transfer Protocol)** | Protocolo que permite la comunicación entre un cliente (navegador) y un servidor web para transferir archivos como documentos HTML, imágenes, estilos, etc. |\n",
    "| **HTTPS (Hypertext Transfer Protocol Secure)** | Versión segura de HTTP que usa cifrado para proteger los datos transmitidos.<br>     Se indica con un candado en la barra de direcciones del navegador. |\n",
    "| **Protocolo basado en petición-respuesta** | Un navegador web o el cliente envía una solicitud (request) HTTP y el servidor responde (response) HTTP al navegador. |\n",
    "| **Importancia de HTTPS** | Asegura la confidencialidad de la información, por ejemplo, en transacciones con tarjetas de crédito. |\n",
    "\n",
    "---"
   ]
  },
  {
   "cell_type": "markdown",
   "id": "93374dd9-0117-4d51-b3b0-be5413c95995",
   "metadata": {},
   "source": [
    "| **Característica** | **HTTP** | **HTTPS** |\n",
    "|-------------------|---------|----------|\n",
    "| **Seguridad** | No cifrado | Cifrado con TLS/SSL |\n",
    "| **Indicación en el navegador** | Sin candado | Candado en la barra de direcciones |\n",
    "| **Uso recomendado** | Información pública | Información sensible (pagos, datos personales) |\n",
    "\n",
    "---"
   ]
  },
  {
   "attachments": {
    "fd135bcc-cc53-4611-9467-fbc1abbb5759.png": {
     "image/png": "[encoded data removed]"
    }
   },
   "cell_type": "markdown",
   "id": "3dc47007-5bd0-4d3d-a52d-41da3ab2771f",
   "metadata": {},
   "source": [
    "\n",
    "### Componentes HTTP Request\n",
    "![Captura desde 2025-02-12 15-44-03.png](attachment:fd135bcc-cc53-4611-9467-fbc1abbb5759.png)\n",
    "| Componente | Descripción | Ejemplo |\n",
    "|---|---|---|\n",
    "| **Ruta completa** | Solicitar una imagen de una pagina web | `http://example.com/images/logo.png` |\n",
    "| `Method` | El tipo de acción que el cliente desea realizar. | `GET` (recuperar), `POST` (enviar datos),  <br>  `PUT` (actualizar), `DELETE` (eliminar) |\n",
    "| `Path` | Ubicación del recurso en el servidor. | `/images/logo.png` |\n",
    "| `Version` | Versión del protocolo HTTP que se utiliza. | `HTTP/1.1`, `HTTP/2.0` |\n",
    "| `Headers` | <br> - Información adicional sobre la solicitud y el cliente.  <br> - Nombre, puerto del servidor  <br> - Tipo de método de la solicitud y el tipo de contenido | `Content-Type: application/json`,  <br>    `User-Agent: Mozilla/5.0` |\n",
    "| `Body` (Opcional) | Datos que se envían al servidor (para ciertos métodos como `POST`, `PUT`). | Datos JSON para el registro de un nuevo usuario |\n"
   ]
  },
  {
   "cell_type": "markdown",
   "id": "f48e4c89-8c25-46ed-ac8a-435da709887b",
   "metadata": {},
   "source": [
    "### Componentes HTTP Response\n",
    "\n",
    "| Componente | Descripción | Ejemplo |\n",
    "|---|---|---|\n",
    "| `Status Code` | Número de tres dígitos que indica el estado de la solicitud. | <br>  `200` (OK),<br>   `404` (Not Found), <br>  `500` (Internal Server Error) |\n",
    "| `Status Message` | Representación textual del `Status Code`. | <br>  `\"OK\"`,<br>   `\"Not Found\"`, <br>  `\"Internal Server Error\"` |\n",
    "| `Headers` | Información adicional sobre la respuesta y el servidor. | <br>  `Content-Type: text/html`, <br>  `Server: Apache/2.4.41`, <br>  `Cache-Control: public, max-age=3600` |\n",
    "| `Body` (Opcional) | Contenido de la respuesta, como un documento HTML, una imagen, etc. | El código HTML de una página web, los datos de un archivo JSON, una imagen en formato PNG |\n",
    "\n",
    "---"
   ]
  },
  {
   "cell_type": "markdown",
   "id": "fa3279f2-7590-4001-9cc5-08dbd45d39b2",
   "metadata": {},
   "source": [
    "### `HTTP Status Codes`\n",
    "\n",
    "Los `HTTP Status Codes` (Respuestas del Servidor) se dividen en cinco grupos:\n",
    "\n",
    "| Rango | Grupo | Descripción | Ejemplos |\n",
    "|---|---|---|---|\n",
    "| 100-199 | Informativos | Respuestas provisionales. | `100 CONTINUE` |\n",
    "| 200-299 | Exitosos | La solicitud se procesó correctamente. | `200 OK`, `201 Created` |\n",
    "| 300-399 | Redirecciones | El recurso solicitado se ha movido. | `301 Moved Permanently`, `302 Found` |\n",
    "| 400-499 | Errores del Cliente | La solicitud contiene errores. | `400 Bad Request`, `404 Not Found` |\n",
    "| 500-599 | Errores del Servidor | Ocurrió un error en el servidor. | `500 Internal Server Error`, `503 Service Unavailable` |\n"
   ]
  },
  {
   "cell_type": "markdown",
   "id": "d91a2119-0ec3-4ef2-995d-cbeb333eab25",
   "metadata": {},
   "source": [
    "---\n",
    "| **Categoría**             | **Código** | **Mensaje**             | **Descripción** |\n",
    "|--------------------------|-----------|------------------------|----------------|\n",
    "| **1xx - Informational**  | 100       | Continue               | El cliente debe continuar con la solicitud. |\n",
    "|                          | 101       | Switching Protocols    | El servidor acepta cambiar el protocolo. |\n",
    "|                          | 102       | Processing             | El servidor está procesando la solicitud. |\n",
    "| **2xx - Success**        | 200       | OK                     | La solicitud se ha procesado correctamente. |\n",
    "|                          | 201       | Created                | Se ha creado un nuevo recurso en el servidor. |\n",
    "|                          | 202       | Accepted               | La solicitud ha sido aceptada pero aún no procesada. |\n",
    "|                          | 204       | No Content             | La solicitud se ha completado, pero no hay contenido en la respuesta. |\n",
    "| **3xx - Redirection**    | 301       | Moved Permanently      | El recurso se ha movido permanentemente a otra URL. |\n",
    "|                          | 302       | Found                  | El recurso ha sido movido temporalmente a otra URL. |\n",
    "|                          | 304       | Not Modified           | El recurso no ha cambiado desde la última solicitud. |\n",
    "| **4xx - Client Errors**  | 400       | Bad Request            | La solicitud tiene un error de sintaxis o es inválida. |\n",
    "|                          | 401       | Unauthorized           | Se requiere autenticación para acceder al recurso. |\n",
    "|                          | 403       | Forbidden              | El servidor deniega el acceso al recurso. |\n",
    "|                          | 404       | Not Found              | El recurso solicitado no se encuentra en el servidor. |\n",
    "| **5xx - Server Errors**  | 500       | Internal Server Error  | Error general del servidor. |\n",
    "|                          | 502       | Bad Gateway            | El servidor recibió una respuesta inválida de otro servidor. |\n",
    "|                          | 503       | Service Unavailable    | El servidor no está disponible temporalmente. |\n",
    "|                          | 504       | Gateway Timeout        | El servidor no recibió respuesta a tiempo de otro servidor. |\n",
    "\n"
   ]
  },
  {
   "cell_type": "markdown",
   "id": "6471834f-7240-4627-b93a-38b67129207d",
   "metadata": {},
   "source": [
    "### Ejemplos"
   ]
  },
  {
   "cell_type": "markdown",
   "id": "633e6ea0-096c-4a33-bacb-a386d9b57aae",
   "metadata": {},
   "source": [
    "---\n",
    "#####  a). Petición `HTTP GET`"
   ]
  },
  {
   "cell_type": "code",
   "execution_count": null,
   "id": "17b3f2a8-77db-460c-9a30-ddf749530af4",
   "metadata": {},
   "outputs": [],
   "source": [
    "GET / HTTP/1.1\n",
    "Host: developer.mozilla.org\n",
    "Accept-Language: en"
   ]
  },
  {
   "cell_type": "markdown",
   "id": "e85ff39c-407b-4f91-b0df-41a69b8906f6",
   "metadata": {},
   "source": [
    "---\n",
    "##### b) Petición HTTP POST con JSON"
   ]
  },
  {
   "cell_type": "code",
   "execution_count": null,
   "id": "5f309fc6-0068-4114-98d2-f54b27bd4acc",
   "metadata": {},
   "outputs": [],
   "source": [
    "POST /usuarios HTTP/1.1\n",
    "Host: ejemplo.com\n",
    "Content-Type: application/json\n",
    "\n",
    "{\n",
    "  \"nombre\": \"Juan\",\n",
    "  \"email\": \"juan@ejemplo.com\"\n",
    "}\n"
   ]
  },
  {
   "cell_type": "markdown",
   "id": "783bf6db-2cab-418a-aab8-59e30ed88163",
   "metadata": {},
   "source": [
    "---\n",
    "##### c) Respuesta HTTP exitosa"
   ]
  },
  {
   "cell_type": "code",
   "execution_count": null,
   "id": "7fa23ca4-9809-40c2-a489-fc7db2239138",
   "metadata": {},
   "outputs": [],
   "source": [
    "HTTP/1.1 200 OK\n",
    "Content-Type: application/json\n",
    "\n",
    "{\n",
    "  \"mensaje\": \"Inicio de sesión exitoso\"\n",
    "}"
   ]
  },
  {
   "cell_type": "markdown",
   "id": "b3ede752-075c-4bfa-8e1e-19e2c37b1e9f",
   "metadata": {},
   "source": [
    "---\n",
    "##### d) Petición GET en Python"
   ]
  },
  {
   "cell_type": "code",
   "execution_count": null,
   "id": "8fabf761-d041-437e-b249-4af2947102b5",
   "metadata": {},
   "outputs": [],
   "source": [
    "import requests\n",
    "\n",
    "url = \"https://jsonplaceholder.typicode.com/posts/1\"\n",
    "response = requests.get(url)\n",
    "\n",
    "print(\"Código de estado:\", response.status_code)\n",
    "print(\"Contenido:\", response.json())\n"
   ]
  },
  {
   "cell_type": "markdown",
   "id": "fcb756ea-9956-4d6f-84fd-2b55c20f15f4",
   "metadata": {},
   "source": [
    "---\n",
    "##### e) Petición POST en Python"
   ]
  },
  {
   "cell_type": "code",
   "execution_count": null,
   "id": "e6d0acf4-8ec0-43fb-b73c-1bd7e5bdab03",
   "metadata": {},
   "outputs": [],
   "source": [
    "import requests\n",
    "\n",
    "url = \"https://jsonplaceholder.typicode.com/posts\"\n",
    "data = {\n",
    "    \"title\": \"Nuevo post\",\n",
    "    \"body\": \"Contenido del post\",\n",
    "    \"userId\": 1\n",
    "}\n",
    "\n",
    "response = requests.post(url, json=data)\n",
    "\n",
    "print(\"Código de estado:\", response.status_code)\n",
    "print(\"Respuesta:\", response.json())"
   ]
  },
  {
   "cell_type": "markdown",
   "id": "ea768b3b-63a6-4713-a0a1-99823fbbe35c",
   "metadata": {},
   "source": [
    "## Request - Response\n",
    "* En arquitectura `cliente-servidor`"
   ]
  },
  {
   "cell_type": "markdown",
   "id": "16529435-d18b-44c4-bf6a-da28c6fb2c91",
   "metadata": {},
   "source": [
    "| Concepto | Descripción |\n",
    "|---|---|\n",
    "| **Funcionamiento** | Una aplicación web opera bajo el principio de un ciclo de `request`-`response`, siguiendo el protocolo HTTP. |\n",
    "| **Solicitud** | El navegador (cliente) envía una solicitud, generalmente en forma de URL. |\n",
    "| **Respuesta** | La aplicación web (servidor) genera una respuesta basada en la información de la solicitud. |\n",
    "| **Django** | Utiliza las clases `HttpRequest` y `HttpResponse` del módulo `django.http` para gestionar la solicitud y la respuesta. |"
   ]
  },
  {
   "cell_type": "markdown",
   "id": "2fdae109-46b4-48be-8d2d-716836f8b2f7",
   "metadata": {},
   "source": [
    "---\n",
    "### HttpRequest\n",
    "\n",
    "* *Cuando Django recibe una request HTTP*:\n",
    "\n",
    "  1) La URL despachada se asocia con una view.\n",
    "  2) Se genera un objeto HttpRequest, que contiene todos los datos de la request.\n",
    "  3) Este objeto se pasa como primer argumento a la view.\n"
   ]
  },
  {
   "cell_type": "markdown",
   "id": "50c34cbe-bb0d-403e-849d-bea7d11c8c5b",
   "metadata": {},
   "source": [
    "#### Sintaxis `HttpRequest`"
   ]
  },
  {
   "cell_type": "code",
   "execution_count": null,
   "id": "e497ddb0-0472-4ef2-80e6-d6c0f208915f",
   "metadata": {},
   "outputs": [],
   "source": [
    "def view_name(request):\n",
    "    if request.method == 'GET':\n",
    "        # Procesar una request GET\n",
    "        pass  \n",
    "    elif request.method == 'POST':\n",
    "        # Procesar una request POST\n",
    "        pass"
   ]
  },
  {
   "cell_type": "markdown",
   "id": "30c6a796-d236-4ace-9714-71abcb204f29",
   "metadata": {},
   "source": [
    "---\n",
    "####  Atributos `HttpRequest`"
   ]
  },
  {
   "cell_type": "markdown",
   "id": "23ab6f6d-52b7-4704-94ee-b1da9265b45b",
   "metadata": {},
   "source": [
    "| Atributo | Descripción |\n",
    "|----------|------------|\n",
    "| `request.method` | Indica el método HTTP utilizado (`GET`, `POST`, `PUT`, `DELETE`). |\n",
    "| `request.GET` | Diccionario con los parámetros enviados en una request **GET**. |\n",
    "| `request.POST` | Diccionario con los parámetros enviados en una request **POST**. |\n",
    "| `request.COOKIES` | Diccionario con las cookies enviadas por el cliente. |\n",
    "| `request.FILES` | Diccionario con los archivos enviados en un **multipart form**. |\n",
    "| `request.user` | Usuario autenticado (`User`) o `AnonymousUser` si no ha iniciado sesión. |"
   ]
  },
  {
   "cell_type": "markdown",
   "id": "5b0d85b9-8704-46d2-bb01-4639267cbab4",
   "metadata": {},
   "source": [
    "---\n",
    "### HttpResponse\n",
    "\n",
    "* A diferencia de `HttpRequest`, que Django recibe automáticamente del servidor, `HttpResponse` se **crea en la view** antes de ser enviada al cliente.\n"
   ]
  },
  {
   "cell_type": "markdown",
   "id": "62c3c7ed-76c1-4934-a993-8939e04c17e0",
   "metadata": {},
   "source": [
    "---\n",
    "#### Sintaxis `HttpResponse`"
   ]
  },
  {
   "cell_type": "code",
   "execution_count": null,
   "id": "5ad8a4d7-7d5d-4528-b659-9603b087ddca",
   "metadata": {},
   "outputs": [],
   "source": [
    "from django.http import HttpResponse\n",
    "\n",
    "def view_name(request):\n",
    "    return HttpResponse(\"Mensaje de respuesta\")"
   ]
  },
  {
   "cell_type": "markdown",
   "id": "caa1950a-c421-4f18-97d9-b91edb3a2747",
   "metadata": {},
   "source": [
    "---\n",
    "#### Modificar `HttpResponse`\n",
    "| Método | Uso |\n",
    "|--------|-----|\n",
    "| `HttpResponse(\"Texto\")` | Devuelve una respuesta con texto. |\n",
    "| `response.headers[\"Clave\"] = \"Valor\"` | Modifica un encabezado HTTP. |\n",
    "| `HttpResponse(content_type=\"text/plain\")` | Cambia el tipo de respuesta. |\n",
    "\n",
    "---"
   ]
  },
  {
   "cell_type": "markdown",
   "id": "a859d510-b829-4fa7-9b2b-4e1173c135b0",
   "metadata": {},
   "source": [
    "#### Atributos y métodos `HttpResponse`\n",
    "| Atributo/Método | Descripción |\n",
    "|-----------------|------------|\n",
    "| `response.status_code` | Devuelve el código de estado HTTP de la response. |\n",
    "| `response.content` | Contenido de la response en bytes. |\n",
    "| `response.__getitem__()` | Devuelve el valor de una header. |\n",
    "| `response.__setitem__()` | Agrega o modifica una header. |\n",
    "| `response.write()` | Escribe datos en la response como si fuera un archivo. |\n",
    "\n",
    "---"
   ]
  },
  {
   "cell_type": "markdown",
   "id": "09a13c7e-97f9-49b9-a321-ba64d9904b95",
   "metadata": {},
   "source": [
    "### Ejemplos "
   ]
  },
  {
   "cell_type": "markdown",
   "id": "0f37d075-ed26-4a50-9e6c-8346b7c6801a",
   "metadata": {
    "jp-MarkdownHeadingCollapsed": true
   },
   "source": [
    "##### a) Acceder atributos `HttpRequest`"
   ]
  },
  {
   "cell_type": "code",
   "execution_count": null,
   "id": "c775a452-bf95-4871-be01-fbc5650ec93b",
   "metadata": {},
   "outputs": [],
   "source": [
    "def home(request):\n",
    "    path = request.path  # Obtiene la ruta solicitada\n",
    "    return HttpResponse(f\"La URL solicitada es: {path}\")"
   ]
  },
  {
   "cell_type": "markdown",
   "id": "c4fd4a04-c230-4dcc-bdfb-1f417e11569c",
   "metadata": {
    "jp-MarkdownHeadingCollapsed": true
   },
   "source": [
    "---\n",
    "##### b) Modificar `HttpResponse`\n",
    "* El objeto `HttpResponse` se puede personalizar con contenido, tipo de respuesta y codificación."
   ]
  },
  {
   "cell_type": "code",
   "execution_count": null,
   "id": "66026f83-d9da-4661-b283-ea03c2cba844",
   "metadata": {},
   "outputs": [],
   "source": [
    "def home(request):\n",
    "    path = request.path\n",
    "    return HttpResponse(path, content_type=\"text/plain\", charset=\"utf-8\")"
   ]
  },
  {
   "cell_type": "markdown",
   "id": "1b834d0e-e427-477e-89a0-5a70b419bacf",
   "metadata": {
    "jp-MarkdownHeadingCollapsed": true
   },
   "source": [
    "---\n",
    "##### c)  Almacenar `HttpResponse` en una variable\n",
    "* Se almacena el `HttpResponse` en la variable `response`.\n",
    "* Se devuelve la variable `response`."
   ]
  },
  {
   "cell_type": "code",
   "execution_count": null,
   "id": "10537678-d30f-4579-986f-af95ca8d7224",
   "metadata": {},
   "outputs": [],
   "source": [
    "def home(request):\n",
    "    response = HttpResponse(\"Esto funciona\")\n",
    "    return response"
   ]
  },
  {
   "cell_type": "markdown",
   "id": "372963a3-98cd-4be8-a8a0-6d74a50b1e49",
   "metadata": {},
   "source": [
    "---\n",
    "##### d)  Acceder a información `HttpRequest`\n",
    "* Se pueden extraer datos como método, dirección IP y agente de usuario."
   ]
  },
  {
   "cell_type": "code",
   "execution_count": null,
   "id": "beef25c6-21d5-44ea-bf58-e5a4df661f6f",
   "metadata": {},
   "outputs": [],
   "source": [
    "def home(request):\n",
    "    scheme = request.scheme  # http o https\n",
    "    method = request.method  # GET o POST\n",
    "    user_agent = request.META.get('HTTP_USER_AGENT', 'Desconocido')\n",
    "    \n",
    "    return HttpResponse(f\"Esquema: {scheme}, Método: {method}, User-Agent: {user_agent}\")"
   ]
  },
  {
   "cell_type": "markdown",
   "id": "7ac36e8a-0f2a-465f-835a-29320dce8692",
   "metadata": {},
   "source": [
    "## URL "
   ]
  },
  {
   "cell_type": "markdown",
   "id": "197ee717-c910-4b49-8ad4-f8a0e27d5178",
   "metadata": {},
   "source": [
    "\n",
    "| Concepto  | Descripción  | Ejemplo  |\n",
    "|-----------|-------------|----------|\n",
    "| **URL (Uniform Resource Locator)** | Dirección única de un recurso en la web.  | `https://www.google.com/search?q=python` |\n",
    "| **Función** | Localiza recursos en la web y los hace accesibles. | Al escribir una URL en el navegador, este recupera la página web. |\n",
    "| **Estructura** | Se compone de varias partes organizadas jerárquicamente. | Ver cuadro siguiente. |\n",
    "\n",
    "---"
   ]
  },
  {
   "attachments": {
    "e9604929-93fd-4395-a127-4dd34162e782.png": {
     "image/png": "[encoded data removed]"
    }
   },
   "cell_type": "markdown",
   "id": "21a08fbf-a1ce-43e0-b11f-4a8f27cd9600",
   "metadata": {},
   "source": [
    "\n",
    "### Estructura de una URL \n",
    "![Captura desde 2025-02-12 17-07-30.png](attachment:e9604929-93fd-4395-a127-4dd34162e782.png)\n",
    "\n",
    "| Parte | Descripción | Ejemplo |\n",
    "|-------|------------|---------|\n",
    "| **Scheme (Protocolo)** | Al principio de cualquier dirección URL.  <br> Se identifica como `HTTP` o `HTTPS`:    <br>   `http://`  (HyperText Transfer Protocol) , envía datos en texto plano.  ❌ No seguro <br> `https://` (HyperText Transfer Protocol Secure), encripta datos. ✅ Seguro   | `https://` |\n",
    "| **Subdomain** | Se encuentra antes del dominio.   <br> Normalmente contiene la página de inicio y págs importantes. <br> Subdominio más comun `www.` | `www.` |\n",
    "| **Second-level domain (SLD)** | Nombre del sitio web o empresa. | `google` |\n",
    "| **Top-level domain (TLD)** | Categoría o país del sitio web. |`.com`, `.org`, `.edu` |\n",
    "| **File path (Ruta de archivo/página)** | <br>  - Ubicación del recurso dentro del servidor. <br>  - El recurso puede ser cualquier tipo de archivo que se pueda transmitir a través de `HTTPS` <br>  - *Tipos de archivos*:  docs web, HTML, imágenes, metadatos.  <br>  - *Hosting*: Los archivos pueden estar en un servidor local (`http://127.0.0.1:8000/menu`) o en la web. (`https://example.com/images/logo.png`).| `/search/results.html` |\n",
    "| **Parameters (Parámetros / query strings)** | Se usan para estructurar información adicional dentro de la URL. <br>   `?`  Indica el inicio de los parámetros: `?q=python` <br>   `&` Separa múltiples parámetros:`&page=2` <br>  `=` Asigna valores a las claves:`q=python`    | `?q=python&page=2` |\n",
    "\n",
    "*Ejemplo de URL completa:*  \n",
    "```\n",
    "https://www.google.com/search?q=django&page=2\n",
    "```\n",
    "\n",
    "---"
   ]
  },
  {
   "cell_type": "markdown",
   "id": "f5a9fa2a-b926-44e7-88db-f58ef9e5eab7",
   "metadata": {},
   "source": [
    "### URLs en Django\n",
    "\n",
    "* En Django, se definen URLs utilizando la función `path()` dentro de la lista `urlpatterns` en el `archivo urls.py`\n",
    "* Cada URL se asocia con una `view function`, que maneja la solicitud y genera una respuesta."
   ]
  },
  {
   "cell_type": "markdown",
   "id": "a66cf3b2-ac4a-41db-b1f7-9ac9c7b4f608",
   "metadata": {},
   "source": [
    "#### Pasar parámetros en URLs\n",
    "\n",
    "* Pasar información desde la URL a la vista.\n",
    "*  Para esto, se pueden capturar parámetros de URL usando angle brackets (`<>`) dentro de la función `path()`."
   ]
  },
  {
   "cell_type": "markdown",
   "id": "c71f622e-1a2a-4096-9c77-c117e0b1e322",
   "metadata": {},
   "source": [
    "##### Sintaxis:  Pasar parámetros en URLs\n",
    "\n",
    "1) `ruta/` → Define el inicio de la URL.\n",
    "2) `<tipo:parametro>/` → Captura un valor dinámico desde la URL.\n",
    "   * `tipo` → Define el tipo de dato del parámetro (ej. str, int).\n",
    "   * `parametro` → Nombre del argumento que se pasará a la vista.\n",
    "   * `views.funcion_vista` → Llama a la función de vista que procesará el valor capturado.\n"
   ]
  },
  {
   "cell_type": "code",
   "execution_count": null,
   "id": "a6db163d-acdd-4284-b404-00e08d935099",
   "metadata": {},
   "outputs": [],
   "source": [
    "from django.urls import path\n",
    "from . import views\n",
    "\n",
    "urlpatterns = [\n",
    "    path('ruta/<tipo:parametro>/', views.funcion_vista),\n",
    "]"
   ]
  },
  {
   "cell_type": "markdown",
   "id": "b39d116e-1698-4d6b-9208-ba6e7bc4acb7",
   "metadata": {},
   "source": [
    "#### Path converters disponibles\n",
    "| **Tipo** | **Descripción** | **Ejemplo** |\n",
    "|----------|----------------|-------------|\n",
    "| `str` | Captura un string sin `/` | `<str:name>` |\n",
    "| `int` | Captura un número entero | `<int:id>` |\n",
    "| `slug` | Captura un slug (`letras-numeros-guion`) | `<slug:slug>` |\n",
    "| `uuid` | Captura un UUID | `<uuid:uid>` |\n",
    "\n",
    "---"
   ]
  },
  {
   "cell_type": "markdown",
   "id": "3bd73c01-b3b0-44b9-a446-85888293aedb",
   "metadata": {},
   "source": [
    "### URLs Dinámicas "
   ]
  },
  {
   "cell_type": "markdown",
   "id": "6534d226-0e5a-4615-a05b-db9692c9de10",
   "metadata": {},
   "source": [
    "| **Método**      | **Descripción**                                  |\n",
    "|---------------|--------------------------------------------------|\n",
    "| **URL dinámica** |  <br>  - Puede cambiar porque contiene valores variables dentro de su estructura.  <br>  - hay dos formas de definir URLs dinámicas: `path()` y  `re_path()`|\n",
    "| **`path()`**   | Usa \"path converters\" para números o texto.      |\n",
    "| **`re_path()`** | Usa expresiones regulares (RegEx) para validaciones complejas. |\n"
   ]
  },
  {
   "cell_type": "markdown",
   "id": "35b9081b-fd42-4b14-80ae-0b55f624e83b",
   "metadata": {},
   "source": [
    "#### URL dinámica con path()\n",
    "* `ruta/` → Parte estática de la URL.\n",
    "* `<tipo:nombre_parametro>/` → Define un valor dinámico que Django capturará.\n",
    "* `vista_a_llamar` → Es la función que recibirá el valor del parámetro."
   ]
  },
  {
   "cell_type": "code",
   "execution_count": null,
   "id": "cd4cbe89-dcd0-4739-950d-be4b3a1d6c9b",
   "metadata": {},
   "outputs": [],
   "source": [
    "path('ruta/<tipo:nombre_parametro>/', vista_a_llamar)"
   ]
  },
  {
   "cell_type": "markdown",
   "id": "6e174e64-be2d-4bfb-933e-75d5fc99b050",
   "metadata": {},
   "source": [
    "##### Tipos de parámetros disponibles en path()"
   ]
  },
  {
   "cell_type": "markdown",
   "id": "0e4580b9-a1dc-4c8c-a100-a0ea56cdff7d",
   "metadata": {},
   "source": [
    "| **Tipo** | **Uso** | **¿Qué valores permite?** |\n",
    "|----------|--------|--------------------------|\n",
    "| `int` | `<int:nombre>/` | Solo números enteros (`1, 2, 100`). |\n",
    "| `str` | `<str:nombre>/` | Texto sin espacios (`hola, prueba123`). |\n",
    "| `slug` | `<slug:nombre>/` | Texto con guiones (`mi-titulo`). |\n",
    "| `path` | `<path:nombre>/` | Texto que puede contener `/`. |\n"
   ]
  },
  {
   "cell_type": "markdown",
   "id": "738d4725-8aec-4e8c-b83d-b9d925f3c29b",
   "metadata": {},
   "source": [
    "#### URL dinámica con re_path()\n",
    "* `r'^ruta/'` → Define el inicio de la URL.\n",
    "* `(?P<nombre_parametro>patrón)` → Define un parámetro dinámico con validación.\n",
    "* `/$` → Indica que la URL debe terminar ahí.\n",
    "* `vista_a_llamar` → Es la función que procesará el valor."
   ]
  },
  {
   "cell_type": "code",
   "execution_count": null,
   "id": "080a7246-a474-445b-8d1a-4dbfd5eeb18c",
   "metadata": {},
   "outputs": [],
   "source": [
    "from django.urls import re_path\n",
    "urlpatterns = [\n",
    "    re_path(r'^ruta/(?P<nombre_parametro>patrón)/$', vista_a_llamar)]"
   ]
  },
  {
   "cell_type": "markdown",
   "id": "65295c21-6d86-4faa-8c20-ad3fc2260deb",
   "metadata": {},
   "source": [
    "#### Caracteres especiales en RegEx\n",
    "| Símbolo  | Significado  | Ejemplo |\n",
    "|---------|------------|--------|\n",
    "| `^`  | Inicio de la cadena  | `^hello` (debe empezar con \"hello\") |\n",
    "| `$`  | Fin de la cadena  | `world$` (debe terminar en \"world\") |\n",
    "| `[]` | Conjunto de caracteres permitidos | `[0-9]` (cualquier número) |\n",
    "| `{}` | Número de repeticiones | `[0-9]{2,4}` (2 a 4 dígitos) |\n",
    "| `()` | Agrupar expresiones | `(abc|def)` (puede ser \"abc\" o \"def\") |\n"
   ]
  },
  {
   "cell_type": "markdown",
   "id": "46c4522c-fbe7-42a4-af3d-1d036aa73248",
   "metadata": {},
   "source": [
    "#### Diferencias entre `path()` y `re_path()`\n",
    "\n",
    "| **Característica** | **path()** | **re_path()** |\n",
    "|------------------|------------|------------|\n",
    "| **Facilidad de uso** | Más simple y legible. | Más complejo por usar RegEx. |\n",
    "| **Validación de parámetros** | Solo los tipos predefinidos (`int, str, slug, path`). | Permite cualquier validación con expresiones regulares. |\n",
    "| **Flexibilidad** | Menos flexible, depende de los tipos disponibles. | Más flexible, permite definir reglas personalizadas. |\n",
    "| **¿Cuándo usarlo?** | Cuando los valores son simples y predecibles. | Cuando necesitas reglas más avanzadas de validación. |\n",
    "\n",
    "---"
   ]
  },
  {
   "cell_type": "markdown",
   "id": "b12eb425-e16d-4d43-9247-e49570bf4238",
   "metadata": {},
   "source": [
    "## Parámetros en views"
   ]
  },
  {
   "cell_type": "markdown",
   "id": "be31b2e5-2be3-4d15-a8b5-9e8a6d22a46a",
   "metadata": {},
   "source": [
    " | **Concepto**            | **Descripción** |\n",
    "|-------------------------|----------------|\n",
    "| **Parámetro de Ruta  <br>  (`path` parameter)**  | Se envía en la propia URL y se define en `urls.py` usando `path()`. |\n",
    "| **Parámetro de Consulta  <br> (`query` parameter)**  | Se envía en la URL después de `?`, accediendo a ellos con `request.GET`. |\n",
    "|  **Parámetro de Cuerpo <br>  (`body` parameter)** | Se envía en el cuerpo de la solicitud (usualmente con `POST`), accediendo a ellos con `request.POST`. |\n",
    "\n",
    "---"
   ]
  },
  {
   "cell_type": "markdown",
   "id": "ea73b810-029c-43b0-ad0c-b18d6eba68b9",
   "metadata": {},
   "source": [
    "### Path Parameters\n",
    "* *Uso*\n",
    "   * Se incluyen en la URL y se definen en `urls.py` usando `<tipo:parametro>`.\n",
    "   * Se capturan como argumentos de la función en `views.py`.\n",
    "* *Detalles*\n",
    "   * `<tipo:parametro>`capturar un valor de una URL.\n",
    "   * `tipo` puede ser `str, int, slug, uuid, path`.\n",
    "   * Se pasa como argumento a la función de vista."
   ]
  },
  {
   "cell_type": "markdown",
   "id": "1dc3c803-193c-432d-b6a4-d6abe2c81670",
   "metadata": {},
   "source": [
    "##### Sintaxis :"
   ]
  },
  {
   "cell_type": "code",
   "execution_count": null,
   "id": "0e9fea28-aa38-4f85-b651-5e9ddffc2e2b",
   "metadata": {},
   "outputs": [],
   "source": [
    "# urls.py\n",
    "from django.urls import path\n",
    "from . import views\n",
    "\n",
    "urlpatterns = [\n",
    "    path('ruta/<tipo:parametro>/', views.mi_vista, name='nombre_vista'),\n",
    "]"
   ]
  },
  {
   "cell_type": "code",
   "execution_count": null,
   "id": "8a536d6a-c998-4337-8fa0-b419f459ab4a",
   "metadata": {},
   "outputs": [],
   "source": [
    "# views.py\n",
    "from django.http import HttpResponse\n",
    "\n",
    "def mi_vista(request, parametro):\n",
    "    query = parametro\n",
    "    return HttpResponse(f\"Valor: {parametro}\")"
   ]
  },
  {
   "cell_type": "markdown",
   "id": "fef78558-65ed-465b-af2d-46919739f901",
   "metadata": {},
   "source": [
    "### Query Parameters\n",
    "* *Uso:*\n",
    "  * pasan en la URL después del `?` como `clave=valor`.\n",
    "  * Se acceden con `request.GET`\n",
    "* *Detalles:*\n",
    "  * `request.GET` es un diccionario que almacena los parámetros.\n",
    "  * Se acceden con `request.GET['clave']` o `request.GET.get('clave', 'valor_default')`\n",
    "  * Se separan con `&` en la URL (`?clave1=valor1&clave2=valor2`)"
   ]
  },
  {
   "cell_type": "markdown",
   "id": "df67bc92-cf42-4283-8317-e59039939fbe",
   "metadata": {},
   "source": [
    "##### Sintaxis :"
   ]
  },
  {
   "cell_type": "code",
   "execution_count": null,
   "id": "92855aa4-0a0c-4362-b185-9f19922991f2",
   "metadata": {},
   "outputs": [],
   "source": [
    "# urls.py\n",
    "urlpatterns = [\n",
    "    path('ruta/', views.mi_vista, name='nombre_vista'),\n",
    "]"
   ]
  },
  {
   "cell_type": "code",
   "execution_count": null,
   "id": "7b9f3dde-233b-40c6-a595-a0099377c2ab",
   "metadata": {},
   "outputs": [],
   "source": [
    "# views.py\n",
    "def mi_vista(request):\n",
    "    if request.method == \"POST\":\n",
    "        valor = request.POST.get('clave', 'valor_por_defecto')\n",
    "        return HttpResponse(f\"Valor: {valor}\")"
   ]
  },
  {
   "cell_type": "markdown",
   "id": "7a7b3893-a240-47b2-baf4-c7fc6397d02d",
   "metadata": {},
   "source": [
    "### Body Parameters\n",
    "* *Uso:*\n",
    "  * Se envían en el cuerpo de la solicitud con `POST`.\n",
    "  * Se acceden con `request.POST`.\n",
    "\n",
    "* *Detalles:*\n",
    "  * `request.POST` es un diccionario con los datos enviados.\n",
    "  * Se acceden con `request.POST['clave']` o `request.POST.get('clave', 'valor_default')`\n",
    "  * Se usa en formularios o JSON enviados en `POST`."
   ]
  },
  {
   "cell_type": "markdown",
   "id": "27d5c9c9-9177-41bd-97fe-aad766707a65",
   "metadata": {},
   "source": [
    "##### Sintaxis :"
   ]
  },
  {
   "cell_type": "code",
   "execution_count": null,
   "id": "d495ad6f-3283-431f-8671-b4c435c5e970",
   "metadata": {},
   "outputs": [],
   "source": [
    "# urls.py\n",
    "urlpatterns = [\n",
    "    path('ruta/', views.mi_vista, name='nombre_vista'),\n",
    "]"
   ]
  },
  {
   "cell_type": "code",
   "execution_count": null,
   "id": "1e8f755f-49c0-491e-9766-8d8838b8e6d1",
   "metadata": {},
   "outputs": [],
   "source": [
    "# views.py\n",
    "def mi_vista(request):\n",
    "    valor = request.GET.get('clave', 'valor_por_defecto')\n",
    "    return HttpResponse(f\"Valor: {valor}\")"
   ]
  },
  {
   "cell_type": "markdown",
   "id": "536bc05c-0b22-4c70-88ca-4bf23576b289",
   "metadata": {},
   "source": [
    "### View que recibe parámtros"
   ]
  },
  {
   "cell_type": "code",
   "execution_count": null,
   "id": "48fefa29-0756-4003-8d47-66eb581ac9be",
   "metadata": {},
   "outputs": [],
   "source": [
    "from django.http import HttpResponse\n",
    "\n",
    "def funcion_vista(request, parametro):\n",
    "    diccionario = {\n",
    "        \"clave1\": \"valor1\",\n",
    "        \"clave2\": \"valor2\",\n",
    "    }\n",
    "    descripcion = diccionario.get(parametro, \"Valor no encontrado\")\n",
    "    return HttpResponse(f\"<h1>{parametro}</h1><p>{descripcion}</p>\")"
   ]
  },
  {
   "cell_type": "markdown",
   "id": "32514c28-f382-4529-8810-2c79770fefde",
   "metadata": {},
   "source": [
    "## Manejo de errores"
   ]
  },
  {
   "cell_type": "markdown",
   "id": "30f8a6df-c156-4cb7-ae45-d17007ffcfa9",
   "metadata": {},
   "source": [
    "### Errores Comunes del Cliente (400-499)\n",
    "* Estos errores indican que la solicitud realizada por el usuario tiene problemas."
   ]
  },
  {
   "cell_type": "markdown",
   "id": "68108ca2-278d-41b5-be45-83904131de34",
   "metadata": {},
   "source": [
    "| Código | Descripción |\n",
    "|--------|------------|\n",
    "| **400** | *Bad Request* → Solicitud erronea. Los parámetros en la solicitud no son los esperado por el servidor. |\n",
    "| **401** | *Unauthorized* → El usuario debe iniciar sesión antes de procesar la solicitud. |\n",
    "| **403** | *Forbidden* → La solicitud es válida, pero el servidor web se niega a procesarla. El usuario no tiene permisos para acceder al recurso.|\n",
    "| **404** | *Not Found* → El recurso solicitado no se encuentra en el servidor web o ruta del archivo especificada |\n",
    "\n",
    "---"
   ]
  },
  {
   "cell_type": "markdown",
   "id": "fb3b2402-121b-4a3e-9f21-bb7149145db8",
   "metadata": {},
   "source": [
    "### Errores del Servidor  (500-599)\n",
    "* Estos errores suelen indicar fallos en la aplicación o en la infraestructura.\n",
    "* Estos errores ocurren cuando hay problemas internos en el servidor.\n",
    "* La aplicación ha fallado o no se está ejecutando o el limite de tiempo en la solicitud de llamada, el servidor tarda en responder."
   ]
  },
  {
   "cell_type": "markdown",
   "id": "a3e0f669-e39d-4ecb-838a-06d9fe22ea7f",
   "metadata": {},
   "source": [
    "| Código | Descripción |\n",
    "|--------|------------|\n",
    "| **500** | *Internal Server Error* → Fallo general del servidor al procesar la solicitud. |\n",
    "| **503** | *Service Unavailable* → El servidor no está disponible temporalmente. |\n",
    "\n",
    "---"
   ]
  },
  {
   "cell_type": "markdown",
   "id": "21ea0606-5370-444f-a7bc-ef7d019f3f12",
   "metadata": {},
   "source": [
    "## Manejo de errores en Django"
   ]
  },
  {
   "cell_type": "markdown",
   "id": "826bef49-3c80-427c-9907-6e5586e0b951",
   "metadata": {},
   "source": [
    "#### Configurar Manejo de Errores en Django\n",
    "* Django permite personalizar la forma en que se manejan los errores mediante handlers en el archivo `urls.py` del proyecto."
   ]
  },
  {
   "cell_type": "markdown",
   "id": "db3f4f06-7be8-45c0-9261-dc76028361eb",
   "metadata": {},
   "source": [
    "---\n",
    "**Paso 1**: Definir los handlers en  `urls.py` (Proyecto principal)\n",
    "*  *Importante*: Estos handlers solo funcionan si están en el urls.py del proyecto principal, no en las aplicaciones individuales."
   ]
  },
  {
   "cell_type": "code",
   "execution_count": null,
   "id": "8978e488-89c8-4a75-bb13-46cc02796656",
   "metadata": {},
   "outputs": [],
   "source": [
    "from django.conf.urls import handler400, handler403, handler404, handler500\n",
    "from myapp.views import custom_bad_request, custom_permission_denied, custom_not_found, custom_server_error\n",
    "\n",
    "handler400 = 'myapp.views.custom_bad_request'\n",
    "handler403 = 'myapp.views.custom_permission_denied'\n",
    "handler404 = 'myapp.views.custom_not_found'\n",
    "handler500 = 'myapp.views.custom_server_error'"
   ]
  },
  {
   "cell_type": "markdown",
   "id": "38e75ece-bbfe-4810-9ffd-a19a91ba0563",
   "metadata": {},
   "source": [
    "---\n",
    "**Paso 2**: Crear Vistas Personalizadas para los Errores\n",
    "*  Cada handler debe estar vinculado a una vista personalizada en `views.py` dentro de la aplicación (`myapp/views.py`)"
   ]
  },
  {
   "cell_type": "code",
   "execution_count": null,
   "id": "28b8f41e-ee05-48c8-981b-18980ab74f6e",
   "metadata": {},
   "outputs": [],
   "source": [
    "from django.shortcuts import render\n",
    "from django.http import HttpResponseBadRequest, HttpResponseForbidden, HttpResponseNotFound, HttpResponseServerError\n",
    "\n",
    "def custom_bad_request(request, exception):\n",
    "    return HttpResponseBadRequest(\"❌ 400 - Bad Request: La solicitud es incorrecta.\")\n",
    "\n",
    "def custom_permission_denied(request, exception):\n",
    "    return HttpResponseForbidden(\"🚫 403 - Forbidden: No tienes permisos para acceder a este recurso.\")\n",
    "\n",
    "def custom_not_found(request, exception):\n",
    "    return HttpResponseNotFound(\"🔍 404 - Not Found: La página no existe.\")\n",
    "\n",
    "def custom_server_error(request):\n",
    "    return HttpResponseServerError(\"💥 500 - Internal Server Error: Ocurrió un error en el servidor.\")"
   ]
  },
  {
   "cell_type": "markdown",
   "id": "37c24552-ee02-4c7f-9edc-367d77843605",
   "metadata": {},
   "source": [
    "*  **Opcional**: Puedes usar `render()` en lugar de HttpResponse para mostrar plantillas HTML personalizadas."
   ]
  },
  {
   "cell_type": "code",
   "execution_count": null,
   "id": "9c8fc29d-1c0b-48ab-90aa-323ce826fe8c",
   "metadata": {},
   "outputs": [],
   "source": [
    "def custom_not_found(request, exception):\n",
    "    return render(request, \"errors/404.html\", status=404)"
   ]
  },
  {
   "cell_type": "markdown",
   "id": "2156ee2f-38dc-4ea0-b837-7db7ebf1d565",
   "metadata": {},
   "source": [
    "#### Clases de Respuestas HTTP en Django"
   ]
  },
  {
   "cell_type": "markdown",
   "id": "732a6bee-ad28-4666-8176-6bd7b6d1b135",
   "metadata": {},
   "source": [
    "Django ofrece clases especializadas para manejar respuestas HTTP con códigos de estado específicos.\n",
    "\n",
    "| Clase | Código de Estado | Descripción |\n",
    "|-------|---------------|-------------|\n",
    "| `HttpResponseNotFound` | 404 | Devuelve una respuesta con código *Not Found*. |\n",
    "| `HttpResponseBadRequest` | 400 | Devuelve una respuesta con código *Bad Request*. |\n",
    "| `HttpResponseForbidden` | 403 | Devuelve una respuesta con código *Forbidden*. |\n",
    "| `HttpResponseServerError` | 500 | Devuelve una respuesta con código *Internal Server Error*. |\n",
    "\n",
    "---"
   ]
  },
  {
   "cell_type": "markdown",
   "id": "195643e4-ddbc-499e-9ecd-ccf1ca61b703",
   "metadata": {},
   "source": [
    "### Respuestas de error en Django\n",
    "\n",
    "* Las vistas en Django devuelven un objeto HttpResponse, que puede contener diferentes códigos de estado para indicar errores."
   ]
  },
  {
   "cell_type": "markdown",
   "id": "20b80959-1161-491d-a875-e95ef56f9741",
   "metadata": {},
   "source": [
    "#### Clases de excepción en Django\n",
    "Django tiene excepciones predefinidas en `django.core.exceptions` para manejar diferentes errores.\n",
    "\n",
    "| Excepción                 | Descripción |\n",
    "|---------------------------|------------|\n",
    "| `ObjectDoesNotExist`      | Base para excepciones `DoesNotExist` cuando un objeto no existe. |\n",
    "| `EmptyResultSet`          | Se lanza cuando una consulta devuelve un conjunto de resultados vacío. |\n",
    "| `FieldDoesNotExist`       | Se lanza si un campo específico en un modelo no existe. |\n",
    "| `MultipleObjectsReturned` | Se lanza cuando se esperan un solo objeto, pero la consulta devuelve varios. |\n",
    "| `PermissionDenied`        | Se lanza cuando un usuario no tiene permisos para realizar una acción. |\n",
    "| `ViewDoesNotExist`        | Se lanza cuando una vista solicitada no está definida en las URLs. |\n",
    "\n",
    "---\n",
    "\n",
    "#### Métodos para manejar errores en Django\n",
    "| Método                    | Descripción |\n",
    "|---------------------------|------------|\n",
    "| `HttpResponse(status=404)` | Devuelve un código de estado HTTP manualmente. |\n",
    "| `HttpResponseNotFound()`   | Retorna una respuesta 404 sin especificar el código. |\n",
    "| `raise Http404`           | Lanza la excepción `Http404` automáticamente. |\n",
    "| `get_object_or_404()`      | Busca un objeto o lanza `Http404` si no lo encuentra. |\n",
    "| `raise PermissionDenied()`| Lanza una excepción `403 Forbidden`. |\n",
    "\n",
    "####  Clases de error en Django\n",
    "| Clase de error            | Código HTTP | Situación en la que ocurre |\n",
    "|---------------------------|------------|-----------------------------|\n",
    "| `HttpResponseNotFound`    | 404        | Página o recurso no encontrado. |\n",
    "| `HttpResponseBadRequest`  | 400        | Solicitud incorrecta. |\n",
    "| `HttpResponseForbidden`   | 403        | Usuario sin permisos. |\n",
    "| `HttpResponseServerError` | 500        | Error interno del servidor. |\n",
    "\n",
    "#### Excepciones en Django\n",
    "| Excepción                 | Descripción |\n",
    "|---------------------------|------------|\n",
    "| `Http404`                 | Página no encontrada. |\n",
    "| `ObjectDoesNotExist`      | El objeto solicitado no existe. |\n",
    "| `MultipleObjectsReturned` | Se encontraron múltiples resultados cuando se esperaba solo uno. |\n",
    "| `PermissionDenied`        | El usuario no tiene permisos para la acción solicitada. |\n",
    "\n",
    "#### Personalización de páginas de error\n",
    "| Paso | Acción |\n",
    "|------|--------|\n",
    "| 1️⃣  | Crear un archivo `404.html` en `templates/`. |\n",
    "| 2️⃣  | Configurar `DEBUG = False` en `settings.py`. |\n",
    "| 3️⃣  | Reiniciar el servidor para aplicar los cambios. |\n",
    "\n",
    "---\n"
   ]
  },
  {
   "cell_type": "markdown",
   "id": "1a72baba-8340-49fe-970f-5ee33bfa37ba",
   "metadata": {},
   "source": [
    "#### Ejemplos"
   ]
  },
  {
   "cell_type": "markdown",
   "id": "771a96ec-2f54-41bc-8f3d-3febbf6d8805",
   "metadata": {},
   "source": [
    "##### a) Usando HttpResponse con código de estado\n",
    "* Puedes devolver una respuesta con un código de error específico."
   ]
  },
  {
   "cell_type": "code",
   "execution_count": null,
   "id": "ff7d75d9-76c5-47e1-9b84-b1e2dc1a014d",
   "metadata": {},
   "outputs": [],
   "source": [
    "from django.http import HttpResponse\n",
    "\n",
    "def my_view(request):\n",
    "    if condition:\n",
    "        return HttpResponse(\"<h1>Page not found</h1>\", status=404)\n",
    "    return HttpResponse(\"<h1>Page was found</h1>\")"
   ]
  },
  {
   "cell_type": "markdown",
   "id": "bca1c88e-bf28-47d0-b44a-edebdfa9a5e5",
   "metadata": {},
   "source": [
    "##### b) Usando clases de respuesta específicas\n",
    "* Django proporciona clases predefinidas para ciertos errores:\n",
    "  - Ventaja: HttpResponseNotFound ya establece el código de error 404, lo que permite que Django muestre automáticamente una página de error personalizada"
   ]
  },
  {
   "cell_type": "code",
   "execution_count": null,
   "id": "24cea39d-e309-475b-a885-154bd6444e05",
   "metadata": {},
   "outputs": [],
   "source": [
    "from django.http import HttpResponseNotFound\n",
    "\n",
    "def my_view(request):\n",
    "    if condition:\n",
    "        return HttpResponseNotFound(\"<h1>Page not found</h1>\")\n",
    "    return HttpResponse(\"<h1>Page was found</h1>\")"
   ]
  },
  {
   "cell_type": "markdown",
   "id": "b1e48bc5-1957-4488-875e-a4b4356c134a",
   "metadata": {},
   "source": [
    "##### c) Excepción Http404\n",
    "* get_object_or_404 simplifica el código y lanza Http404 automáticamente si el objeto no existe."
   ]
  },
  {
   "cell_type": "code",
   "execution_count": null,
   "id": "db4d830c-dde0-40a0-9870-65243f24d1cd",
   "metadata": {},
   "outputs": [],
   "source": [
    "from django.http import Http404\n",
    "\n",
    "def get_product(request, product_id):\n",
    "    product = get_object_or_404(Product, id=product_id)  # Busca el producto o lanza Http404\n",
    "    return HttpResponse(f\"Product: {product.name}\")"
   ]
  },
  {
   "cell_type": "markdown",
   "id": "7d8bb4ed-8c90-4aff-912f-6179741087c0",
   "metadata": {},
   "source": [
    "## Vistas basadas en clases "
   ]
  },
  {
   "attachments": {
    "62c1a61d-5dbf-4079-a948-59f65124bf5a.png": {
     "image/png": "[encoded data removed]"
    }
   },
   "cell_type": "markdown",
   "id": "1f99d060-48a9-4b66-b8a9-978621e4dc2a",
   "metadata": {},
   "source": [
    "![Captura desde 2025-02-13 10-57-56.png](attachment:62c1a61d-5dbf-4079-a948-59f65124bf5a.png)\n",
    "| **Concepto**          | **FBV (Function Based View)** | **CBV (Class Based View)** |\n",
    "|-----------------------|-----------------------------|-----------------------------|\n",
    "| Forma de definir     | Funciones                 | Clase                        |\n",
    "| Manejo de métodos    |condicional (if else) <br> `if request.method == \"GET\"` | Métodos de instancia predeterminados de Python:  <br> como `get()` y `post()` |\n",
    "| Organización         | Código dentro de una sola función | Separación de lógica en métodos |\n"
   ]
  },
  {
   "cell_type": "markdown",
   "id": "2f511cfe-286b-4306-94e1-c1718010cb75",
   "metadata": {},
   "source": [
    "---\n",
    "##### Sintaxis : FBV (Function Based View)"
   ]
  },
  {
   "cell_type": "code",
   "execution_count": null,
   "id": "97185825-6178-44df-bb4b-e159ebeb0157",
   "metadata": {},
   "outputs": [],
   "source": [
    "from django.http import HttpResponse\n",
    "\n",
    "def my_view(request):\n",
    "    return HttpResponse(\"Hello, World!\")\n"
   ]
  },
  {
   "cell_type": "markdown",
   "id": "152b254c-d386-469a-9138-5d4d073c54dd",
   "metadata": {},
   "source": [
    "___\n",
    "##### Sintaxis : CBV (Class Based View)"
   ]
  },
  {
   "cell_type": "code",
   "execution_count": null,
   "id": "d2eaf88f-d8ab-43ac-b877-79132b4bf2ff",
   "metadata": {},
   "outputs": [],
   "source": [
    "from django.http import HttpResponse\n",
    "from django.views import View\n",
    "\n",
    "class MyView(View):\n",
    "    def get(self, request):  # Maneja solicitudes GET\n",
    "        return HttpResponse(\"Hello, World!\")\n",
    "\n",
    "    def post(self, request): # Maneja solicitudes POST.\n",
    "        return HttpResponse(\"POST request received\")"
   ]
  },
  {
   "cell_type": "markdown",
   "id": "cfaf656d-62be-442a-b53a-9362e0310d57",
   "metadata": {},
   "source": [
    "### CRUD con CBVs\n",
    "Las CBVs son útiles para realizar operaciones **CRUD (Create, Read, Update, Delete)** en modelos Django.\n",
    "\n",
    "| **Operación** | **Método HTTP** | **CBV usada** |\n",
    "|--------------|---------------|--------------|\n",
    "| Crear        | `POST`        | `CreateView` |\n",
    "| Leer lista   | `GET`         | `ListView`   |\n",
    "| Leer detalle | `GET`         | `DetailView` |\n",
    "| Actualizar   | `PUT/PATCH`   | `UpdateView` |\n",
    "| Eliminar     | `DELETE`      | `DeleteView` |\n"
   ]
  },
  {
   "cell_type": "markdown",
   "id": "4cd35d59-c9f3-4741-b22a-60c90abad8c0",
   "metadata": {},
   "source": [
    "#### Ejemplo de CRUD con CBVs"
   ]
  },
  {
   "cell_type": "code",
   "execution_count": null,
   "id": "d66b0149-1477-4a7b-8689-a500febb8837",
   "metadata": {},
   "outputs": [],
   "source": [
    "from django.views.generic import ListView, DetailView, CreateView, UpdateView, DeleteView\n",
    "from .models import MyModel\n",
    "\n",
    "class MyModelListView(ListView):\n",
    "    model = MyModel  # Lista de objetos\n",
    "\n",
    "class MyModelDetailView(DetailView):\n",
    "    model = MyModel  # Un objeto específico\n",
    "\n",
    "class MyModelCreateView(CreateView):\n",
    "    model = MyModel\n",
    "    fields = ['name', 'description']  # Campos a mostrar en el formulario\n",
    "\n",
    "class MyModelUpdateView(UpdateView):\n",
    "    model = MyModel\n",
    "    fields = ['name', 'description']\n",
    "\n",
    "class MyModelDeleteView(DeleteView):\n",
    "    model = MyModel\n",
    "    success_url = '/'  # Redirección tras eliminar"
   ]
  },
  {
   "cell_type": "markdown",
   "id": "8adad050-4165-413f-be6c-ee0fea0d1c8d",
   "metadata": {},
   "source": [
    "### Mixins en Django\n",
    "Los **mixins** (tecnica orientada a objetos) son vistas genéricas basadas en clases que son flexibles en comparación con vistas basadas en funciones.  <br> permiten agregar funcionalidades reutilizables a las CBVs sin duplicar código.\n",
    "  <br>  un mixin como una forma de herencia múltiple. <br>   AL usar mixin No se pueden usar todos juntos.\n",
    "\n",
    "| **Mixin**     | **Función** |\n",
    "|--------------|------------|\n",
    "| `CreateModelMixin` | Crea una instancia de modelo |\n",
    "| `ListModelMixin` | Lista objetos de un queryset |\n",
    "| `RetrieveModelMixin` | Obtiene un objeto específico |\n",
    "| `UpdateModelMixin` | Actualiza un objeto |\n",
    "| `DestroyModelMixin` | Elimina un objeto |\n"
   ]
  },
  {
   "cell_type": "markdown",
   "id": "a0a05d2d-deb3-4d00-96f1-8a52328da037",
   "metadata": {},
   "source": [
    "### Principales CBVs y sus usos"
   ]
  },
  {
   "cell_type": "markdown",
   "id": "e71f84d2-3074-49e0-834c-aee4d3547f34",
   "metadata": {},
   "source": [
    "| **CBV**          | **Descripción** |\n",
    "|-----------------|---------------|\n",
    "| `View`         | Vista genérica base |\n",
    "| `TemplateView` | Devuelve un template HTML |\n",
    "| `RedirectView` | Redirige a otra URL |\n",
    "| `FormView`     | Maneja formularios |\n",
    "| `ListView`     | Enumerar un conjunto de consultas |\n",
    "| `DetailView`   | Muestra detalles de un objeto |\n",
    "| `CreateView`   | Crear una instancia de un modelo |\n",
    "| `UpdateView`   | Actualiza un instancia de un modelo |\n",
    "| `DeleteView`   | Eliminar una intancia de un modelo. |\n",
    "\n",
    "---"
   ]
  },
  {
   "cell_type": "code",
   "execution_count": null,
   "id": "607c7137-938a-46fd-aca7-89665362bf7b",
   "metadata": {},
   "outputs": [],
   "source": [
    "retrieve : para recuperar una instancia de un modelo."
   ]
  },
  {
   "cell_type": "markdown",
   "id": "207bd9e6-70e7-48a6-9f3c-e80b9d269ee2",
   "metadata": {},
   "source": [
    "## ORM (Object-Relational Mapping) en Django\n",
    "* Es una técnica que permite interactuar con bases de datos relacionales usando un paradigma orientado a objetos.\n",
    "* Permite trabajar con bases de datos sin escribir consultas SQL directamente.\n",
    "* Convierte datos escalares de bases de datos (enteros, cadenas) en objetos Python y viceversa.\n",
    "* Simplifica operaciones CRUD (Create, Read, Update, Delete).\n",
    "* El ORM de Django asigna cada tabla a una clase de Python y cada columna a un atributo de esa clase"
   ]
  },
  {
   "cell_type": "markdown",
   "id": "55775908-9461-4494-a070-4aa83b401ddb",
   "metadata": {},
   "source": [
    "| Concepto | Explicación |\n",
    "|----------|------------|\n",
    "| **Bases de datos en aplicaciones web** | Se usan para almacenar y gestionar datos, accedidos mediante consultas SQL. <br> Se usan SQL queries para consultar y manipular datos. <br> A medida que las aplicaciones crecen, las consultas SQL pueden volverse complejas. <br> Para facilitar este proceso, Django ofrece Object Relational Mapping (ORM) |\n",
    "| **SQL Queries** | Sentencias para manipular y recuperar datos en bases de datos. |\n",
    "| **ORM (Object Relational Mapping)** | Capa de abstracción que permite trabajar con bases de datos sin escribir SQL manualmente. <br> Convierte los modelos de Django en tablas de bases de datos y viceversa. |\n",
    "| **Ventajas del ORM** | <br> - Evita escribir SQL manualmente <br> - Seguro <br> -  Facilita la lectura y actualización del código <br> -  Funciona con PostgreSQL, SQLite, MySQL, etc.  |\n",
    "| **Uso del ORM en Django** | Se puede acceder al ORM desde la shell de Django con: <br> `python3 manage.py shell`\n",
    "| **QuerySet** | Es una colección de objetos obtenidos de una base de datos mediante consultas. <br> En Django, los modelos usan QuerySet para recuperar y manipular datos.\n",
    " \n",
    "---"
   ]
  },
  {
   "cell_type": "markdown",
   "id": "fa83f737-ef85-4b88-b931-c6ad5bfbe0da",
   "metadata": {},
   "source": [
    "#### Métodos de QuerySet  \n",
    "| Operación | Sintaxis General |\n",
    "|-----------|-----------------|\n",
    "| Obtener todos los registros | `Model.objects.all()` |\n",
    "| Obtener un único registro | `Model.objects.get(condition)` |\n",
    "| Filtrar registros | `Model.objects.filter(condition)` |\n",
    "| Ordenar resultados | `Model.objects.order_by(field)` |\n",
    "\n",
    "---\n"
   ]
  },
  {
   "cell_type": "markdown",
   "id": "722e7506-f7bc-4613-b213-97309823b3e0",
   "metadata": {},
   "source": [
    "\n",
    "| Método | Descripción | Equivalente en SQL |\n",
    "|--------|------------|--------------------|\n",
    "| `all()` | Obtiene todos los registros | `SELECT * FROM table;` |\n",
    "| `get(id=4)` | Obtiene un único objeto con el `id=4` | `SELECT * FROM table WHERE id=4;` |\n",
    "| `filter(condition)` | Filtra registros según una condición | `SELECT * FROM table WHERE condition;` |\n"
   ]
  },
  {
   "cell_type": "markdown",
   "id": "a297f296-0ad8-4233-83a9-de4ece1051de",
   "metadata": {},
   "source": [
    "#### QuerySet API  \n",
    "\n",
    "| Tipo | Métodos | Descripción | Equivalente en SQL |\n",
    "|------|---------|------------|--------------------|\n",
    "| **Métodos que retornan QuerySet** | `all()`, `filter()`, `exclude()`, `order_by()` | Devuelven un conjunto de resultados. | `SELECT * FROM table;` |\n",
    "| **Métodos que no retornan QuerySet** | `get()`, `count()`, `exists()` | Devuelven un solo valor u objeto. | `SELECT COUNT(*) FROM table;` |\n",
    "\n",
    "---\n",
    "\n",
    "#### Métodos de QuerySet API\n",
    "\n",
    "| Método | Descripción | Equivalente en SQL |\n",
    "|--------|------------|--------------------|\n",
    "| `all()` | Retorna todos los registros de un modelo. | `SELECT * FROM table;` |\n",
    "| `get(condition)` | Retorna un único objeto que cumple con la condición. | `SELECT * FROM table WHERE condition LIMIT 1;` |\n",
    "| `filter(condition)` | Retorna objetos que cumplen con la condición. | `SELECT * FROM table WHERE condition;` |\n",
    "| `exclude(condition)` | Retorna objetos que **no** cumplen con la condición. | `SELECT * FROM table WHERE NOT condition;` |\n",
    "| `order_by(field)` | Ordena los resultados por un campo. | `SELECT * FROM table ORDER BY field;` |\n",
    "| `count()` | Retorna la cantidad de registros encontrados. | `SELECT COUNT(*) FROM table;` |\n",
    "| `exists()` | Retorna `True` si hay registros que cumplen la condición. | `SELECT EXISTS(SELECT 1 FROM table WHERE condition);` |\n",
    "\n",
    "---\n",
    "\n",
    "#### Filtrado en QuerySet API\n",
    "\n",
    "| Operador | Descripción | Sintaxis |\n",
    "|----------|------------|----------|\n",
    "| `AND` | Retorna registros que cumplen **todas** las condiciones. | `.filter(condition1, condition2)` |\n",
    "| `OR` | Retorna registros que cumplen **al menos una** condición. | `.filter(Q(condition1) | Q(condition2))` |\n",
    "| `NOT` | Excluye registros que cumplen la condición. | `.exclude(condition)` |\n",
    "\n",
    "---"
   ]
  },
  {
   "cell_type": "markdown",
   "id": "b61b1103-113a-44d2-ab56-f5af97341d96",
   "metadata": {},
   "source": [
    "### Modelos"
   ]
  },
  {
   "cell_type": "markdown",
   "id": "fd152547-cd17-4460-b73b-0cd85e158b22",
   "metadata": {},
   "source": [
    "1) Un model en Django es el equivalente a una tabla en la base de datos.\n",
    "2) Actúa como una única fuente de información sobre los datos almacenados.\n",
    "3) Forma parte del patrón arquitectónico MVT (Model-View-Template).\n",
    "4) Evita la necesidad de escribir SQL manualmente, ya que Django genera automáticamente una API de acceso a la base de datos.\n"
   ]
  },
  {
   "cell_type": "markdown",
   "id": "036917a7-1dab-45a9-afb4-8aac8ec416ff",
   "metadata": {},
   "source": [
    "##### Sintaxis : Modelo en Django"
   ]
  },
  {
   "cell_type": "code",
   "execution_count": null,
   "id": "542ab2fb-e446-4db4-ae58-5daee3bc8f59",
   "metadata": {},
   "outputs": [],
   "source": [
    "from django.db import models\n",
    "\n",
    "class NombreModelo(models.Model):\n",
    "    columna1 = models.TipoDato(opciones)  # Definir un campo\n",
    "    columna2 = models.TipoDato(opciones)\n",
    "\n",
    "    class Meta:\n",
    "        db_table = \"nombre_tabla\"  # Nombre opcional de la tabla en la base de datos"
   ]
  },
  {
   "cell_type": "markdown",
   "id": "4042b9dd-2df4-4443-92db-8993f8b68eb8",
   "metadata": {},
   "source": [
    "\n",
    "#### Comparación SQL vs Django\n",
    "| **Concepto** | **SQL** | **Django ORM** |\n",
    "|--------------|--------|---------------|\n",
    "| Crear tabla | `CREATE TABLE ...` | `class Model(models.Model):` |\n",
    "| Insertar datos | `INSERT INTO ...` | `Model.objects.create(...)` |\n",
    "| Leer datos | `SELECT * FROM ...` | `Model.objects.get(...)` |\n",
    "| Actualizar datos | `UPDATE ...` | `model_instance.save()` |\n",
    "| Eliminar datos | `DELETE FROM ...` | `model_instance.delete()` |\n",
    "\n",
    "---"
   ]
  },
  {
   "cell_type": "markdown",
   "id": "ba8eec40-68c4-4d99-b5e8-b3da65b20093",
   "metadata": {},
   "source": [
    "\n",
    "#### Métodos CRUD SQL vs. Django\n",
    "Django proporciona métodos predefinidos para las operaciones CRUD (**Create, Read, Update, Delete**)."
   ]
  },
  {
   "cell_type": "markdown",
   "id": "2d7669d0-885c-43ac-983b-e07857e8658d",
   "metadata": {},
   "source": [
    "| Operación  | SQL  | Django  |\n",
    "|------------|------|---------|\n",
    "| **Create** <br> _(Crear tabla en la base de datos)_ | `CREATE TABLE nombre_tabla (id SERIAL PRIMARY KEY, columna1 TIPO_DATO, columna2 TIPO_DATO);` | `class NombreModelo(models.Model):`<br>`    columna1 = models.TipoDato()`<br>`    columna2 = models.TipoDato()` |\n",
    "| **Insert** <br> _(Guardar datos en la base de datos)_ | `INSERT INTO nombre_tabla (columna1, columna2) VALUES (valor1, valor2);` | `objeto = NombreModelo(columna1=valor1, columna2=valor2)`<br>`objeto.save()` <br> **Alternativa más corta:** <br> `NombreModelo.objects.create(columna1=valor1, columna2=valor2)` |\n",
    "| **Read** <br> _(Obtener datos de la base de datos)_ | `SELECT * FROM nombre_tabla WHERE id = valor;` | `objeto = NombreModelo.objects.get(id=valor)` <br> **Obtener múltiples registros:** <br> `objetos = NombreModelo.objects.all()` <br> `objetos = NombreModelo.objects.filter(columna1=valor1)` |\n",
    "| **Update** <br> _(Actualizar registros en la base de datos)_ | `UPDATE nombre_tabla SET columna1 = nuevo_valor WHERE id = valor;` | `objeto = NombreModelo.objects.get(id=valor)`<br>`objeto.columna1 = nuevo_valor`<br>`objeto.save()` |\n",
    "| **Delete** <br> _(Eliminar registros de la base de datos)_ | `DELETE FROM nombre_tabla WHERE id = valor;` | `objeto = NombreModelo.objects.get(id=valor)`<br>`objeto.delete()` |\n"
   ]
  },
  {
   "cell_type": "markdown",
   "id": "ffa4b329-8e77-4101-9eb1-d590aacdfa0e",
   "metadata": {},
   "source": [
    "#### Tipos de Relaciones en Django\n",
    "| Relación | Campo en Django | Descripción |\n",
    "|----------|----------------|-------------|\n",
    "| One-to-Many | `ForeignKey` | Un modelo puede estar relacionado con múltiples registros de otro modelo. |\n",
    "| One-to-One | `OneToOneField` | Un modelo solo puede estar relacionado con un único registro de otro modelo. |\n",
    "| Many-to-Many | `ManyToManyField` | Un modelo puede estar relacionado con múltiples registros de otro modelo y viceversa. |\n",
    "\n",
    "---\n",
    "\n",
    "#### Opciones para on_delete\n",
    "| Argumento | Descripción |\n",
    "|-----------|-------------|\n",
    "| `on_delete=models.PROTECT` | No permite borrar una categoría si hay elementos asociados. |\n",
    "| `on_delete=models.CASCADE` | Si se borra la categoría, también se borran los elementos asociados. |\n",
    "| `on_delete=models.SET_NULL, null=True` | Si se borra la categoría, los elementos quedan con `NULL`. |\n",
    "| `on_delete=models.SET_DEFAULT, default=valor` | Si se borra el registro principal, los registros relacionados se asignan a un valor por defecto. (Requiere default=valor). |\n",
    "| `on_delete=models.DO_NOTHING` |No hace nada al borrar el registro principal. Puede generar errores de integridad. |\n",
    "| `default=None` | Permite que la relación inicie vacía. |\n",
    "| `related_name=\"items\"` | Permite acceder a los elementos desde la categoría con `categoria.items.all()`. |\n",
    "\n",
    "---"
   ]
  },
  {
   "cell_type": "markdown",
   "id": "89c31c07-72c3-4f86-ae16-789237d2ec6a",
   "metadata": {},
   "source": [
    "#### Modelos con claves foráneas"
   ]
  },
  {
   "cell_type": "markdown",
   "id": "7ae546d1-4ae1-4ebd-b8aa-bbb641b31dc3",
   "metadata": {},
   "source": [
    "- Foreign Key es un campo ORM que representa una columna de una tabla de base de datos. \n",
    "- Se usa para crear relaciones entre tablas de la base de datos."
   ]
  },
  {
   "cell_type": "code",
   "execution_count": null,
   "id": "8aa4d8c6-6045-4fde-8a6e-04806f148d6f",
   "metadata": {},
   "outputs": [],
   "source": [
    "from django.db import models\n",
    "\n",
    "class NombreDelModeloRelacionado(models.Model):\n",
    "    nombre_campo = models.TipoDeCampo(opciones)\n",
    "\n",
    "class NombreDelModeloPrincipal(models.Model):\n",
    "    nombre_campo = models.TipoDeCampo(opciones)\n",
    "    clave_foranea = models.ForeignKey(\n",
    "        NombreDelModeloRelacionado,  # Modelo relacionado\n",
    "        on_delete=models.PROTECT,  # Acción al eliminar la relación\n",
    "        related_name=\"nombre_relacion\",  # Nombre para acceder desde el modelo relacionado\n",
    "        null=True,  # Permitir valores nulos (opcional)\n",
    "        blank=True  # Permitir que el campo esté vacío en formularios (opcional)\n",
    "    )"
   ]
  },
  {
   "cell_type": "markdown",
   "id": "f1fbdfee-37ac-4bc2-bee1-43460ae1a38b",
   "metadata": {},
   "source": [
    "#### Registrar Modelos en el Administrador de Django"
   ]
  },
  {
   "cell_type": "code",
   "execution_count": null,
   "id": "098a6356-7c99-4235-9d9a-9ea40e63baeb",
   "metadata": {},
   "outputs": [],
   "source": [
    "from django.contrib import admin\n",
    "from .models import NombreDelModelo\n",
    "\n",
    "admin.site.register(NombreDelModelo)"
   ]
  },
  {
   "cell_type": "markdown",
   "id": "4a3735f6-08e6-4e8c-b005-c8458bd00994",
   "metadata": {},
   "source": [
    "----\n",
    "## Migraciones en Django\n",
    "* No basta con definir un model en Python; es necesario aplicar migrations para que la base de datos refleje los cambios."
   ]
  },
  {
   "cell_type": "markdown",
   "id": "4310f381-3f38-456d-b1ac-aeeac85e4b90",
   "metadata": {},
   "source": [
    "| **Concepto**            | **Descripción / Comando** |\n",
    "|-------------------------|--------------------------|\n",
    "| **Bases de Datos**      | Django usa bases relacionales (`PostgreSQL`, `MySQL`, `SQLite`) y gestiona tablas con su ORM. |\n",
    "| **Migraciones**         | <br> - Son la forma en que Django registra cambios realizados en modelos e implementa esos cambios en el esquema de la base de datos. <br> - Las migraciones se almacenan en la carpeta migrations dentro de cada aplicación. <br> -Aplican cambios en modelos sin escribir SQL manual. |\n",
    "| **Uso de las migraciones**        | Se usan para agregar, renombrar o eliminar columnas y modelos. |\n",
    "| **GenerarMigraciones** |<br> - Genera un archivo de migración basado en los cambios en los modelos <br> - `python manage.py makemigrations` |\n",
    "| **Aplicar Migracionesn** | <br> - Aplica las migraciones pendientes a la base de datos <br> -`python manage.py migrate` |\n",
    "| **Django Admin**        | Gestiona modelos desde una interfaz web. <br> `python manage.py createsuperuser` |\n",
    "| **Shell Interactivo**   | Acceder a la terminal de Django para trabajar con modelos. <br> `python manage.py shell` |\n",
    "| **Registrar App**       | Agregar la app en `INSTALLED_APPS` dentro de `settings.py`. |\n",
    "\n",
    "---\n"
   ]
  },
  {
   "cell_type": "markdown",
   "id": "7db7ed7b-5216-49e2-bc79-160c27015545",
   "metadata": {},
   "source": [
    "### Comandos migraciones\n",
    "\n",
    "| **Acción**                         | **Comando**                                    | **Descripción** |\n",
    "|------------------------------------|----------------------------------------------|----------------|\n",
    "| **Crear una migración**            | `python manage.py makemigrations`            | Genera archivos de migración a partir de los cambios en los modelos. <br> Cada archivo de migración tiene un número de versión. <br> Si se cambia un modelo, Django pregunta cómo manejar el cambio. |\n",
    "| **Ver migraciones pendientes**     | `python manage.py showmigrations`            | Muestra la lista de migraciones y su estado (pendiente o aplicada). |\n",
    "| **Aplicar migraciones**            | `python manage.py migrate`                   | Aplica los cambios en la base de datos según los archivos de migración generados. |\n",
    "| **Revertir una migración**         | `python manage.py migrate <app> <versión>`   | Revierte la base de datos a una versión específica. <br> Ejemplo: `python manage.py migrate myapp 0002` deshace los cambios de migraciones posteriores a `0002`. |\n",
    "| **Ver SQL de una migración**       | `python manage.py sqlmigrate <app> <versión>` | Muestra la consulta SQL de una migración sin ejecutarla. |\n"
   ]
  },
  {
   "cell_type": "markdown",
   "id": "7c596755-b9bd-47bf-ae31-f710264f05ed",
   "metadata": {},
   "source": [
    "---\n",
    "### Flujo de migraciones "
   ]
  },
  {
   "cell_type": "markdown",
   "id": "6a796d4e-5e5c-4012-ad27-97c4fcdf0bb8",
   "metadata": {},
   "source": [
    "| Paso | Acción | Comando | Descripción |\n",
    "|------|--------|---------|-------------|\n",
    "| 1    | Crear un proyecto Django | `django-admin startproject nombre_proyecto` | Inicia un nuevo proyecto Django. |\n",
    "| 2    | Crear una aplicación dentro del proyecto | `python manage.py startapp nombre_aplicación` | Genera la estructura de una aplicación en Django. |\n",
    "| 3    | Agregar la aplicación al proyecto | Editar `INSTALLED_APPS` en `settings.py` | Se debe agregar `'nombre_aplicación'` dentro de la lista `INSTALLED_APPS`. |\n",
    "| 4    | Definir un modelo en `models.py` | Editar `models.py` en `nombre_aplicación` | Se crea una clase con atributos que representan columnas de la tabla. |\n",
    "| 5    | Generar la migración | `python manage.py makemigrations` | Crea archivos de migración que representan cambios en los modelos. |\n",
    "| 6    | Aplicar la migración a la base de datos | `python manage.py migrate` | Ejecuta los cambios en la base de datos. |\n",
    "| 7    | Verificar las migraciones aplicadas | `python manage.py showmigrations` | Lista todas las migraciones con `[X]` si están aplicadas y `[ ]` si están pendientes. |\n",
    "| 8    | Modificar un modelo existente | Editar `models.py` | Se pueden agregar, renombrar o eliminar campos en el modelo. |\n",
    "| 9    | Generar la migración después de un cambio | `python manage.py makemigrations` | Registra los cambios en un nuevo archivo de migración. Si se renombra un campo, Django pedirá confirmación. |\n",
    "| 10   | Aplicar los cambios en la base de datos | `python manage.py migrate` | Se ejecutan las migraciones pendientes en la base de datos. |\n",
    "| 11   | Mostrar las consultas SQL generadas | `python manage.py sqlmigrate nombre_aplicación número_migración` | Muestra las instrucciones SQL que se ejecutarán en la base de datos. |\n",
    "| 12   | Revertir a una migración anterior | `python manage.py migrate nombre_aplicación número_migración` | Revierte la base de datos a un estado anterior eliminando cambios posteriores. |\n",
    "| 13   | Ver los cambios antes de revertir | `python manage.py migrate nombre_aplicación número_migración --plan` | Muestra los cambios que se revertirán antes de ejecutarlos. |"
   ]
  },
  {
   "cell_type": "markdown",
   "id": "94bd68b0-f224-418f-8a57-34117ab83963",
   "metadata": {},
   "source": [
    "### Ejemplo: estructura de migrations"
   ]
  },
  {
   "cell_type": "code",
   "execution_count": null,
   "id": "542b477e-3b24-42d4-83f8-5d6f75999187",
   "metadata": {},
   "outputs": [],
   "source": [
    "nombre_aplicación/\n",
    "│── migrations/\n",
    "│   ├── 0001_initial.py\n",
    "│   ├── 0002_add_field.py\n",
    "│   ├── 0003_alter_field.py\n",
    "│   ├── __init__.py"
   ]
  },
  {
   "cell_type": "markdown",
   "id": "e0d264ee-52fd-460a-a779-06e7b73185cb",
   "metadata": {},
   "source": [
    "## Formularios"
   ]
  },
  {
   "cell_type": "markdown",
   "id": "392050e5-f6b7-4e97-9ccd-c39022578512",
   "metadata": {},
   "source": [
    "## Django Admin"
   ]
  },
  {
   "cell_type": "markdown",
   "id": "ddf1ca28-a595-49ca-9ff5-b9908faed00b",
   "metadata": {},
   "source": [
    "| Concepto | Descripción |\n",
    "|----------|------------|\n",
    "| **Django Admin** | <br> - Interfaz de administración para gestionar datos almacenados en la base de datos. <br> - Solo accesible para administradores, no para visitantes del sitio. <br> - Permite : <br>  Crear, editar y eliminar contenido. <br> Administrar usuarios y permisos. <br> Controlar modelos de base de datos.|\n",
    "| **Superusuario** | Para acceder a Django Admin, es necesario crear un superusuario con permisos administrativos. |\n",
    "| **Usuarios y grupos** | Permiten asignar roles y permisos en la administración del sistema. |\n",
    "| **Modelos** | Representaciones de las tablas de la base de datos en Django. |\n",
    "| **Permisos** | Controlan qué acciones puede realizar un usuario sobre los modelos. |\n"
   ]
  },
  {
   "cell_type": "markdown",
   "id": "07a43b82-b262-454f-8c05-ea873de7e1de",
   "metadata": {},
   "source": [
    "### Configuración de Django Admin\n",
    "\n",
    "| Paso | Acción | Comando |\n",
    "|------|--------|---------|\n",
    "| **1** | Crear un proyecto Django | `django-admin startproject myproject` |\n",
    "| **2** | Incluir `django.contrib.admin` en `INSTALLED_APPS` | `settings.py` |\n",
    "| **3** | Crear un superusuario | `python manage.py createsuperuser` |\n",
    "| **4** | Ejecutar el servidor | `python manage.py runserver` |\n",
    "| **5** | Acceder a Django Admin | `http://127.0.0.1:8000/admin` |\n",
    "\n",
    "---"
   ]
  },
  {
   "cell_type": "markdown",
   "id": "4bc44367-b9c5-4132-98f6-70e9a32665b6",
   "metadata": {},
   "source": [
    "### Estructura de la Interfaz de Django Admin"
   ]
  },
  {
   "cell_type": "markdown",
   "id": "7c6b3f21-84fb-43fa-bdbf-aebb627b17ff",
   "metadata": {},
   "source": [
    "\n",
    "| Sección | Función |\n",
    "|---------|---------|\n",
    "| **Usuarios y grupos** | Crear, editar y asignar permisos a usuarios. |\n",
    "| **Modelos registrados** | Administrar los datos almacenados en la base de datos. |\n",
    "| **Acciones recientes** | Mostrar cambios recientes en la administración. |\n",
    "\n",
    "---\n"
   ]
  },
  {
   "cell_type": "markdown",
   "id": "0d0df138-5bd2-420b-872d-ea4a4efcd018",
   "metadata": {},
   "source": [
    "## Permisos en Django\n",
    "* Permiten controlar qué acciones puede realizar un usuario en la aplicación.\n",
    "* Se gestionan a través del sistema de autenticación (`django.contrib.auth`) que maneja tanto la autenticación (verificar la identidad del usuario) como la autorización (determinar qué puede hacer el usuario).\n"
   ]
  },
  {
   "cell_type": "markdown",
   "id": "2b018fc5-9017-475c-a246-668ef6f6d5fb",
   "metadata": {},
   "source": [
    "\n",
    "| **Tipo de Usuario** | **Descripción** |\n",
    "|---------------------|----------------|\n",
    "| **Superuser** | Usuario con todos los permisos. Puede agregar, cambiar o eliminar otros usuarios y realizar operaciones en todos los datos del proyecto|\n",
    "| **Staff User** | Puede acceder al panel de administración, pero **NO** tiene permisos de CRUD en Django Admin a menos que se asignen manualmente. |\n",
    "| **User** | Usuario regular sin acceso al panel de administración. |\n"
   ]
  },
  {
   "cell_type": "markdown",
   "id": "284dd1c7-6d6e-407e-839d-1066ae39f0e0",
   "metadata": {},
   "source": [
    "| **Acción** | **Comando o Código** |\n",
    "|-----------|----------------------|\n",
    "| Crear superuser desde shell de Django | `python manage.py createsuperuser --username=admin --email=admin@example.com` |\n",
    "| Crear usuario normal | `User.objects.create_user(username, password)` |\n",
    "| Verificar si un usuario tiene permiso | `user.has_perm(\"app.permiso\")` |\n",
    "| Asignar usuario a grupo | `user.groups.add(grupo)` |\n",
    "| Proteger vista con permiso | `@permission_required(\"app.permiso\")` |\n",
    "\n",
    "---\n"
   ]
  },
  {
   "cell_type": "markdown",
   "id": "16b44ccd-ff36-4bc0-aaba-a17e66deae01",
   "metadata": {},
   "source": [
    "### Permisos Automáticos de Django\n",
    "* Cuando se define un modelo en Django, automáticamente se generan los siguientes permisos:"
   ]
  },
  {
   "cell_type": "markdown",
   "id": "b12647cf-e478-4e8b-81ee-6bf187c594d9",
   "metadata": {},
   "source": [
    "| **Acción**  | **Descripción del Permiso** | **Sintaxis General** |\n",
    "|------------|----------------------------|----------------------|\n",
    "| **Agregar (`add`)** | Permiso para agregar objetos del modelo. | `nombre_app.add_nombre_modelo` |\n",
    "| **Modificar (`change`)** | Permiso para modificar objetos del modelo. | `nombre_app.change_nombre_modelo` |\n",
    "| **Eliminar (`delete`)** | Permiso para eliminar objetos del modelo. | `nombre_app.delete_nombre_modelo` |\n",
    "| **Ver (`view`)** | Permiso para ver objetos del modelo. | `nombre_app.view_nombre_modelo` |\n",
    "\n",
    "---"
   ]
  },
  {
   "cell_type": "markdown",
   "id": "daa1a77e-b24b-4518-921c-7bec1fcbbff6",
   "metadata": {},
   "source": [
    "## Crear usuarios en Django Shell"
   ]
  },
  {
   "cell_type": "code",
   "execution_count": null,
   "id": "62194abd-7643-4125-b3a9-0903b3030d75",
   "metadata": {},
   "outputs": [],
   "source": [
    "from django.contrib.auth.models import User\n",
    "\n",
    "# Crear un usuario normal\n",
    "user = User.objects.create_user(username=\"usuario1\", password=\"contraseña123\")\n",
    "\n",
    "#  Crear un usuario staff:\n",
    "user.is_staff = True\n",
    "user.save()\n",
    "\n",
    "# Crear un superuser\n",
    "User.objects.create_superuser('admin', 'admin@example.com', 'contraseña123')"
   ]
  },
  {
   "cell_type": "markdown",
   "id": "e8f040d2-0d67-4856-be80-3e303d0df595",
   "metadata": {},
   "source": [
    "###  Verificar si un usuario tiene permiso"
   ]
  },
  {
   "cell_type": "code",
   "execution_count": null,
   "id": "243514c0-62d8-42a8-a047-af5f342c485c",
   "metadata": {},
   "outputs": [],
   "source": [
    "if user.has_perm(\"myapp.change_mymodel\"):\n",
    "    print(\"El usuario puede modificar MyModel\")\n",
    "else:\n",
    "    print(\"Acceso denegado\")"
   ]
  },
  {
   "cell_type": "code",
   "execution_count": null,
   "id": "be2f4d92-4336-47a9-b38a-ed15e5e3ef55",
   "metadata": {},
   "outputs": [],
   "source": [
    "# lanzar un error si el usuario no tiene permiso:\n",
    "from django.core.exceptions import PermissionDenied\n",
    "\n",
    "if not user.has_perm(\"myapp.delete_mymodel\"):\n",
    "    raise PermissionDenied(\"No tienes permiso para eliminar\")"
   ]
  },
  {
   "cell_type": "markdown",
   "id": "ead93471-51bb-469d-b3b9-151389c8395f",
   "metadata": {},
   "source": [
    "## Asignación de Permisos a Grupos\n",
    "* Administrar permisos por usuario puede ser tedioso, especialmente con muchos usuarios.\n",
    "* Django permite agrupar permisos con grupos.\n",
    "* Un grupo es un conjunto de permisos asignados a varios usuarios.\n",
    "* Un usuario puede pertenecer a varios grupos."
   ]
  },
  {
   "cell_type": "code",
   "execution_count": null,
   "id": "d21dfdbb-bce4-4184-b4ac-e3dfdd32a58a",
   "metadata": {},
   "outputs": [],
   "source": [
    "from django.contrib.auth.models import Group, Permission\n",
    "\n",
    "# Crear un grupo\n",
    "grupo = Group.objects.create(name=\"NombreDelGrupo\")\n",
    "\n",
    "# Asignar permisos al grupo\n",
    "permiso = Permission.objects.get(codename=\"nombre_permiso\")\n",
    "grupo.permissions.add(permiso)\n",
    "\n",
    "# Asignar usuario al grupo\n",
    "user.groups.add(grupo)"
   ]
  },
  {
   "cell_type": "markdown",
   "id": "90e537ba-fd75-4362-aa30-2a5d25b5e035",
   "metadata": {},
   "source": [
    "## Uso de @permission_required en Vistas\n",
    "* Django permite proteger vistas con el decorador `@permission_required`"
   ]
  },
  {
   "cell_type": "code",
   "execution_count": null,
   "id": "3604833f-5a3c-40c6-b078-b34547216b65",
   "metadata": {},
   "outputs": [],
   "source": [
    "from django.contrib.auth.decorators import permission_required\n",
    "from django.http import HttpResponse\n",
    "\n",
    "@permission_required('app_nombre.nombre_permiso')\n",
    "def nombre_vista(request):\n",
    "    return HttpResponse(\"Tienes permiso para ver esto.\")"
   ]
  }
 ],
 "metadata": {
  "kernelspec": {
   "display_name": "Python 3 (ipykernel)",
   "language": "python",
   "name": "python3"
  },
  "language_info": {
   "codemirror_mode": {
    "name": "ipython",
    "version": 3
   },
   "file_extension": ".py",
   "mimetype": "text/x-python",
   "name": "python",
   "nbconvert_exporter": "python",
   "pygments_lexer": "ipython3",
   "version": "3.12.3"
  }
 },
 "nbformat": 4,
 "nbformat_minor": 5
}
