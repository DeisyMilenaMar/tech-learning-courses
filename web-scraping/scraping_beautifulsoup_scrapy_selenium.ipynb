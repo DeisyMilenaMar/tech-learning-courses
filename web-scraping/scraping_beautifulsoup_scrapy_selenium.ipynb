{
 "cells": [
  {
   "cell_type": "markdown",
   "id": "430095a8-6d3d-4f2c-a0af-a98650ba7f52",
   "metadata": {},
   "source": [
    "# Web Scraping "
   ]
  },
  {
   "cell_type": "markdown",
   "id": "7aeafd0a-87d8-4b10-8604-c1121d878749",
   "metadata": {},
   "source": [
    "## Extracción de datos web con Python"
   ]
  },
  {
   "cell_type": "markdown",
   "id": "84a528f7-fcfc-4257-bb5a-0ef903e929b1",
   "metadata": {},
   "source": [
    "### Introducción a HTML para Web Scraping\n",
    "| Concepto | Explicación |\n",
    "|----------|------------|\n",
    "| **HTML (Hypertext Markup Language)** | Lenguaje de marcado utilizado para estructurar contenido en la web. |\n",
    "| **Web Scraping** | Técnica para extraer información de páginas web. |\n",
    "| **Estructura de HTML** | Un documento HTML está compuesto por **texto y etiquetas (tags)** que definen la estructura y presentación del contenido. |\n",
    "\n",
    "---\n",
    "\n",
    "### Composición básica de un Documento HTML\n",
    "| Sección | Descripción |\n",
    "|---------|------------|\n",
    "| **`<!DOCTYPE html>`** | Declaración que indica que el documento es HTML5. |\n",
    "| **`<html>`** | Raíz del documento HTML. |\n",
    "| **`<head>`** | Contiene metadatos e información del documento (ej. título, enlaces a CSS, etc.). |\n",
    "| **`<body>`** | Contiene el contenido visible en la página web. |\n",
    "\n",
    "---\n",
    "\n",
    "### Tipos de Etiquetas HTML\n",
    "| Etiqueta | Función |\n",
    "|----------|---------|\n",
    "| **`<h1>` a `<h6>`** | Encabezados de distintos niveles (`h1` es el más grande, `h6` el más pequeño). |\n",
    "| **`<p>`** | Define un párrafo. |\n",
    "| **`<a>`** | Crea un hipervínculo a otra página. |\n",
    "| **`<img>`** | Muestra una imagen. |\n",
    "| **`<table>`** | Crea una tabla. |\n",
    "| **`<tr>`** | Define una fila en una tabla. |\n",
    "| **`<td>`** | Define una celda en una tabla. |\n",
    "\n",
    "---\n",
    "\n",
    "### Composición de una Etiqueta HTML\n",
    "| Componente | Descripción | Ejemplo |\n",
    "|------------|------------|---------|\n",
    "| **Tag Name (Nombre de la etiqueta)** |Define el hipervículo que se usa para enlazar una página a otra. | `a` |\n",
    "| **Start Tag (Etiqueta de apertura)** | Indica el inicio del elemento. | `<a>` |\n",
    "| **Contenido** | Lo que se muestra dentro de la etiqueta. | `BLOG` |\n",
    "| **End Tag (Etiqueta de cierre)** | Indica el final del elemento. | `</a>` |\n",
    "| **Atributo** | Información adicional dentro de la etiqueta. | `href=\"https://www.ibm.com\"` |\n",
    "| **Ejemplo completo** | Define un enlace a IBM. | `<a href=\"https://www.ibm.com\">IBM</a>` |\n",
    "\n",
    "---\n",
    "\n",
    "###  Tablas en HTML\n",
    "| Etiqueta | Descripción |\n",
    "|----------|------------|\n",
    "| **`<table>`** | Define una tabla. |\n",
    "| **`<tr>`** | Define una fila en la tabla. |\n",
    "| **`<th>`** | Define una celda de encabezado. |\n",
    "| **`<td>`** | Define una celda de datos en una fila. |\n",
    "\n",
    "---\n",
    "\n",
    "###  Inspección de Código HTML\n",
    "| Método | Descripción |\n",
    "|--------|------------|\n",
    "| **Inspeccionar elemento** | Clic derecho en la página → \"Inspeccionar\" para ver el HTML. |\n",
    "| **Ver código fuente** | Clic derecho → \"Ver código fuente de la página\". |\n",
    "\n",
    "---\n"
   ]
  },
  {
   "cell_type": "markdown",
   "id": "ae79cc23-e6d3-4f46-85bb-c9f581921cae",
   "metadata": {},
   "source": [
    "### Ejemplos"
   ]
  },
  {
   "cell_type": "markdown",
   "id": "da8ce577-ea6d-4227-928e-a570d1f40b39",
   "metadata": {},
   "source": [
    "#### Ejemplo de una página HTML básica:\n",
    "  - `<!DOCTYPE html>` → Declara que este documento es un archivo HTML.\n",
    "  - `<html>` → Elemento raíz de la página web.\n",
    "  - `<head>` → Contiene información meta sobre la página (como el título).\n",
    "  - `<title>` → Define el título de la pestaña del navegador.\n",
    "  - `<body>`→ Contiene el contenido visible de la página.\n",
    "  - `<h3>` → Encabezado de nivel 3 (hace que el texto sea más grande y en negrita).\n",
    "  - `<p>` → Define un párrafo de texto (en este caso, el salario del jugador)."
   ]
  },
  {
   "cell_type": "code",
   "execution_count": null,
   "id": "5f8b58cf-9626-4083-a67e-db1d1da2f33a",
   "metadata": {},
   "outputs": [],
   "source": [
    "<!DOCTYPE html>\n",
    "<html>\n",
    "    <head>\n",
    "        <title>Ejemplo de Página</title>\n",
    "    </head>\n",
    "    <body>\n",
    "        <h3>Nombre del Jugador</h3>\n",
    "        <p>Salario: $10,000,000</p>\n",
    "    </body>\n",
    "</html>"
   ]
  },
  {
   "cell_type": "markdown",
   "id": "f3b8ac86-17d3-4484-9ffe-1b80ac1019c6",
   "metadata": {},
   "source": [
    "#### Árbol de Documentos HTML (HTML Trees)\n",
    "- Cada documento HTML puede representarse como un árbol jerárquico donde los elementos pueden tener padres, hijos y hermanos.\n",
    "- **Relaciones en el árbol HTML**:\n",
    "\n",
    "  - `<html>` es el elemento raíz.\n",
    "  - `<head>` y `<body>` son hijos de `<html>`.\n",
    "  - `<title>` es hijo de `<head>` y descendiente de `<html>`pero no hija.\n",
    "  - `<h3>` y `<p>` son hijos de `<body>` y hermanos entre sí.\n",
    "  - `<b>` es hijo de `<p>`."
   ]
  },
  {
   "cell_type": "code",
   "execution_count": null,
   "id": "e7ab766c-b0dc-4bf1-b2b1-a2129b035185",
   "metadata": {},
   "outputs": [],
   "source": [
    "html\n",
    " ├── head\n",
    " │   └── title\n",
    " └── body\n",
    "     ├── h3\n",
    "     └── p\n",
    "         └── b"
   ]
  },
  {
   "cell_type": "code",
   "execution_count": null,
   "id": "dc556c83-7aad-4fb7-a5f7-c455004d2673",
   "metadata": {},
   "outputs": [],
   "source": [
    "<html>\n",
    "    <head>\n",
    "        <title>Mi Página</title>\n",
    "    </head>\n",
    "    <body>\n",
    "        <h3>Título Principal</h3>\n",
    "        <p>Texto de párrafo con <b>negrita</b></p>\n",
    "    </body>\n",
    "</html>\n"
   ]
  },
  {
   "cell_type": "markdown",
   "id": "92dc564b-7184-424f-a2e4-0d0f93f0b80c",
   "metadata": {},
   "source": [
    "####  Tablas en HTML\n",
    "  - `<table>` → Define la tabla.\n",
    "  - `<tr>` (Table Row) → Representa una fila en la tabla.\n",
    "  - `<th>` (Table Header) → Encabezados de la tabla.\n",
    "  - `<td>` (Table Data) → Celdas con los datos."
   ]
  },
  {
   "cell_type": "code",
   "execution_count": null,
   "id": "11ab4f4a-fa32-4b13-9710-0de8ee4d0e99",
   "metadata": {},
   "outputs": [],
   "source": [
    "<table>\n",
    "    <tr>\n",
    "        <th>Nombre</th>\n",
    "        <th>Salario</th>\n",
    "    </tr>\n",
    "    <tr>\n",
    "        <td>Jugador 1</td>\n",
    "        <td>$10,000,000</td>\n",
    "    </tr>\n",
    "    <tr>\n",
    "        <td>Jugador 2</td>\n",
    "        <td>$8,500,000</td>\n",
    "    </tr>\n",
    "</table>\n"
   ]
  },
  {
   "cell_type": "markdown",
   "id": "543f8edb-b6c6-447e-8354-ab5900ba1cef",
   "metadata": {},
   "source": [
    "## BeautifulSoup"
   ]
  },
  {
   "cell_type": "markdown",
   "id": "8c28d724-6da7-4d9d-b7f3-654e06aeed98",
   "metadata": {},
   "source": [
    "| Concepto              | Explicación | Librería |\n",
    "|-----------------------|------------|------------|\n",
    "| **Web Scraping** | Técnica para extraer datos de páginas web de forma automática mediante código. | |\n",
    "| **BeautifulSoup** | Librería de Python que permite analizar y extraer datos del HTML. | `from bs4 import BeautifulSoup` |\n",
    "| **Requests** | Librería que permite hacer solicitudes HTTP para obtener contenido/ el HTML de páginas web. | `import requests` |\n",
    "\n",
    "---"
   ]
  },
  {
   "cell_type": "markdown",
   "id": "9f15d1c7-6427-46c7-9c00-2524c274fa17",
   "metadata": {},
   "source": [
    "### Extraer el Código HTML de una Página\n",
    "| Paso | Código | Explicación |\n",
    "|------|--------|------------|\n",
    "| **1️⃣ Hacer la solicitud HTTP** | `response = requests.get(\"URL_DEL_SITIO\")` | Descarga el contenido HTML de la página. |\n",
    "| **2️⃣ Obtener el texto HTML** | `html = response.text` | Extrae el código fuente HTML como texto. |\n",
    "| **3️⃣ Crear un objeto usando el constructor BeautifulSoup** | `soup = BeautifulSoup(html, \"html.parser\")` | Convierte el HTML en una estructura de árbol (datos anidada) para manipularlo. |\n",
    "\n",
    "---"
   ]
  },
  {
   "cell_type": "markdown",
   "id": "6ef4cf26-7674-4101-a7ee-c47a83d307f6",
   "metadata": {},
   "source": [
    "### Navegación en BeautifulSoup\n",
    "| Acción | Código | Explicación |\n",
    "|--------|--------|------------|\n",
    "| **Obtener el título de la página** | `soup.title` | Devuelve la etiqueta `<title>`. |\n",
    "| **Obtener solo el texto del título** | `soup.title.text` | Extrae el contenido de `<title>`. |\n",
    "| **Obtener la primera etiqueta específica** | `soup.h3` | Devuelve el primer `<h3>` encontrado en el HTML. |\n",
    "| **Obtener todas las etiquetas de un tipo** | `soup.find_all(\"h3\")` | Encuentra todas las etiquetas `<h3>`. |\n",
    "| **Acceder a los atributos de una etiqueta** | `soup.find(\"a\")[\"href\"]` | Extrae el valor del atributo `href` de la primera etiqueta `<a>`. |\n",
    "\n",
    "---"
   ]
  },
  {
   "cell_type": "markdown",
   "id": "ec906c8b-cd6a-40ae-b40c-7dfd3eea9e85",
   "metadata": {},
   "source": [
    "### Método `find_all()`\n",
    "* Se usa para filtra segun el nombre de la etiqueta, aatributos, el texto de una cadena o combinación de éstos.\n",
    "| Uso | Código | Explicación |\n",
    "|-----|--------|------------|\n",
    "| **Buscar todas las etiquetas `<p>`** | `soup.find_all(\"p\")` | Devuelve una lista con todas las etiquetas `<p>`. |\n",
    "| **Filtrar por clase CSS** | `soup.find_all(\"div\", class_=\"contenido\")` | Busca todos los `<div>` con clase `contenido`. |\n",
    "| **Filtrar por ID** | `soup.find_all(id=\"especial\")` | Encuentra la etiqueta con `id=\"especial\"`. |\n",
    "| **Buscar por texto dentro de una etiqueta** | `soup.find_all(string=\"Python\")` | Busca etiquetas que contengan el texto \"Python\". |\n",
    "\n",
    "---"
   ]
  },
  {
   "cell_type": "markdown",
   "id": "22eecfb3-a104-42ab-8bef-fe809e0abc83",
   "metadata": {},
   "source": [
    "### Navegación en el Árbol del HTML\n",
    "| Método | Código | Explicación |\n",
    "|--------|--------|------------|\n",
    "| **Navegar hacia abajo (hijos)** | `soup.div.contents` | Lista de los hijos de la primera etiqueta `<div>`. |\n",
    "| **Obtener primer hijo de una etiqueta** | `soup.div.p` | Devuelve la primera `<p>` dentro de `<div>`. |\n",
    "| **Navegar hacia arriba (padre)** | `soup.div.parent` | Devuelve el elemento padre de `<div>`. |\n",
    "| **Encontrar el siguiente elemento (hermano)** | `soup.div.next_sibling` | Obtiene el siguiente elemento en el mismo nivel. |\n",
    "| **Encontrar el elemento anterior (hermano)** | `soup.div.previous_sibling` | Obtiene el elemento anterior en el mismo nivel. |\n",
    "\n",
    "---"
   ]
  },
  {
   "cell_type": "markdown",
   "id": "dc14a66b-86c5-4a51-8a64-c67cd48a2217",
   "metadata": {},
   "source": [
    "### Extraer Datos de una Tabla\n",
    "| Paso | Código | Explicación |\n",
    "|------|--------|------------|\n",
    "| **1️⃣ Encontrar la tabla** | `table = soup.find(\"table\")` | Busca la primera tabla en el HTML. |\n",
    "| **2️⃣ Encontrar todas las filas** | `rows = table.find_all(\"tr\")` | Devuelve todas las filas de la tabla. |\n",
    "| **3️⃣ Extraer celdas de cada fila** | `cells = row.find_all(\"td\")` | Extrae las celdas de una fila específica. |\n",
    "| **4️⃣ Iterar sobre todas las filas** | `for row in rows: cells = row.find_all(\"td\")` | Recorre todas las filas y obtiene sus celdas. |\n",
    "\n",
    "---"
   ]
  },
  {
   "cell_type": "markdown",
   "id": "38c7e88d-d4af-4b91-b024-859f9b57c49f",
   "metadata": {},
   "source": [
    "### Ejemplos"
   ]
  },
  {
   "cell_type": "markdown",
   "id": "dea35a69-d903-4bfd-886d-5da82bbf0e22",
   "metadata": {},
   "source": [
    "#### 1). Obtener el HTML de una página web\n",
    "* Para hacer scraping, primero obtenemos el código HTML de la web usando requests."
   ]
  },
  {
   "cell_type": "code",
   "execution_count": null,
   "id": "185fb4a4-684e-4aeb-a10d-fc4475e931e5",
   "metadata": {},
   "outputs": [],
   "source": [
    "import requests  \n",
    "from bs4 import BeautifulSoup  \n",
    "\n",
    "url = \"https://example.com\"  # Página web a extraer  \n",
    "response = requests.get(url)  # Descargar HTML  \n",
    "html = response.text  # Extraer contenido HTML  "
   ]
  },
  {
   "cell_type": "markdown",
   "id": "81f472db-ede7-4fe5-9dfe-3aee5408d2f9",
   "metadata": {},
   "source": [
    "---\n",
    "#### 2). Crear un BeautifulSoup Object\n",
    "* `BeautifulSoup` transforma el HTML en una estructura de árbol para facilitar la extracción de datos.\n",
    "* `BeautifulSoup(html, \"html.parser\")` → Convierte el HTML en un objeto navegable."
   ]
  },
  {
   "cell_type": "code",
   "execution_count": null,
   "id": "a5e555ce-a401-4408-9a9e-611ef4b3de7e",
   "metadata": {},
   "outputs": [],
   "source": [
    "soup = BeautifulSoup(html, \"html.parser\")  "
   ]
  },
  {
   "cell_type": "markdown",
   "id": "bf869359-48b4-45af-a93d-43b2c8565a53",
   "metadata": {},
   "source": [
    "---\n",
    "#### 3). Navegación en el árbol HTML\n",
    "* `BeautifulSoup` representa el HTML como un árbol de nodos. Podemos navegar y extraer información de distintas maneras.\n",
    "  - `soup.title` → Obtiene la primera etiqueta `<title>` encontrada en el documento.\n",
    "  - `text` → Extrae solo el texto de la etiqueta."
   ]
  },
  {
   "cell_type": "code",
   "execution_count": null,
   "id": "fe32cad8-b186-4124-8da4-00dd32eae0eb",
   "metadata": {},
   "outputs": [],
   "source": [
    "title_tag = soup.title  \n",
    "print(title_tag.text)  # Imprime el contenido de la etiqueta <title>"
   ]
  },
  {
   "cell_type": "markdown",
   "id": "b8e12853-ee58-4431-a333-bac7cddc92c7",
   "metadata": {},
   "source": [
    "---\n",
    "##### 3.1). Métodos de navegación en BeautifulSoup\n",
    "* Podemos movernos en el árbol HTML con varios métodos."
   ]
  },
  {
   "cell_type": "markdown",
   "id": "f55a9b8b-3ad7-4fca-9f54-6b11b045c1b5",
   "metadata": {},
   "source": [
    "---\n",
    "a) *Acceder a etiquetas hijas*\n",
    "- `.contents` → Lista de todos los elementos dentro del `<div>`."
   ]
  },
  {
   "cell_type": "code",
   "execution_count": null,
   "id": "0e954c44-b518-4c6f-8145-6946b3fdb9f9",
   "metadata": {},
   "outputs": [],
   "source": [
    "div = soup.find(\"div\")  \n",
    "print(div.contents)  # Lista de elementos dentro del div"
   ]
  },
  {
   "cell_type": "markdown",
   "id": "4ceddc9b-8ec2-4208-a281-dcc10d0ef068",
   "metadata": {},
   "source": [
    "---\n",
    "b) *Acceder al padre de una etiqueta*\n",
    "- `.parent` →  Accede a la etiqueta superior del `<div>`."
   ]
  },
  {
   "cell_type": "code",
   "execution_count": null,
   "id": "ea6091e6-3774-4347-a1cb-7e4aab03ba93",
   "metadata": {},
   "outputs": [],
   "source": [
    "parent = div.parent  \n",
    "print(parent.name)  # Nombre de la etiqueta padre"
   ]
  },
  {
   "cell_type": "markdown",
   "id": "a53ab0c4-cd6f-45ff-af3b-6be21b140e60",
   "metadata": {},
   "source": [
    "---\n",
    "c) *Acceder a hermanos de una etiqueta*\n",
    "- `.next_sibling` →  Encuentra la siguiente etiqueta en el mismo nivel."
   ]
  },
  {
   "cell_type": "code",
   "execution_count": null,
   "id": "8016b3bf-b9ed-417f-a8b8-f3b708670b6f",
   "metadata": {},
   "outputs": [],
   "source": [
    "sibling = div.next_sibling  \n",
    "print(sibling)  "
   ]
  },
  {
   "cell_type": "markdown",
   "id": "a4c7aa38-e29a-452f-8dc2-04b634093d19",
   "metadata": {},
   "source": [
    "---\n",
    "#### 4). Extraer contenido con `find_all()`\n",
    "* `find_all()` permite buscar todas las etiquetas con un nombre específico."
   ]
  },
  {
   "cell_type": "markdown",
   "id": "4eed9565-5ee4-4139-a789-1c9bfb63fe80",
   "metadata": {},
   "source": [
    "\n",
    "a) *Extraer todas las etiquetas* `<h3>`\n",
    "- `.find_all(\"h3\")` → Busca todas las etiquetas `<h3>`.\n",
    "- `tag.text` → Extrae solo el texto dentro de la etiqueta.\n"
   ]
  },
  {
   "cell_type": "code",
   "execution_count": null,
   "id": "bc2ae7db-dcc8-4c07-8536-1e317731fc24",
   "metadata": {},
   "outputs": [],
   "source": [
    "h3_tags = soup.find_all(\"h3\")  \n",
    "for tag in h3_tags:\n",
    "    print(tag.text)  # Imprime el texto de cada <h3>"
   ]
  },
  {
   "cell_type": "markdown",
   "id": "34b45ab9-fb47-439b-a652-08448773d1fc",
   "metadata": {},
   "source": [
    "---\n",
    "#### 5). Extraer datos de una tabla HTML\n",
    "* Podemos extraer información de una tabla usando `find_all()`\n",
    "  - `.find(\"table\")` → Encuentra la primera tabla en el HTML.\n",
    "  - `.find_all(\"tr\")` → Encuentra todas las filas `<tr>`.\n",
    "  - `.find_all(\"td\")` → Encuentra todas las celdas `<td>` dentro de cada fila.\n",
    "  - `.strip()` → Elimina espacios innecesarios."
   ]
  },
  {
   "cell_type": "code",
   "execution_count": null,
   "id": "f2643d47-6549-498e-b43c-78428dde7ec6",
   "metadata": {},
   "outputs": [],
   "source": [
    "table = soup.find(\"table\")  \n",
    "rows = table.find_all(\"tr\")  # Encuentra todas las filas  \n",
    "\n",
    "for row in rows:\n",
    "    cells = row.find_all(\"td\")  # Encuentra todas las celdas  \n",
    "    for cell in cells:\n",
    "        print(cell.text.strip())  # Extrae y limpia el texto  "
   ]
  },
  {
   "cell_type": "markdown",
   "id": "be571001-a6dd-49f8-8b8b-5163d1fc755e",
   "metadata": {},
   "source": [
    "---\n",
    "#### 6). Scraping de una página web completa\n",
    "* Podemos combinar requests y BeautifulSoup para obtener datos de una web real.\n",
    "  - Se hace la petición ` HTTP`  con ` requests.get()` .\n",
    "  - Se crea un objeto ` BeautifulSoup`  con el ` HTML`  descargado.\n",
    "  - Se buscan todas las etiquetas ` <h2>`  con ` .find_all()` .\n",
    "  - Se imprimen los títulos extraídos."
   ]
  },
  {
   "cell_type": "code",
   "execution_count": null,
   "id": "b29b4ef2-02bf-42c6-999a-c4cf66f8f0b9",
   "metadata": {},
   "outputs": [],
   "source": [
    "import requests  \n",
    "from bs4 import BeautifulSoup  \n",
    "\n",
    "# Obtener el HTML de la página  \n",
    "url = \"https://example.com\"  \n",
    "response = requests.get(url)  \n",
    "html = response.text  \n",
    "\n",
    "# Crear un objeto BeautifulSoup  \n",
    "soup = BeautifulSoup(html, \"html.parser\")  \n",
    "\n",
    "# Extraer información (ejemplo: todas las etiquetas <h2>)  \n",
    "titles = soup.find_all(\"h2\")  \n",
    "for title in titles:\n",
    "    print(title.text)"
   ]
  },
  {
   "cell_type": "markdown",
   "id": "9578bc75-6b24-4f23-8394-c07c71c89085",
   "metadata": {},
   "source": [
    "## Scrapy\n",
    "* Scrapy es un framework de trabajo de rastreo web de código abierto y colaborativo para Python.\n",
    "* *Se utiliza para extraer datos de los sitios web.*\n",
    "* Permite navegar sitios web, extraer información específica y almacenarla en formatos como JSON, CSV o bases de datos."
   ]
  },
  {
   "cell_type": "markdown",
   "id": "78842b1b-71a9-43ca-a873-f0cc56945484",
   "metadata": {},
   "source": [
    "### Ejemplo"
   ]
  },
  {
   "cell_type": "code",
   "execution_count": null,
   "id": "6f29858e-54c3-4454-a174-9952ebdaeed4",
   "metadata": {},
   "outputs": [],
   "source": [
    "import scrapy\n",
    "class QuotesSpider(scrapy.Spider):\n",
    "    name = \"quotes\"\n",
    "    start_urls = ['http://quotes.toscrape.com/tag/humor/',]\n",
    "    def parse(self, response):\n",
    "        for quote in response.css('div.quote'):\n",
    "            yield {'quote': quote.css('span.text::text').get()}"
   ]
  },
  {
   "cell_type": "markdown",
   "id": "da31de26-fc76-4402-9731-47024bcf6d65",
   "metadata": {},
   "source": [
    "## Selenium\n",
    "* Selenium es una herramienta utilizada para controlar navegadores web a través de programas y automatizar tareas en el navegador."
   ]
  },
  {
   "cell_type": "markdown",
   "id": "3a3aefcb-31d1-4b16-8592-25e3634118d3",
   "metadata": {},
   "source": [
    "### Ejemplo"
   ]
  },
  {
   "cell_type": "code",
   "execution_count": null,
   "id": "5591a2bc-88d3-4e04-b136-54f157dce975",
   "metadata": {},
   "outputs": [],
   "source": [
    "from selenium import webdriver\n",
    "driver = webdriver.Firefox()\n",
    "driver.get(\"http://www.example.com\")"
   ]
  },
  {
   "cell_type": "markdown",
   "id": "196eec2a-2bb6-4e94-a2fe-0510cb980348",
   "metadata": {},
   "source": [
    "## Extraer tablas web con Pandas"
   ]
  },
  {
   "cell_type": "markdown",
   "id": "2d3fd1b4-ab1e-4e3d-957e-2e4ea4d25f8f",
   "metadata": {},
   "source": [
    "#### Instalar dependencias necesarias"
   ]
  },
  {
   "cell_type": "code",
   "execution_count": null,
   "id": "f757135f-e907-42e1-beb5-73b0375e1bac",
   "metadata": {},
   "outputs": [],
   "source": [
    "!pip install lxml html5lib beautifulsoup4"
   ]
  },
  {
   "cell_type": "markdown",
   "id": "a97db714-3058-4e5f-93fe-10164debec92",
   "metadata": {},
   "source": [
    "#### Ejecutar el código para extraer la tabla"
   ]
  },
  {
   "cell_type": "code",
   "execution_count": 12,
   "id": "7f9ca90f-db91-4041-a050-8c45436a1ce4",
   "metadata": {},
   "outputs": [
    {
     "name": "stdout",
     "output_type": "stream",
     "text": [
      "    Rank                                Bank name  \\\n",
      "0      1  Industrial and Commercial Bank of China   \n",
      "1      2               Agricultural Bank of China   \n",
      "2      3                  China Construction Bank   \n",
      "3      4                            Bank of China   \n",
      "4      5                           JPMorgan Chase   \n",
      "..   ...                                      ...   \n",
      "95    96                         Raiffeisen Group   \n",
      "96    97                            Handelsbanken   \n",
      "97    98                 Industrial Bank of Korea   \n",
      "98    99                                      DNB   \n",
      "99   100                      Qatar National Bank   \n",
      "\n",
      "    Total assets (2023) (US$ billion)  \n",
      "0                             6303.44  \n",
      "1                             5623.12  \n",
      "2                             5400.28  \n",
      "3                             4578.28  \n",
      "4                             3875.39  \n",
      "..                                ...  \n",
      "95                             352.87  \n",
      "96                             351.79  \n",
      "97                             345.81  \n",
      "98                             339.21  \n",
      "99                             338.14  \n",
      "\n",
      "[100 rows x 3 columns]\n"
     ]
    }
   ],
   "source": [
    "import pandas as pd\n",
    "\n",
    "URL = 'https://en.wikipedia.org/wiki/List_of_largest_banks'\n",
    "tables = pd.read_html(URL)\n",
    "df = tables[0]  # Seleccionar la primera tabla\n",
    "print(df)\n"
   ]
  },
  {
   "cell_type": "code",
   "execution_count": null,
   "id": "d20722a3-97ec-49d0-8291-461759c51624",
   "metadata": {},
   "outputs": [],
   "source": []
  }
 ],
 "metadata": {
  "kernelspec": {
   "display_name": "Python 3 (ipykernel)",
   "language": "python",
   "name": "python3"
  },
  "language_info": {
   "codemirror_mode": {
    "name": "ipython",
    "version": 3
   },
   "file_extension": ".py",
   "mimetype": "text/x-python",
   "name": "python",
   "nbconvert_exporter": "python",
   "pygments_lexer": "ipython3",
   "version": "3.12.3"
  }
 },
 "nbformat": 4,
 "nbformat_minor": 5
}
