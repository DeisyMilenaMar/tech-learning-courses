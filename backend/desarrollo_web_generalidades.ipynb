{
 "cells": [
  {
   "cell_type": "markdown",
   "id": "ab7edfab-6e5f-43ca-8882-45fb850c8ea3",
   "metadata": {},
   "source": [
    "## Conceptos Básicos de Desarrollo Web\n",
    "| Concepto | Descripción |\n",
    "|----------|------------|\n",
    "| **HTML** | Define la estructura de las páginas web. |\n",
    "| **CSS** | Se usa para estilizar la apariencia de las páginas web. |\n",
    "| **JavaScript** | Permite agregar interactividad en el lado del cliente. |\n",
    "| **Web Server** | Programa que maneja solicitudes HTTP y entrega contenido web. |\n",
    "| **Base de Datos** | Almacena y gestiona datos para una aplicación web. |\n",
    "| **Framework** | Conjunto de herramientas y estructuras que facilitan el desarrollo web. |\n",
    "| **Proyecto estático** | Contiene HTML, CSS, JavaScript e imágenes, pero sin funcionalidad avanzada. |\n",
    "| **Proyecto dinámico** | Requiere gestionar estado, acceder y almacenar datos, utilizando frameworks como Django. |\n",
    "\n",
    "---"
   ]
  },
  {
   "cell_type": "markdown",
   "id": "a24a796c-8683-4bda-ac9f-8b5d525d0726",
   "metadata": {},
   "source": [
    "### Conceptos fundamentales de una aplicación web\n",
    "| Concepto | Descripción |\n",
    "|----------|------------|\n",
    "| **HTTP (Hypertext Transfer Protocol)** | Protocolo utilizado para enviar y recibir contenido web. |\n",
    "| **Servidor web** | Programa que recibe peticiones HTTP y responde con el contenido solicitado. |\n",
    "| **Stateless** | El protocolo HTTP no mantiene información entre peticiones. |\n",
    "| **Base de datos** | Permite almacenar y recuperar datos enviados por los usuarios. |\n",
    "\n",
    "---"
   ]
  },
  {
   "cell_type": "markdown",
   "id": "e4f4fc2d-3000-4245-996b-21b08532e9aa",
   "metadata": {},
   "source": [
    "### Front-End vs Back-End \n",
    "\n",
    "| **Parte** | **Descripción** | **Ejemplo** |\n",
    "|----------|----------------|-------------|\n",
    "| **Front-End** | Interfaz con la que interactúa el usuario a través del navegador. | HTML, CSS, JavaScript, React. |\n",
    "| **Back-End** | Procesa lógica de negocio, maneja bases de datos, seguridad y autenticación. | Django, Flask, Express.js. |\n",
    "\n",
    "---"
   ]
  },
  {
   "cell_type": "markdown",
   "id": "5fba4df9-82c2-4750-8c95-74cb67e54c5e",
   "metadata": {},
   "source": [
    "### Three-Tier Architecture (Arquitectura de Tres Capas)\n",
    "![Captura desde 2025-02-11 16-34-57.png](attachment:1bcfc919-a100-4500-9bfb-f263a7ccfbc7.png)\n",
    "| **Capa** | **Descripción** | **Ejemplos** |\n",
    "|---------|---------------|-------------|\n",
    "| **Presentation Tier** | Capa con la que interactúa el usuario desde navegadores o dispositivos móviles. | React, Angular, Vue.js. |\n",
    "| **Application Tier** | Lógica de negocio de la aplicación, procesa datos y los almacena en la base de datos. | Django, Flask, Node.js. |\n",
    "| **Data Tier** | Almacena y recupera información, usualmente mediante bases de datos. | PostgreSQL, MySQL, SQLite. |\n",
    "\n",
    "---"
   ]
  },
  {
   "cell_type": "code",
   "execution_count": null,
   "id": "1e10805f-e5f6-4ff2-8218-6860f9a18772",
   "metadata": {},
   "outputs": [],
   "source": []
  }
 ],
 "metadata": {
  "kernelspec": {
   "display_name": "Python 3 (ipykernel)",
   "language": "python",
   "name": "python3"
  },
  "language_info": {
   "codemirror_mode": {
    "name": "ipython",
    "version": 3
   },
   "file_extension": ".py",
   "mimetype": "text/x-python",
   "name": "python",
   "nbconvert_exporter": "python",
   "pygments_lexer": "ipython3",
   "version": "3.12.3"
  }
 },
 "nbformat": 4,
 "nbformat_minor": 5
}
