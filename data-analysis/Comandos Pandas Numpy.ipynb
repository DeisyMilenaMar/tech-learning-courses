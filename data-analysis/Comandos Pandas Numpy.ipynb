{
 "cells": [
  {
   "cell_type": "markdown",
   "id": "dfe585c7-8f39-457f-b19f-ebae78913529",
   "metadata": {},
   "source": [
    "# Pandas"
   ]
  },
  {
   "cell_type": "markdown",
   "id": "dc7513fb-defa-4aad-a537-7024aab3818f",
   "metadata": {
    "jp-MarkdownHeadingCollapsed": true
   },
   "source": [
    "#### Cambiar el índice de un DataFrame"
   ]
  },
  {
   "cell_type": "markdown",
   "id": "ef004317-bb18-4ac6-b584-36a858a169c8",
   "metadata": {},
   "source": [
    "**Sintaxis general**:\n",
    "- **keys: (requerido)** Especifica la(s) columna(s) que se utilizarán como el nuevo índice.\n",
    "- **inplace: (opcional**, por defecto False) Si es True, realiza la operación directamente sobre el DataFrame."
   ]
  },
  {
   "cell_type": "code",
   "execution_count": null,
   "id": "a2decd5a-1269-4ef7-87d9-a58976f78fb8",
   "metadata": {},
   "outputs": [],
   "source": [
    "DataFrame.set_index(keys, drop=True, append=False, inplace=False, verify_integrity=False)"
   ]
  },
  {
   "cell_type": "markdown",
   "id": "e29315c6-d49d-4b2a-8447-edc29f58915a",
   "metadata": {},
   "source": [
    "**Sintaxis básica**:"
   ]
  },
  {
   "cell_type": "code",
   "execution_count": null,
   "id": "767bbaa5-3b37-4110-a9fc-faf88b2e1a26",
   "metadata": {},
   "outputs": [],
   "source": [
    "df.set_index('columna', inplace=True)"
   ]
  },
  {
   "cell_type": "markdown",
   "id": "a34c41b7-17d9-4e1c-ae3b-0c178687de36",
   "metadata": {},
   "source": [
    "####  Eliminar el nombre del índice de un DataFrame"
   ]
  },
  {
   "cell_type": "markdown",
   "id": "c95c22a1-efe5-4a87-84d3-fb8c6310c8a3",
   "metadata": {
    "jp-MarkdownHeadingCollapsed": true
   },
   "source": [
    "####  Selección de filas y columnas específicas"
   ]
  },
  {
   "cell_type": "markdown",
   "id": "c4d89ce3-3001-44e8-8e1d-ffab85c36a3f",
   "metadata": {},
   "source": [
    "- *columnas_interes*: Es una lista con las columnas que quieres seleccionar. Ejemplo: ['2000', '2001', '2002']."
   ]
  },
  {
   "cell_type": "markdown",
   "id": "77ca58c0-c65c-4d9b-aefe-ea68023e0afe",
   "metadata": {},
   "source": [
    "**Sintaxis básica**:"
   ]
  },
  {
   "cell_type": "code",
   "execution_count": null,
   "id": "d0904496-2408-49cf-b069-5f83dc4891d1",
   "metadata": {},
   "outputs": [],
   "source": [
    "# Suponiendo que tienes un DataFrame llamado `df` y una lista de años o columnas de interés\n",
    "data_subset = df.loc['Nombre_Fila', columnas_interes]"
   ]
  },
  {
   "cell_type": "markdown",
   "id": "fae3d96c-11d2-4ae6-b5dc-c09125b34daf",
   "metadata": {
    "jp-MarkdownHeadingCollapsed": true
   },
   "source": [
    "####  Convierte los índices a enteros "
   ]
  },
  {
   "cell_type": "markdown",
   "id": "c26b2c98-487c-4d46-a890-598ea8367b7a",
   "metadata": {},
   "source": [
    "- *index.map()*: Aplica una función (en este caso int) a cada elemento del índice."
   ]
  },
  {
   "cell_type": "markdown",
   "id": "1c7b8b60-62b1-4a16-a0c9-cdb013724656",
   "metadata": {},
   "source": [
    "**Sintaxis básica**:"
   ]
  },
  {
   "cell_type": "code",
   "execution_count": null,
   "id": "5b4e567c-6b38-463f-a497-c16993599182",
   "metadata": {},
   "outputs": [],
   "source": [
    "data_subset.index = data_subset.index.map(int)"
   ]
  },
  {
   "cell_type": "markdown",
   "id": "32dd3cd8-6857-4b0f-ab29-f25b0955fdbb",
   "metadata": {
    "jp-MarkdownHeadingCollapsed": true
   },
   "source": [
    "# Comandos Python"
   ]
  },
  {
   "cell_type": "markdown",
   "id": "1c7eaf74-bb6b-4478-b30a-9ba17a1f98d0",
   "metadata": {},
   "source": [
    "#### Generar una lista como cadenas de texto"
   ]
  },
  {
   "cell_type": "markdown",
   "id": "3ef263d2-9081-449d-8c04-3f8d038eb956",
   "metadata": {},
   "source": [
    "**Sintaxis básica**:\n",
    "- *map(función, iterable)*: Aplica una función (en este caso $str$ para convertir números a cadenas) "
   ]
  },
  {
   "cell_type": "code",
   "execution_count": null,
   "id": "0402c85b-5754-4bc3-9e00-542b0c23883c",
   "metadata": {},
   "outputs": [],
   "source": [
    "years = list(map(str, range(inicio, fin)))"
   ]
  }
 ],
 "metadata": {
  "kernelspec": {
   "display_name": "Python 3 (ipykernel)",
   "language": "python",
   "name": "python3"
  },
  "language_info": {
   "codemirror_mode": {
    "name": "ipython",
    "version": 3
   },
   "file_extension": ".py",
   "mimetype": "text/x-python",
   "name": "python",
   "nbconvert_exporter": "python",
   "pygments_lexer": "ipython3",
   "version": "3.12.3"
  }
 },
 "nbformat": 4,
 "nbformat_minor": 5
}
