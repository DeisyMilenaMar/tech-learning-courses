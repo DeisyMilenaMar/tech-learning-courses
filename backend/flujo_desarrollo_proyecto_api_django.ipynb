{
 "cells": [
  {
   "cell_type": "markdown",
   "id": "04902453-022b-480f-ba90-3b3590d390fb",
   "metadata": {},
   "source": [
    "## Flujo : Proyecto Django"
   ]
  },
  {
   "cell_type": "markdown",
   "id": "5ccd0f34-5527-454b-9343-098575c12e8f",
   "metadata": {},
   "source": [
    "\n",
    "| **#** | **Paso** | **Comando / Acción** | **Función** | **Salida esperada** |\n",
    "|---|---|---|---|---|\n",
    "| **1** | **Crear un entorno virtual** | `python -m venv myenv` | Crea un entorno virtual para aislar dependencias. | Se genera la carpeta `myenv`. |\n",
    "| **2** | **Activar el entorno virtual** | - **Windows:** `myenv\\Scripts\\activate` <br> - **Mac/Linux:** `source myenv/bin/activate` | Activa el entorno virtual en la terminal. | El prompt cambia, indicando que el entorno está activado. |\n",
    "| **3** | **Instalar Django y dependencias** | `pip install django djangorestframework psycopg2-binary` | Instala Django, DRF y el conector de PostgreSQL. | Django y librerías instaladas. |\n",
    "| **4** | **Verificar instalación** | `django-admin --version` | Confirma que Django está instalado. | Muestra la versión de Django. |\n",
    "| **5** | **Crear el proyecto Django** | `django-admin startproject myproject` | Genera la estructura del proyecto. | Carpeta `myproject` creada con archivos base. |\n",
    "| **6** | **Entrar en el proyecto** | `cd myproject` | Cambia el directorio actual al del proyecto. | Terminal dentro de `myproject`. |\n",
    "| **7** | **Crear una aplicación** | `python manage.py startapp myapp` | Crea una app llamada `myapp`. | Carpeta `myapp` generada. |\n",
    "| **8** | **Registrar la app en Django** | Agregar `'myapp',` en `INSTALLED_APPS` en `settings.py` | Permite que Django reconozca la nueva app. | App lista para ser usada. |\n",
    "| **9** | **Configurar la base de datos con PostgreSQL** | Editar `DATABASES` en `settings.py`| Configura PostgreSQL como base de datos en vez de SQLite. | PostgreSQL listo para conexión. |\n",
    "| **10** | **Crear modelos en `models.py`** | Definir modelos en `myapp/models.py`| Define la estructura de los datos en la base de datos. | Modelo `Producto` creado. |\n",
    "| **11** | **Crear y aplicar migraciones** | `python manage.py makemigrations` <br> `python manage.py migrate` | Crea y aplica las migraciones en la base de datos. | Se generan las tablas en PostgreSQL. |\n",
    "| **12** | **Crear un superusuario** | `python manage.py createsuperuser` | Crea un usuario administrador para el panel de Django. | Se solicita usuario, email y contraseña. |\n",
    "| **13** | **Definir vistas en `views.py`** | Crear vista en `myapp/views.py` | Define la lógica para renderizar la página principal. | Vista `home` creada. |\n",
    "| **14** | **Configurar rutas en `urls.py`** | En `myapp/urls.py` | Define la URL para la vista `home`. | `http://127.0.0.1:8000/` mostrará la vista `home.html`. |\n",
    "| **15** | **Crear plantillas y archivos estáticos** | - Crear carpeta `templates/` dentro de `myapp` <br> - Crear carpeta `static/` dentro de `myapp` y agregar archivos CSS. | Define el HTML de la aplicación y los archivos estáticos. | Plantillas y estilos listos. |\n",
    "| **16** | **Ejecutar el servidor** | `python manage.py runserver` | Inicia el servidor de desarrollo. | `http://127.0.0.1:8000/` muestra `home.html`. |\n",
    "| **17** | **Configurar Docker con `Dockerfile`** | Crear un archivo `Dockerfile` | Define la imagen de Docker para el proyecto. | Archivo `Dockerfile` listo. |\n",
    "| **18** | **Configurar Docker Compose** | Crear `docker-compose.yml` | Define los servicios de Django y PostgreSQL en Docker. | Archivo `docker-compose.yml` listo. |\n",
    "| **19** | **Construir y levantar los contenedores** | `docker-compose up --build` | Inicia la aplicación Django y PostgreSQL en Docker. | Contenedores ejecutándose. |\n",
    "| **20** | **Verificar la API con Django Rest Framework** | Crear una vista en `views.py` | Crea una API básica con DRF. | API accesible en `http://127.0.0.1:8000/api/hello/`. |\n",
    "| **21** | **Configurar `urls.py` para la API** | En `myapp/urls.py` | Define la ruta para la API de prueba. | `http://127.0.0.1:8000/api/hello/` responde con JSON. |\n",
    "| **22** | **Probar la API en Postman o navegador** | Ir a `http://127.0.0.1:8000/api/hello/` | Confirma que la API responde correctamente. | `{ \"message\": \"Hello, API!\" }` |\n",
    "\n",
    "---"
   ]
  }
 ],
 "metadata": {
  "kernelspec": {
   "display_name": "Python 3 (ipykernel)",
   "language": "python",
   "name": "python3"
  },
  "language_info": {
   "codemirror_mode": {
    "name": "ipython",
    "version": 3
   },
   "file_extension": ".py",
   "mimetype": "text/x-python",
   "name": "python",
   "nbconvert_exporter": "python",
   "pygments_lexer": "ipython3",
   "version": "3.12.3"
  }
 },
 "nbformat": 4,
 "nbformat_minor": 5
}
